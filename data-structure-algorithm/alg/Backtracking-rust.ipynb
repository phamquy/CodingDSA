{
 "cells": [
  {
   "cell_type": "markdown",
   "id": "4c398cd6",
   "metadata": {},
   "source": [
    "## Backtracking\n",
    "What: Systematic exploration of solution spaces by incrementally building candidates and abandoning (\"backtracking\") those that cannot lead to valid solutions.\n",
    "\n",
    "When to use:\n",
    "- Combinatorial problems: generating all permutations, combinations, subsets\n",
    "- Constraint satisfaction: N-Queens, Sudoku solving, graph coloring\n",
    "- Path finding: finding all paths in a maze or graph with certain properties\n",
    "\n",
    "Key insight: Build solutions incrementally; as soon as you determine a partial candidate cannot lead to a valid solution, abandon it and backtrack.\n",
    "\n",
    "Template:\n",
    "```python\n",
    "def backtrack(path, choices):\n",
    "    if is_complete(path):\n",
    "        process_solution(path)\n",
    "        return\n",
    "    for choice in get_choices(path):\n",
    "        if is_valid(path + [choice]):\n",
    "            path.append(choice)\n",
    "            backtrack(path, remaining_choices)\n",
    "            path.pop()  # backtrack\n",
    "```\n",
    "\n",
    "Complexity: Exponential in worst case, but pruning can dramatically reduce the search space.\n",
    "\n",
    "Edge cases: Empty input, constraints that make no solution possible, duplicate handling."
   ]
  },
  {
   "cell_type": "code",
   "execution_count": 4,
   "id": "3376003c",
   "metadata": {
    "vscode": {
     "languageId": "rust"
    }
   },
   "outputs": [
    {
     "name": "stdout",
     "output_type": "stream",
     "text": [
      "Subsets of [1,2,3]: [[1, 2, 3], [1, 2], [1, 3], [1], [2, 3], [2], [3], []]\n"
     ]
    }
   ],
   "source": [
    "use std::collections::HashSet;\n",
    "\n",
    "// 1) Subsets (power set)\n",
    "fn subsets(nums: &[i32]) -> Vec<Vec<i32>> {\n",
    "    let mut res: Vec<Vec<i32>> = Vec::new();\n",
    "    let mut path: Vec<i32> = Vec::new();\n",
    "\n",
    "    fn dfs(nums: &[i32], path: &mut Vec<i32>, res: &mut Vec<Vec<i32>>, i: usize) {\n",
    "        if i == nums.len() {\n",
    "            res.push(path.clone());\n",
    "            return;\n",
    "        }\n",
    "        // choice: include nums[i]\n",
    "        path.push(nums[i]);\n",
    "        dfs(nums, path, res, i + 1);\n",
    "        path.pop();\n",
    "        // choice: exclude nums[i]\n",
    "        dfs(nums, path, res, i + 1);\n",
    "    }\n",
    "\n",
    "    dfs(nums, &mut path, &mut res, 0);\n",
    "    res\n",
    "}\n",
    "\n",
    "println!(\"Subsets of [1,2,3]: {:?}\", subsets(&[1, 2, 3]));\n"
   ]
  },
  {
   "cell_type": "code",
   "execution_count": 5,
   "id": "4cf96a3a",
   "metadata": {
    "vscode": {
     "languageId": "rust"
    }
   },
   "outputs": [
    {
     "name": "stdout",
     "output_type": "stream",
     "text": [
      "Permutations of [1,2,3] (first 3): [[1, 2, 3], [1, 3, 2], [2, 1, 3]]\n"
     ]
    }
   ],
   "source": [
    "// 2) Permutations\n",
    "fn permute(nums: &[i32]) -> Vec<Vec<i32>> {\n",
    "    let mut res: Vec<Vec<i32>> = Vec::new();\n",
    "    let mut path: Vec<i32> = Vec::new();\n",
    "    let mut used = vec![false; nums.len()];\n",
    "\n",
    "    fn dfs(nums: &[i32], path: &mut Vec<i32>, used: &mut [bool], res: &mut Vec<Vec<i32>>) {\n",
    "        if path.len() == nums.len() {\n",
    "            res.push(path.clone());\n",
    "            return;\n",
    "        }\n",
    "        for (i, &val) in nums.iter().enumerate() {\n",
    "            if used[i] {\n",
    "                continue;\n",
    "            }\n",
    "            used[i] = true;\n",
    "            path.push(val);\n",
    "            dfs(nums, path, used, res);\n",
    "            path.pop();\n",
    "            used[i] = false;\n",
    "        }\n",
    "    }\n",
    "\n",
    "    dfs(nums, &mut path, &mut used, &mut res);\n",
    "    res\n",
    "}\n",
    "\n",
    "let perms = permute(&[1, 2, 3]);\n",
    "println!(\"Permutations of [1,2,3] (first 3): {:?}\", &perms[..3.min(perms.len())]);"
   ]
  },
  {
   "cell_type": "code",
   "execution_count": 9,
   "id": "cf0dd0f6",
   "metadata": {
    "vscode": {
     "languageId": "rust"
    }
   },
   "outputs": [
    {
     "name": "stdout",
     "output_type": "stream",
     "text": [
      "N-Queens n=4 solutions:\n",
      ".Q..\n",
      "...Q\n",
      "Q...\n",
      "..Q.\n",
      "..Q.\n",
      "Q...\n",
      "...Q\n",
      ".Q..\n"
     ]
    },
    {
     "data": {
      "text/plain": [
       "()"
      ]
     },
     "execution_count": 9,
     "metadata": {},
     "output_type": "execute_result"
    }
   ],
   "source": [
    "// 3) N-Queens\n",
    "fn solve_n_queens(n: usize) -> Vec<Vec<String>> {\n",
    "    let mut res: Vec<Vec<String>> = Vec::new();\n",
    "    let mut cols: HashSet<usize> = HashSet::new();\n",
    "    let mut diag1: HashSet<i32> = HashSet::new(); // r - c\n",
    "    let mut diag2: HashSet<usize> = HashSet::new(); // r + c\n",
    "    let mut board = vec![vec!['.'; n]; n];\n",
    "\n",
    "    fn dfs(\n",
    "        board: &mut Vec<Vec<char>>,\n",
    "        res: &mut Vec<Vec<String>>,\n",
    "        cols: &mut HashSet<usize>,\n",
    "        diag1: &mut HashSet<i32>,\n",
    "        diag2: &mut HashSet<usize>,\n",
    "        r: usize,\n",
    "        n: usize,\n",
    "    ) {\n",
    "        if r == n {\n",
    "            res.push(board.iter().map(|row| row.iter().collect()).collect());\n",
    "            return;\n",
    "        }\n",
    "        for c in 0..n {\n",
    "            if cols.contains(&c) || diag1.contains(&(r as i32 - c as i32)) || diag2.contains(&(r + c)) {\n",
    "                continue;\n",
    "            }\n",
    "            cols.insert(c);\n",
    "            diag1.insert(r as i32 - c as i32);\n",
    "            diag2.insert(r + c);\n",
    "            board[r][c] = 'Q';\n",
    "            dfs(board, res, cols, diag1, diag2, r + 1, n);\n",
    "            board[r][c] = '.';\n",
    "            cols.remove(&c);\n",
    "            diag1.remove(&(r as i32 - c as i32));\n",
    "            diag2.remove(&(r + c));\n",
    "        }\n",
    "    }\n",
    "\n",
    "    dfs(&mut board, &mut res, &mut cols, &mut diag1, &mut diag2, 0, n);\n",
    "    res\n",
    "}\n",
    "\n",
    "\n",
    "println!(\"N-Queens n=4 solutions:\");\n",
    "for sol in solve_n_queens(4) {\n",
    "    for row in sol {\n",
    "        println!(\"{}\", row);\n",
    "    }\n",
    "}\n"
   ]
  },
  {
   "cell_type": "code",
   "execution_count": 8,
   "id": "e9b55c1a",
   "metadata": {
    "vscode": {
     "languageId": "rust"
    }
   },
   "outputs": [
    {
     "name": "stdout",
     "output_type": "stream",
     "text": [
      "Combination Sum for [2,3,6,7], target=7: [[2, 2, 3], [7]]\n"
     ]
    }
   ],
   "source": [
    "// 4) Combination Sum (repetition allowed)\n",
    "fn combination_sum(candidates: &[i32], target: i32) -> Vec<Vec<i32>> {\n",
    "    let mut candidates = candidates.to_vec();\n",
    "    candidates.sort();\n",
    "    let mut res: Vec<Vec<i32>> = Vec::new();\n",
    "    let mut path: Vec<i32> = Vec::new();\n",
    "\n",
    "    fn dfs(candidates: &[i32], path: &mut Vec<i32>, res: &mut Vec<Vec<i32>>, start: usize, remain: i32) {\n",
    "        if remain == 0 {\n",
    "            res.push(path.clone());\n",
    "            return;\n",
    "        }\n",
    "        for i in start..candidates.len() {\n",
    "            let c = candidates[i];\n",
    "            if c > remain {\n",
    "                break;\n",
    "            }\n",
    "            path.push(c);\n",
    "            dfs(candidates, path, res, i, remain - c); // i again allows reuse\n",
    "            path.pop();\n",
    "        }\n",
    "    }\n",
    "\n",
    "    dfs(&candidates, &mut path, &mut res, 0, target);\n",
    "    res\n",
    "}\n",
    "\n",
    "\n",
    "println!(\"Combination Sum for [2,3,6,7], target=7: {:?}\", combination_sum(&[2,3,6,7], 7));\n"
   ]
  }
 ],
 "metadata": {
  "kernelspec": {
   "display_name": "Rust",
   "language": "rust",
   "name": "rust"
  },
  "language_info": {
   "codemirror_mode": "rust",
   "file_extension": ".rs",
   "mimetype": "text/rust",
   "name": "Rust",
   "pygment_lexer": "rust",
   "version": ""
  }
 },
 "nbformat": 4,
 "nbformat_minor": 5
}
