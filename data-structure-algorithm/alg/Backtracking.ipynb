{
 "cells": [
  {
   "cell_type": "code",
   "execution_count": null,
   "id": "b76f1fbc",
   "metadata": {},
   "outputs": [],
   "source": [
    "%%HTML\n",
    "<style>\n",
    "    body {\n",
    "        --vscode-font-family: \"Noto Serif\"\n",
    "    }\n",
    "</style>"
   ]
  },
  {
   "cell_type": "markdown",
   "id": "998227f9",
   "metadata": {},
   "source": [
    "# Backtracking: algorithm, pattern, and use cases\n",
    "\n",
    "Backtracking is a depth-first search strategy for exploring a search space of choices. It builds candidates incrementally, abandons a path as soon as it cannot possibly lead to a valid solution (pruning), and then “backs up” to try other choices.\n",
    "\n",
    "- Core idea: choose → explore → un-choose\n",
    "- It’s DFS over an implicit decision tree with pruning by constraints.\n",
    "- Great for generating/composing objects that satisfy constraints (combinatorial search).\n",
    "\n",
    "## When to use\n",
    "- Generate all subsets, permutations, combinations\n",
    "- Arrange/assign with constraints (N-Queens, Sudoku, graph coloring)\n",
    "- Find paths with constraints (word search, maze, knight’s tour)\n",
    "- Partitioning and grouping with constraints (palindrome partitioning)\n",
    "- Satisfiability with small search spaces (equation ops, IP restoration)\n",
    "\n",
    "## Pattern (template)\n",
    "Typical structure for a recursive backtracking solver:\n",
    "\n",
    "1. If the current partial state is a complete solution, record it.\n",
    "2. For each available choice at this state:\n",
    "   - If taking the choice violates a constraint, continue (prune)\n",
    "   - Take the choice (mutate state)\n",
    "   - Recurse to explore deeper\n",
    "   - Undo the choice (restore state)\n",
    "\n",
    "Complexities are typically exponential in the size of the input, e.g.:\n",
    "- Subsets: O(2^n)\n",
    "- Permutations: O(n·n!) outputs, O(n!) solutions\n",
    "- N-Queens: exponential; with good pruning it’s feasible for moderate n\n",
    "\n",
    "Key pruning techniques:\n",
    "- Maintain constraint sets/maps (e.g., used columns/diagonals in N-Queens)\n",
    "- Early checks (prefix feasibility, partial sum bounds)\n",
    "- Order choices to fail fast (heuristics)\n",
    "\n",
    "Design checklist:\n",
    "- State representation (path/partial solution)\n",
    "- Choices at each step\n",
    "- Validity/constraints check\n",
    "- Goal condition (when to record)\n",
    "- Backtrack step to undo mutations"
   ]
  },
  {
   "cell_type": "code",
   "execution_count": 6,
   "id": "e275ffe0",
   "metadata": {},
   "outputs": [],
   "source": [
    "# Reusable backtracking template\n",
    "from typing import Callable, List, Any\n",
    "\n",
    "def backtrack_template(choices: List[Any],\n",
    "                       is_valid_prefix: Callable[[List[Any]], bool],\n",
    "                       is_complete: Callable[[List[Any]], bool],\n",
    "                       on_solution: Callable[[List[Any]], None]) -> None:\n",
    "    path: List[Any] = []\n",
    "\n",
    "    def dfs(start_idx: int = 0):\n",
    "        if is_complete(path):\n",
    "            on_solution(path.copy())\n",
    "            return\n",
    "        for i in range(start_idx, len(choices)):\n",
    "            path.append(choices[i])\n",
    "            if is_valid_prefix(path):\n",
    "                dfs(i + 1)  # for subsets/combinations; tweak for permutations/graphs\n",
    "            path.pop()\n",
    "\n",
    "    dfs(0)"
   ]
  },
  {
   "cell_type": "markdown",
   "id": "4b642b88",
   "metadata": {},
   "source": [
    "## Examples"
   ]
  },
  {
   "cell_type": "code",
   "execution_count": 2,
   "id": "0ed36462",
   "metadata": {},
   "outputs": [
    {
     "name": "stdout",
     "output_type": "stream",
     "text": [
      "Subsets of [1,2,3]: [[1, 2, 3], [1, 2], [1, 3], [1], [2, 3], [2], [3], []]\n"
     ]
    }
   ],
   "source": [
    "# 1) Subsets (power set)\n",
    "from typing import List\n",
    "\n",
    "def subsets(nums: List[int]) -> List[List[int]]:\n",
    "    res: List[List[int]] = []\n",
    "    path: List[int] = []\n",
    "    n = len(nums)\n",
    "\n",
    "    def dfs(i: int) -> None:\n",
    "        if i == n:\n",
    "            res.append(path.copy())\n",
    "            return\n",
    "        # choice: include nums[i]\n",
    "        path.append(nums[i])\n",
    "        dfs(i + 1)\n",
    "        path.pop()\n",
    "        # choice: exclude nums[i]\n",
    "        dfs(i + 1)\n",
    "\n",
    "    dfs(0)\n",
    "    return res\n",
    "\n",
    "print(\"Subsets of [1,2,3]:\", subsets([1, 2, 3]))"
   ]
  },
  {
   "cell_type": "code",
   "execution_count": 7,
   "id": "d53f99f3",
   "metadata": {},
   "outputs": [
    {
     "name": "stdout",
     "output_type": "stream",
     "text": [
      "Subsets with template of [1,2,3]: [[], [1], [1, 2], [1, 2, 3], [1, 3], [2], [2, 3], [3]]\n"
     ]
    }
   ],
   "source": [
    "def subsets_with_template(nums: List[int]) -> List[List[int]]:\n",
    "    res: List[List[int]] = []\n",
    "\n",
    "    def is_valid_prefix(path: List[int]) -> bool:\n",
    "        return True  # all prefixes are valid for subsets\n",
    "\n",
    "    def is_complete(path: List[int]) -> bool:\n",
    "        # Complete when path length equals nums length, but we want all possible lengths\n",
    "        return False  # let template handle all lengths\n",
    "\n",
    "    def on_solution(path: List[int]) -> None:\n",
    "        res.append(path.copy())\n",
    "\n",
    "    # Use the template to generate all subsets\n",
    "    def backtrack(start_idx: int = 0, path: List[int] = []):\n",
    "        res.append(path.copy())\n",
    "        for i in range(start_idx, len(nums)):\n",
    "            path.append(nums[i])\n",
    "            backtrack(i + 1, path)\n",
    "            path.pop()\n",
    "\n",
    "    backtrack(0, [])\n",
    "    return res\n",
    "\n",
    "print(\"Subsets with template of [1,2,3]:\", subsets_with_template([1, 2, 3]))"
   ]
  },
  {
   "cell_type": "code",
   "execution_count": 3,
   "id": "b3ebde60",
   "metadata": {},
   "outputs": [
    {
     "name": "stdout",
     "output_type": "stream",
     "text": [
      "Permutations of [1,2,3] (first 3): [[1, 2, 3], [1, 3, 2], [2, 1, 3]]\n"
     ]
    }
   ],
   "source": [
    "# 2) Permutations\n",
    "from typing import List\n",
    "\n",
    "def permute(nums: List[int]) -> List[List[int]]:\n",
    "    res: List[List[int]] = []\n",
    "    path: List[int] = []\n",
    "    used = [False] * len(nums)\n",
    "\n",
    "    def dfs():\n",
    "        if len(path) == len(nums):\n",
    "            res.append(path.copy())\n",
    "            return\n",
    "        for i, val in enumerate(nums):\n",
    "            if used[i]:\n",
    "                continue\n",
    "            used[i] = True\n",
    "            path.append(val)\n",
    "            dfs()\n",
    "            path.pop()\n",
    "            used[i] = False\n",
    "\n",
    "    dfs()\n",
    "    return res\n",
    "\n",
    "print(\"Permutations of [1,2,3] (first 3):\", permute([1, 2, 3])[:3])"
   ]
  },
  {
   "cell_type": "code",
   "execution_count": null,
   "id": "d270e7e6",
   "metadata": {},
   "outputs": [],
   "source": [
    "def permute_with_template(nums: List[int]) -> List[List[int]]:\n",
    "    res: List[List[int]] = []\n",
    "\n",
    "    def is_valid_prefix(path: List[int]) -> bool:\n",
    "        # Valid if no duplicates in path\n",
    "        return len(set(path)) == len(path)\n",
    "\n",
    "    def is_complete(path: List[int]) -> bool:\n",
    "        return len(path) == len(nums)\n",
    "\n",
    "    def on_solution(path: List[int]) -> None:\n",
    "        res.append(path.copy())\n",
    "\n",
    "    def dfs():\n",
    "        def helper():\n",
    "            if is_complete(path):\n",
    "                on_solution(path)\n",
    "                return\n",
    "            for num in nums:\n",
    "                if num in path:\n",
    "                    continue\n",
    "                path.append(num)\n",
    "                if is_valid_prefix(path):\n",
    "                    helper()\n",
    "                path.pop()\n",
    "        path: List[int] = []\n",
    "        helper()\n",
    "\n",
    "    dfs()\n",
    "    return res\n",
    "\n",
    "print(\"Permutations with template of [1,2,3] (first 3):\", permute_with_template([1, 2, 3])[:3])"
   ]
  },
  {
   "cell_type": "code",
   "execution_count": 4,
   "id": "5a90853d",
   "metadata": {},
   "outputs": [
    {
     "name": "stdout",
     "output_type": "stream",
     "text": [
      "N-Queens n=4 solutions:\n",
      ".Q..\n",
      "...Q\n",
      "Q...\n",
      "..Q.\n",
      "\n",
      "..Q.\n",
      "Q...\n",
      "...Q\n",
      ".Q..\n",
      "\n"
     ]
    }
   ],
   "source": [
    "# 3) N-Queens\n",
    "from typing import List\n",
    "\n",
    "def solve_n_queens(n: int) -> List[List[str]]:\n",
    "    res: List[List[str]] = []\n",
    "    cols = set()\n",
    "    diag1 = set()  # r - c\n",
    "    diag2 = set()  # r + c\n",
    "    board = [[\".\"] * n for _ in range(n)]\n",
    "\n",
    "    def dfs(r: int) -> None:\n",
    "        if r == n:\n",
    "            res.append([\"\".join(row) for row in board])\n",
    "            return\n",
    "        for c in range(n):\n",
    "            if c in cols or (r - c) in diag1 or (r + c) in diag2:\n",
    "                continue\n",
    "            cols.add(c); diag1.add(r - c); diag2.add(r + c)\n",
    "            board[r][c] = \"Q\"\n",
    "            dfs(r + 1)\n",
    "            board[r][c] = \".\"\n",
    "            cols.remove(c); diag1.remove(r - c); diag2.remove(r + c)\n",
    "\n",
    "    dfs(0)\n",
    "    return res\n",
    "\n",
    "print(\"N-Queens n=4 solutions:\")\n",
    "for sol in solve_n_queens(4):\n",
    "    for row in sol:\n",
    "        print(row)\n",
    "    print()"
   ]
  },
  {
   "cell_type": "code",
   "execution_count": 5,
   "id": "4bbabaaf",
   "metadata": {},
   "outputs": [
    {
     "name": "stdout",
     "output_type": "stream",
     "text": [
      "Combination Sum for [2,3,6,7], target=7: [[2, 2, 3], [7]]\n"
     ]
    }
   ],
   "source": [
    "# 4) Combination Sum (repetition allowed)\n",
    "from typing import List\n",
    "\n",
    "def combination_sum(candidates: List[int], target: int) -> List[List[int]]:\n",
    "    candidates.sort()\n",
    "    res: List[List[int]] = []\n",
    "    path: List[int] = []\n",
    "\n",
    "    def dfs(start: int, remain: int) -> None:\n",
    "        if remain == 0:\n",
    "            res.append(path.copy())\n",
    "            return\n",
    "        for i in range(start, len(candidates)):\n",
    "            c = candidates[i]\n",
    "            if c > remain:\n",
    "                break\n",
    "            path.append(c)\n",
    "            dfs(i, remain - c)  # i again allows reuse\n",
    "            path.pop()\n",
    "\n",
    "    dfs(0, target)\n",
    "    return res\n",
    "\n",
    "print(\"Combination Sum for [2,3,6,7], target=7:\", combination_sum([2,3,6,7], 7))"
   ]
  }
 ],
 "metadata": {
  "kernelspec": {
   "display_name": "Python 3",
   "language": "python",
   "name": "python3"
  },
  "language_info": {
   "codemirror_mode": {
    "name": "ipython",
    "version": 3
   },
   "file_extension": ".py",
   "mimetype": "text/x-python",
   "name": "python",
   "nbconvert_exporter": "python",
   "pygments_lexer": "ipython3",
   "version": "3.13.7"
  }
 },
 "nbformat": 4,
 "nbformat_minor": 5
}
