{
 "cells": [
  {
   "cell_type": "markdown",
   "id": "e39ee3b0",
   "metadata": {},
   "source": [
    "# Dynamic Programming (DP): concepts, patterns, and use cases\n",
    "\n",
    "Dynamic Programming is about solving complex problems by breaking them into overlapping subproblems, solving each subproblem once, and reusing those solutions. The two classic strategies are:\n",
    "- Top-down (memoization): recursion + cache\n",
    "- Bottom-up (tabulation): iterative DP table\n",
    "\n",
    "Key signs DP applies:\n",
    "- Optimal substructure: optimal solution can be composed of optimal subsolutions\n",
    "- Overlapping subproblems: the same subproblem arises multiple times\n",
    "\n",
    "Typical time/space: Often O(states × transitions). Space can be optimized using rolling arrays or storing only what's needed."
   ]
  },
  {
   "cell_type": "markdown",
   "id": "10bb45a1",
   "metadata": {},
   "source": [
    "## Workflow to design a DP\n",
    "1) Define state: parameters that uniquely identify a subproblem\n",
    "2) Recurrence: how to compute a state from smaller states\n",
    "3) Base cases: trivial answers\n",
    "4) Order of evaluation: top-down or bottom-up and iteration order\n",
    "5) Space optimization: reduce table dimensions if possible"
   ]
  },
  {
   "cell_type": "markdown",
   "id": "fd74c1f8",
   "metadata": {},
   "source": [
    "## Common DP patterns\n",
    "- 1D DP sequences: fib, climbing stairs, minimum cost to reach i\n",
    "- Knapsack/Subset sum: boolean or min/max cost with capacity\n",
    "- Interval DP: merging intervals, burst balloons, palindrome partitioning\n",
    "- Grid DP: unique paths, minimum path sum, obstacle grids\n",
    "- String DP: edit distance, LCS/LCSubstring, regex/DP on two strings\n",
    "- Tree DP: paths, diameter, robbing houses on tree\n",
    "- Bitmask DP: TSP variants, assign tasks, subsets over bitmasks\n",
    "- Digit DP: count numbers with constraints\n",
    "\n",
    "We'll add a compact template and examples for both top-down and bottom-up styles."
   ]
  },
  {
   "cell_type": "code",
   "execution_count": 1,
   "id": "653239a8",
   "metadata": {},
   "outputs": [
    {
     "name": "stdout",
     "output_type": "stream",
     "text": [
      "fibTD(10)=55, fibBU(10)=55\n"
     ]
    }
   ],
   "source": [
    "package main\n",
    "\n",
    "import \"fmt\"\n",
    "\n",
    "// Fibonacci (top-down and bottom-up)\n",
    "func fibTD(n int, memo map[int]int64) int64 {\n",
    "    if n <= 1 {\n",
    "        return int64(n)\n",
    "    }\n",
    "    if result, exists := memo[n]; exists {\n",
    "        return result\n",
    "    }\n",
    "    result := fibTD(n-1, memo) + fibTD(n-2, memo)\n",
    "    memo[n] = result\n",
    "    return result\n",
    "}\n",
    "\n",
    "func fibBU(n int) int64 {\n",
    "    if n <= 1 {\n",
    "        return int64(n)\n",
    "    }\n",
    "    a, b := int64(0), int64(1)\n",
    "    for i := 2; i <= n; i++ {\n",
    "        a, b = b, a+b\n",
    "    }\n",
    "    return b\n",
    "}\n",
    "\n",
    "%%\n",
    "memo := make(map[int]int64)\n",
    "fmt.Printf(\"fibTD(10)=%d, fibBU(10)=%d\\n\", fibTD(10, memo), fibBU(10))"
   ]
  },
  {
   "cell_type": "markdown",
   "id": "6146e757",
   "metadata": {},
   "source": [
    "### Intuition behind Fibonacci DP and mapping to the DP workflow\n",
    "\n",
    "- Problem: compute the nth Fibonacci number where F(0)=0, F(1)=1, and F(n)=F(n−1)+F(n−2).\n",
    "- Naive recursion recomputes the same subproblems many times (overlapping subproblems). DP avoids this by caching results (top-down) or building from smaller to larger (bottom-up).\n",
    "\n",
    "Mapping to the DP workflow (see workflow above):\n",
    "1) State: the subproblem is identified by a single parameter n (\"what is F(n)?\").\n",
    "2) Recurrence: F(n) = F(n−1) + F(n−2).\n",
    "3) Base cases: F(0) = 0, F(1) = 1.\n",
    "4) Order of evaluation:\n",
    "   - Top-down: recursively compute F(n−1) and F(n−2), memoize results to avoid recomputation.\n",
    "   - Bottom-up: iterate i from 2 to n and compute using already-built values for i−1 and i−2.\n",
    "5) Space optimization: for Fibonacci, we only need the last two values, so we can store two variables (O(1) space) instead of an array.\n",
    "\n",
    "Complexity:\n",
    "- Time: O(n) for both approaches (after memoization), vs exponential without DP.\n",
    "- Space: top-down uses O(n) for the memo and recursion stack; bottom-up uses O(1) extra space."
   ]
  },
  {
   "cell_type": "code",
   "execution_count": 2,
   "id": "82b1611c",
   "metadata": {},
   "outputs": [
    {
     "name": "stdout",
     "output_type": "stream",
     "text": [
      "coinChangeMin([1,2,5], 11)=3\n"
     ]
    }
   ],
   "source": [
    "// Coin Change (min coins to make amount)\n",
    "func coinChangeMin(coins []int, amount int) int {\n",
    "    const INF = 1000000000\n",
    "    dp := make([]int, amount+1)\n",
    "    for i := range dp {\n",
    "        dp[i] = INF\n",
    "    }\n",
    "    dp[0] = 0\n",
    "    \n",
    "    for a := 1; a <= amount; a++ {\n",
    "        for _, c := range coins {\n",
    "            if a >= c && dp[a-c]+1 < dp[a] {\n",
    "                dp[a] = dp[a-c] + 1\n",
    "            }\n",
    "        }\n",
    "    }\n",
    "    \n",
    "    if dp[amount] < INF {\n",
    "        return dp[amount]\n",
    "    }\n",
    "    return -1\n",
    "}\n",
    "\n",
    "%%\n",
    "fmt.Printf(\"coinChangeMin([1,2,5], 11)=%d\\n\", coinChangeMin([]int{1,2,5}, 11))"
   ]
  },
  {
   "cell_type": "markdown",
   "id": "06042d94",
   "metadata": {},
   "source": [
    "### Intuition behind Coin Change (min coins) and mapping to the DP workflow\n",
    "\n",
    "- Problem: given unlimited coins with given denominations, find the minimum number of coins needed to make up a target amount (or return −1 if impossible).\n",
    "- Why DP: we have overlapping subproblems (to solve amount a we reuse solutions for a−c for many coins c) and optimal substructure (the optimal way to form a uses optimal ways to form smaller amounts).\n",
    "\n",
    "Mapping to the DP workflow:\n",
    "1) State: a = current amount. dp[a] = minimum coins to form amount a.\n",
    "2) Recurrence: dp[a] = min_{c in coins, a≥c} (dp[a−c] + 1).\n",
    "3) Base cases: dp[0] = 0. Use INF sentinel for unreachable; result is −1 if dp[amount] stays INF.\n",
    "4) Order of evaluation: bottom-up iterate a from 1..amount; for each coin c, relax from dp[a−c]. Top-down with memo is also possible.\n",
    "5) Space optimization: a single 1D array of size amount+1 is sufficient; no further reduction beyond 1D for this formulation.\n",
    "\n",
    "Complexity:\n",
    "- Time: O(amount × number_of_coins)\n",
    "- Space: O(amount)\n",
    "\n",
    "Edge cases: amount = 0 → 0; coins not covering gcd/amount leads to unreachable (return −1)."
   ]
  },
  {
   "cell_type": "code",
   "execution_count": 3,
   "id": "47c9328a",
   "metadata": {},
   "outputs": [
    {
     "name": "stdout",
     "output_type": "stream",
     "text": [
      "lcs('abcde', 'ace')=3\n"
     ]
    }
   ],
   "source": [
    "// Longest Common Subsequence (LCS)\n",
    "func lcs(a, b string) int {\n",
    "    m, n := len(a), len(b)\n",
    "    dp := make([][]int, m+1)\n",
    "    for i := range dp {\n",
    "        dp[i] = make([]int, n+1)\n",
    "    }\n",
    "    \n",
    "    for i := 1; i <= m; i++ {\n",
    "        for j := 1; j <= n; j++ {\n",
    "            if a[i-1] == b[j-1] {\n",
    "                dp[i][j] = dp[i-1][j-1] + 1\n",
    "            } else {\n",
    "                if dp[i-1][j] > dp[i][j-1] {\n",
    "                    dp[i][j] = dp[i-1][j]\n",
    "                } else {\n",
    "                    dp[i][j] = dp[i][j-1]\n",
    "                }\n",
    "            }\n",
    "        }\n",
    "    }\n",
    "    return dp[m][n]\n",
    "}\n",
    "\n",
    "%%\n",
    "fmt.Printf(\"lcs('abcde', 'ace')=%d\\n\", lcs(\"abcde\", \"ace\"))"
   ]
  },
  {
   "cell_type": "markdown",
   "id": "2b784801",
   "metadata": {},
   "source": [
    "### Intuition behind LCS and mapping to the DP workflow\n",
    "\n",
    "- Problem: find the length of the longest sequence appearing in both strings in the same order (not necessarily contiguous).\n",
    "- Why DP: subproblems overlap when aligning prefixes of both strings; optimal substructure via considering last characters match or not.\n",
    "\n",
    "Mapping to the DP workflow:\n",
    "1) State: `i, j` represent prefixes `a[:i], b[:j]. dp[i][j] = LCS length of these prefixes`.\n",
    "2) Recurrence:\n",
    "   - If `a[i−1] == b[j−1]: dp[i][j] = dp[i−1][j−1] + 1`\n",
    "   - Else: `dp[i][j] = max(dp[i−1][j], dp[i][j−1])`\n",
    "3) Base cases: `dp[0][*] = 0 and dp[*][0] = 0`\n",
    "4) Order of evaluation: bottom-up `i from 1..m`, `j from 1..n`; or top-down memo with `(i, j)`.\n",
    "5) Space optimization: two-row rolling array `(O(min(m, n)))` since each state depends only on previous row and current row's left cell.\n",
    "\n",
    "Complexity:\n",
    "- Time: O(m × n)\n",
    "- Space: O(m × n), or O(min(m, n)) with rolling array.\n",
    "\n",
    "Note: For reconstruction of the sequence, store parent pointers or redo a guided pass after computing dp."
   ]
  },
  {
   "cell_type": "code",
   "execution_count": 4,
   "id": "f2cd841e",
   "metadata": {},
   "outputs": [
    {
     "name": "stdout",
     "output_type": "stream",
     "text": [
      "knapsack01([2,3,4], [4,5,6], 5)=9\n"
     ]
    }
   ],
   "source": [
    "// 0/1 Knapsack (max value under capacity)\n",
    "func knapsack01(weights, values []int, capacity int) int {\n",
    "    n := len(weights)\n",
    "    dp := make([]int, capacity+1)\n",
    "    \n",
    "    for i := 0; i < n; i++ {\n",
    "        w, v := weights[i], values[i]\n",
    "        for c := capacity; c >= w; c-- {\n",
    "            if dp[c-w]+v > dp[c] {\n",
    "                dp[c] = dp[c-w] + v\n",
    "            }\n",
    "        }\n",
    "    }\n",
    "    return dp[capacity]\n",
    "}\n",
    "\n",
    "%%\n",
    "fmt.Printf(\"knapsack01([2,3,4], [4,5,6], 5)=%d\\n\", knapsack01([]int{2,3,4}, []int{4,5,6}, 5))"
   ]
  },
  {
   "cell_type": "markdown",
   "id": "a580c260",
   "metadata": {},
   "source": [
    "### Intuition behind 0/1 Knapsack and mapping to the DP workflow\n",
    "\n",
    "- Problem: choose a subset of items with weights and values to maximize value without exceeding capacity; each item can be taken at most once.\n",
    "- Why DP: subproblems overlap across capacities and item prefixes; optimal substructure via choice per item (take or skip) using optimal results for smaller capacities.\n",
    "\n",
    "Mapping to the DP workflow:\n",
    "1) State: c = current capacity after considering first i items. A 1D optimization stores dp[c] = best value using processed items up to current i.\n",
    "2) Recurrence: dp[c] = max(dp[c], dp[c − w_i] + v_i) when c ≥ w_i.\n",
    "3) Base cases: dp[0..capacity] initialized to 0; with 2D dp[i][c], base row/column are 0.\n",
    "4) Order of evaluation: iterate items i, and for each, loop c from capacity down to w_i (reverse is critical to avoid reusing the same item more than once).\n",
    "5) Space optimization: 1D array of size capacity+1, updated in reverse order per item.\n",
    "\n",
    "Complexity:\n",
    "- Time: O(n × capacity)\n",
    "- Space: O(capacity) with 1D optimization (or O(n × capacity) with 2D).\n",
    "\n",
    "Variants: Unbounded knapsack uses forward capacity iteration (c from w to capacity) since items can be reused."
   ]
  }
 ],
 "metadata": {
  "kernelspec": {
   "display_name": "Go (gonb)",
   "language": "go",
   "name": "gonb"
  },
  "language_info": {
   "codemirror_mode": "",
   "file_extension": ".go",
   "mimetype": "text/x-go",
   "name": "go",
   "nbconvert_exporter": "",
   "pygments_lexer": "",
   "version": "go1.25.1"
  }
 },
 "nbformat": 4,
 "nbformat_minor": 5
}
