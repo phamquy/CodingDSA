{
 "cells": [
  {
   "cell_type": "markdown",
   "id": "394ffabd",
   "metadata": {},
   "source": [
    "# Dynamic Programming (DP): concepts, patterns, and use cases\n",
    "\n",
    "Dynamic Programming is about solving complex problems by breaking them into overlapping subproblems, solving each subproblem once, and reusing those solutions. The two classic strategies are:\n",
    "- Top-down (memoization): recursion + cache\n",
    "- Bottom-up (tabulation): iterative DP table\n",
    "\n",
    "Key signs DP applies:\n",
    "- Optimal substructure: optimal solution can be composed of optimal subsolutions\n",
    "- Overlapping subproblems: the same subproblem arises multiple times\n",
    "\n",
    "Typical time/space: Often O(states × transitions). Space can be optimized using rolling arrays or storing only what's needed."
   ]
  },
  {
   "cell_type": "markdown",
   "id": "f9690643",
   "metadata": {},
   "source": [
    "## Workflow to design a DP\n",
    "1) Define state: parameters that uniquely identify a subproblem\n",
    "2) Recurrence: how to compute a state from smaller states\n",
    "3) Base cases: trivial answers\n",
    "4) Order of evaluation: top-down or bottom-up and iteration order\n",
    "5) Space optimization: reduce table dimensions if possible"
   ]
  },
  {
   "cell_type": "markdown",
   "id": "595eb2ab",
   "metadata": {},
   "source": [
    "## Common DP patterns\n",
    "- 1D DP sequences: fib, climbing stairs, minimum cost to reach i\n",
    "- Knapsack/Subset sum: boolean or min/max cost with capacity\n",
    "- Interval DP: merging intervals, burst balloons, palindrome partitioning\n",
    "- Grid DP: unique paths, minimum path sum, obstacle grids\n",
    "- String DP: edit distance, LCS/LCSubstring, regex/DP on two strings\n",
    "- Tree DP: paths, diameter, robbing houses on tree\n",
    "- Bitmask DP: TSP variants, assign tasks, subsets over bitmasks\n",
    "- Digit DP: count numbers with constraints\n",
    "\n",
    "We'll add a compact template and examples for both top-down and bottom-up styles."
   ]
  },
  {
   "cell_type": "code",
   "execution_count": null,
   "id": "81dec8a3",
   "metadata": {
    "vscode": {
     "languageId": "rust"
    }
   },
   "outputs": [],
   "source": [
    "use std::collections::HashMap;\n",
    "\n",
    "// Fibonacci (top-down and bottom-up)\n",
    "fn fib_td(n: i32, memo: &mut HashMap<i32, i64>) -> i64 {\n",
    "    if n <= 1 {\n",
    "        return n as i64;\n",
    "    }\n",
    "    if let Some(&result) = memo.get(&n) {\n",
    "        return result;\n",
    "    }\n",
    "    let result = fib_td(n - 1, memo) + fib_td(n - 2, memo);\n",
    "    memo.insert(n, result);\n",
    "    result\n",
    "}\n",
    "\n",
    "fn fib_bu(n: i32) -> i64 {\n",
    "    if n <= 1 {\n",
    "        return n as i64;\n",
    "    }\n",
    "    let mut a = 0i64;\n",
    "    let mut b = 1i64;\n",
    "    for _ in 2..=n {\n",
    "        let temp = a + b;\n",
    "        a = b;\n",
    "        b = temp;\n",
    "    }\n",
    "    b\n",
    "}\n",
    "\n",
    "fn main() {\n",
    "    let mut memo = HashMap::new();\n",
    "    println!(\"fib_td(10)={}, fib_bu(10)={}\", fib_td(10, &mut memo), fib_bu(10));\n",
    "}\n",
    "main();"
   ]
  },
  {
   "cell_type": "markdown",
   "id": "7c11e43a",
   "metadata": {},
   "source": [
    "### Intuition behind Fibonacci DP and mapping to the DP workflow\n",
    "\n",
    "- Problem: compute the nth Fibonacci number where F(0)=0, F(1)=1, and F(n)=F(n−1)+F(n−2).\n",
    "- Naive recursion recomputes the same subproblems many times (overlapping subproblems). DP avoids this by caching results (top-down) or building from smaller to larger (bottom-up).\n",
    "\n",
    "Mapping to the DP workflow (see workflow above):\n",
    "1) State: the subproblem is identified by a single parameter n (\"what is F(n)?\").\n",
    "2) Recurrence: F(n) = F(n−1) + F(n−2).\n",
    "3) Base cases: F(0) = 0, F(1) = 1.\n",
    "4) Order of evaluation:\n",
    "   - Top-down: recursively compute F(n−1) and F(n−2), memoize results to avoid recomputation.\n",
    "   - Bottom-up: iterate i from 2 to n and compute using already-built values for i−1 and i−2.\n",
    "5) Space optimization: for Fibonacci, we only need the last two values, so we can store two variables (O(1) space) instead of an array.\n",
    "\n",
    "Complexity:\n",
    "- Time: O(n) for both approaches (after memoization), vs exponential without DP.\n",
    "- Space: top-down uses O(n) for the memo and recursion stack; bottom-up uses O(1) extra space."
   ]
  },
  {
   "cell_type": "code",
   "execution_count": null,
   "id": "ec108d68",
   "metadata": {
    "vscode": {
     "languageId": "rust"
    }
   },
   "outputs": [],
   "source": [
    "// Coin Change (min coins to make amount)\n",
    "fn coin_change_min(coins: &[i32], amount: i32) -> i32 {\n",
    "    const INF: i32 = 1_000_000_000;\n",
    "    let mut dp = vec![INF; (amount + 1) as usize];\n",
    "    dp[0] = 0;\n",
    "    \n",
    "    for a in 1..=amount {\n",
    "        for &c in coins {\n",
    "            if a >= c && dp[(a - c) as usize] + 1 < dp[a as usize] {\n",
    "                dp[a as usize] = dp[(a - c) as usize] + 1;\n",
    "            }\n",
    "        }\n",
    "    }\n",
    "    \n",
    "    if dp[amount as usize] < INF {\n",
    "        dp[amount as usize]\n",
    "    } else {\n",
    "        -1\n",
    "    }\n",
    "}\n",
    "\n",
    "fn main() {\n",
    "    println!(\"coin_change_min([1,2,5], 11)={}\", coin_change_min(&[1,2,5], 11));\n",
    "}\n",
    "main();"
   ]
  },
  {
   "cell_type": "markdown",
   "id": "7f6c4332",
   "metadata": {},
   "source": [
    "### Intuition behind Coin Change (min coins) and mapping to the DP workflow\n",
    "\n",
    "- Problem: given unlimited coins with given denominations, find the minimum number of coins needed to make up a target amount (or return −1 if impossible).\n",
    "- Why DP: we have overlapping subproblems (to solve amount a we reuse solutions for a−c for many coins c) and optimal substructure (the optimal way to form a uses optimal ways to form smaller amounts).\n",
    "\n",
    "Mapping to the DP workflow:\n",
    "1) State: a = current amount. dp[a] = minimum coins to form amount a.\n",
    "2) Recurrence: dp[a] = min_{c in coins, a≥c} (dp[a−c] + 1).\n",
    "3) Base cases: dp[0] = 0. Use INF sentinel for unreachable; result is −1 if dp[amount] stays INF.\n",
    "4) Order of evaluation: bottom-up iterate a from 1..amount; for each coin c, relax from dp[a−c]. Top-down with memo is also possible.\n",
    "5) Space optimization: a single 1D array of size amount+1 is sufficient; no further reduction beyond 1D for this formulation.\n",
    "\n",
    "Complexity:\n",
    "- Time: O(amount × number_of_coins)\n",
    "- Space: O(amount)\n",
    "\n",
    "Edge cases: amount = 0 → 0; coins not covering gcd/amount leads to unreachable (return −1)."
   ]
  },
  {
   "cell_type": "code",
   "execution_count": null,
   "id": "4ffb5eb4",
   "metadata": {
    "vscode": {
     "languageId": "rust"
    }
   },
   "outputs": [],
   "source": [
    "// Longest Common Subsequence (LCS)\n",
    "fn lcs(a: &str, b: &str) -> usize {\n",
    "    let a_chars: Vec<char> = a.chars().collect();\n",
    "    let b_chars: Vec<char> = b.chars().collect();\n",
    "    let m = a_chars.len();\n",
    "    let n = b_chars.len();\n",
    "    let mut dp = vec![vec![0; n + 1]; m + 1];\n",
    "    \n",
    "    for i in 1..=m {\n",
    "        for j in 1..=n {\n",
    "            if a_chars[i - 1] == b_chars[j - 1] {\n",
    "                dp[i][j] = dp[i - 1][j - 1] + 1;\n",
    "            } else {\n",
    "                dp[i][j] = dp[i - 1][j].max(dp[i][j - 1]);\n",
    "            }\n",
    "        }\n",
    "    }\n",
    "    dp[m][n]\n",
    "}\n",
    "\n",
    "fn main() {\n",
    "    println!(\"lcs('abcde', 'ace')={}\", lcs(\"abcde\", \"ace\"));\n",
    "}\n",
    "main();"
   ]
  },
  {
   "cell_type": "markdown",
   "id": "4973d1ae",
   "metadata": {},
   "source": [
    "### Intuition behind LCS and mapping to the DP workflow\n",
    "\n",
    "- Problem: find the length of the longest sequence appearing in both strings in the same order (not necessarily contiguous).\n",
    "- Why DP: subproblems overlap when aligning prefixes of both strings; optimal substructure via considering last characters match or not.\n",
    "\n",
    "Mapping to the DP workflow:\n",
    "1) State: `i, j` represent prefixes `a[:i], b[:j]. dp[i][j] = LCS length of these prefixes`.\n",
    "2) Recurrence:\n",
    "   - If `a[i−1] == b[j−1]: dp[i][j] = dp[i−1][j−1] + 1`\n",
    "   - Else: `dp[i][j] = max(dp[i−1][j], dp[i][j−1])`\n",
    "3) Base cases: `dp[0][*] = 0 and dp[*][0] = 0`\n",
    "4) Order of evaluation: bottom-up `i from 1..m`, `j from 1..n`; or top-down memo with `(i, j)`.\n",
    "5) Space optimization: two-row rolling array `(O(min(m, n)))` since each state depends only on previous row and current row's left cell.\n",
    "\n",
    "Complexity:\n",
    "- Time: O(m × n)\n",
    "- Space: O(m × n), or O(min(m, n)) with rolling array.\n",
    "\n",
    "Note: For reconstruction of the sequence, store parent pointers or redo a guided pass after computing dp."
   ]
  },
  {
   "cell_type": "code",
   "execution_count": null,
   "id": "1f56641e",
   "metadata": {
    "vscode": {
     "languageId": "rust"
    }
   },
   "outputs": [],
   "source": [
    "// 0/1 Knapsack (max value under capacity)\n",
    "fn knapsack_01(weights: &[i32], values: &[i32], capacity: i32) -> i32 {\n",
    "    let n = weights.len();\n",
    "    let mut dp = vec![0; (capacity + 1) as usize];\n",
    "    \n",
    "    for i in 0..n {\n",
    "        let w = weights[i];\n",
    "        let v = values[i];\n",
    "        for c in (w..=capacity).rev() {\n",
    "            dp[c as usize] = dp[c as usize].max(dp[(c - w) as usize] + v);\n",
    "        }\n",
    "    }\n",
    "    dp[capacity as usize]\n",
    "}\n",
    "\n",
    "fn main() {\n",
    "    println!(\"knapsack_01([2,3,4], [4,5,6], 5)={}\", knapsack_01(&[2,3,4], &[4,5,6], 5));\n",
    "}\n",
    "main();"
   ]
  },
  {
   "cell_type": "markdown",
   "id": "527523fe",
   "metadata": {},
   "source": [
    "### Intuition behind 0/1 Knapsack and mapping to the DP workflow\n",
    "\n",
    "- Problem: choose a subset of items with weights and values to maximize value without exceeding capacity; each item can be taken at most once.\n",
    "- Why DP: subproblems overlap across capacities and item prefixes; optimal substructure via choice per item (take or skip) using optimal results for smaller capacities.\n",
    "\n",
    "Mapping to the DP workflow:\n",
    "1) State: c = current capacity after considering first i items. A 1D optimization stores dp[c] = best value using processed items up to current i.\n",
    "2) Recurrence: dp[c] = max(dp[c], dp[c − w_i] + v_i) when c ≥ w_i.\n",
    "3) Base cases: dp[0..capacity] initialized to 0; with 2D dp[i][c], base row/column are 0.\n",
    "4) Order of evaluation: iterate items i, and for each, loop c from capacity down to w_i (reverse is critical to avoid reusing the same item more than once).\n",
    "5) Space optimization: 1D array of size capacity+1, updated in reverse order per item.\n",
    "\n",
    "Complexity:\n",
    "- Time: O(n × capacity)\n",
    "- Space: O(capacity) with 1D optimization (or O(n × capacity) with 2D).\n",
    "\n",
    "Variants: Unbounded knapsack uses forward capacity iteration (c from w to capacity) since items can be reused."
   ]
  }
 ],
 "metadata": {
  "kernelspec": {
   "display_name": "Rust",
   "language": "rust",
   "name": "rust"
  },
  "language_info": {
   "codemirror_mode": "rust",
   "file_extension": ".rs",
   "mimetype": "text/rust",
   "name": "Rust",
   "pygment_lexer": "rust",
   "version": ""
  }
 },
 "nbformat": 4,
 "nbformat_minor": 5
}
