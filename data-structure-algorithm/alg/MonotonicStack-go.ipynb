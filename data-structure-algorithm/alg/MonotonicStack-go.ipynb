{
 "cells": [
  {
   "cell_type": "code",
   "execution_count": null,
   "id": "a7e14fd4",
   "metadata": {
    "vscode": {
     "languageId": "html"
    }
   },
   "outputs": [],
   "source": [
    "%%HTML\n",
    "<style>\n",
    "    body {\n",
    "        --vscode-font-family: \"Noto Serif\"\n",
    "    }\n",
    "</style>"
   ]
  },
  {
   "cell_type": "markdown",
   "id": "29098dbc",
   "metadata": {},
   "source": [
    "# Monotonic Stack & Queue Patterns"
   ]
  },
  {
   "cell_type": "markdown",
   "id": "76071fe2",
   "metadata": {},
   "source": [
    "## 1. Concept\n",
    "\n",
    "A monotonic stack keeps elements (usually indices) so their corresponding values are strictly increasing or decreasing.\n",
    "Each element is pushed and popped at most once → O(n) total.\n",
    "You pop when the incoming element violates the monotonic invariant, resolving queries for popped items.\n",
    "\n",
    "Why indices? They let you compute distances (spans, widths) and re-access values. Each time element pop from stack, it will make a contribution to the final result:\n",
    "\n",
    "What Contribution Means: Each element in the array can \"contribute\" to the answer over a certain range defined by:\n",
    "- The next greater/smaller element to the left\n",
    "- The next greater/smaller element to the right\n",
    "- The stack helps identify these bounds efficiently."
   ]
  },
  {
   "cell_type": "markdown",
   "id": "ec200fe0",
   "metadata": {},
   "source": [
    "## 2. Classic Problems Overview\n",
    "- Next Greater Element (NGE)\n",
    "- Daily Temperatures (span until warmer)\n",
    "- Stock Span (backward span of <= prices)\n",
    "- Largest Rectangle in Histogram (width via nearest smaller left/right)\n",
    "- Trapping Rain Water (stack version)\n",
    "- Sum of Subarray Minimums (contribution via nearest smaller constraints)\n",
    "- Remove K Digits (greedy monotonic increasing digits)\n",
    "- Sliding Window Maximum (monotonic queue / deque)\n",
    "- Asteroid Collision (directional resolution)"
   ]
  },
  {
   "cell_type": "markdown",
   "id": "9371cc64",
   "metadata": {},
   "source": [
    "### Next Greater Element (NGE)\n",
    "**Problem Statement:** Given an integer array, for each element find the next element to its right that is strictly greater; if none, return -1.\n",
    "\n",
    "**Intuition:** Maintain a decreasing stack of indices. When a new element is greater than stack top, it resolves that index's answer. Each index is pushed/popped at most once.\n",
    "\n",
    "**Why it Works:** \n",
    "- The stack always stores indices of elements whose next greater element we have not yet discovered, in strictly decreasing value order (top is the smallest among them). \n",
    "- The first time we see a value greater than nums[j], it must be the closest greater to the right (because every element between j and current index i was processed and was <= nums[j], otherwise j would have been popped earlier). After popping j we never revisit it. \n",
    "- Each index is pushed exactly once and popped at most once → linear time.\n",
    "\n",
    "**Complexity:** O(n) time, O(n) space (answers + stack)."
   ]
  },
  {
   "cell_type": "code",
   "execution_count": null,
   "id": "a9008066",
   "metadata": {
    "vscode": {
     "languageId": "go"
    }
   },
   "outputs": [],
   "source": [
    "package main\n",
    "\n",
    "import \"fmt\"\n",
    "\n",
    "// Next Greater Element (NGE)\n",
    "func nextGreaterElement(nums []int) []int {\n",
    "    n := len(nums)\n",
    "    result := make([]int, n)\n",
    "    for i := range result {\n",
    "        result[i] = -1\n",
    "    }\n",
    "    var stack []int // holds indices with decreasing values\n",
    "    \n",
    "    for i, val := range nums {\n",
    "        fmt.Printf(\"i=%d, val=%d, stack=%v, result=%v\\n\", i, val, stack, result)\n",
    "        for len(stack) > 0 && nums[stack[len(stack)-1]] < val {\n",
    "            topIdx := stack[len(stack)-1]\n",
    "            stack = stack[:len(stack)-1]\n",
    "            result[topIdx] = val\n",
    "            fmt.Printf(\"    i=%d, val=%d, stack=%v, result=%v\\n\", i, val, stack, result)\n",
    "        }\n",
    "        stack = append(stack, i)\n",
    "        fmt.Printf(\"i=%d, val=%d, stack=%v, result=%v\\n\\n\", i, val, stack, result)\n",
    "    }\n",
    "    return result\n",
    "}\n",
    "\n",
    "%%\n",
    "result := nextGreaterElement([]int{3, 2, 1, 4, 3})\n",
    "fmt.Printf(\"Final result: %v\\n\", result)"
   ]
  },
  {
   "cell_type": "markdown",
   "id": "188a6688",
   "metadata": {},
   "source": [
    "### Daily Temperatures\n",
    "**Problem Statement:** Given daily temperatures, return for each day how many days until a warmer temperature; 0 if none.\n",
    "\n",
    "**Intuition:** Use a decreasing stack of indices (temperatures strictly descending). When a warmer temperature appears, pop indices and compute distance.\n",
    "\n",
    "**Why it Works:** For an index j, the first time we encounter a temperature higher than temps[j] at index i, all intervening temperatures were <= temps[j]; otherwise j would have been resolved earlier. Thus i is the closest warmer day. Strict decrease ensures each index is stored only until its answer is known. Push/pop once → O(n).\n",
    "\n",
    "**Complexity:** O(n) time, O(n) space."
   ]
  },
  {
   "cell_type": "code",
   "execution_count": null,
   "id": "c10f3b97",
   "metadata": {
    "vscode": {
     "languageId": "go"
    }
   },
   "outputs": [],
   "source": [
    "// Daily Temperatures\n",
    "func dailyTemperatures(temps []int) []int {\n",
    "    n := len(temps)\n",
    "    answer := make([]int, n)\n",
    "    var stack []int // indices with strictly decreasing temperatures\n",
    "    \n",
    "    for i, t := range temps {\n",
    "        for len(stack) > 0 && temps[stack[len(stack)-1]] < t {\n",
    "            j := stack[len(stack)-1]\n",
    "            stack = stack[:len(stack)-1]\n",
    "            answer[j] = i - j\n",
    "        }\n",
    "        stack = append(stack, i)\n",
    "    }\n",
    "    return answer\n",
    "}\n",
    "\n",
    "%%\n",
    "result := dailyTemperatures([]int{73, 74, 75, 71, 69, 72, 76, 73})\n",
    "fmt.Printf(\"Daily temperatures result: %v\\n\", result)"
   ]
  },
  {
   "cell_type": "markdown",
   "id": "a8833938",
   "metadata": {},
   "source": [
    "### Stock Span\n",
    "**Problem Statement:** For each day's price, compute the number of consecutive prior days (including today) with price <= today's price.\n",
    "\n",
    "**Intuition:** Maintain a stack of (price, span) in decreasing price order. Aggregate spans while popping smaller or equal prices.\n",
    "\n",
    "**Why it Works:** Any popped element had price <= current price, so its entire accumulated span is merged. Because spans collapse into one record, each day is popped at most once. Prices remaining on stack are strictly greater and thus bound the span window on the left. This guarantees linear total operations.\n",
    "\n",
    "**Complexity:** O(n) time, O(n) space worst-case."
   ]
  },
  {
   "cell_type": "code",
   "execution_count": null,
   "id": "930aebd5",
   "metadata": {
    "vscode": {
     "languageId": "go"
    }
   },
   "outputs": [],
   "source": [
    "// Stock Span\n",
    "type PriceSpan struct {\n",
    "    Price int\n",
    "    Span  int\n",
    "}\n",
    "\n",
    "func stockSpan(prices []int) []int {\n",
    "    var spans []int\n",
    "    var stack []PriceSpan // (price, accumulated_span)\n",
    "    \n",
    "    for _, price := range prices {\n",
    "        span := 1\n",
    "        fmt.Printf(\"price=%d, span=%d, stack=%v, spans=%v\\n\", price, span, stack, spans)\n",
    "        \n",
    "        for len(stack) > 0 && stack[len(stack)-1].Price <= price {\n",
    "            span += stack[len(stack)-1].Span\n",
    "            stack = stack[:len(stack)-1]\n",
    "            fmt.Printf(\"  price=%d, span=%d, stack=%v, spans=%v\\n\", price, span, stack, spans)\n",
    "        }\n",
    "        \n",
    "        stack = append(stack, PriceSpan{price, span})\n",
    "        spans = append(spans, span)\n",
    "        fmt.Printf(\"price=%d, span=%d, stack=%v, spans=%v\\n\\n\", price, span, stack, spans)\n",
    "    }\n",
    "    return spans\n",
    "}\n",
    "\n",
    "%%\n",
    "result := stockSpan([]int{100, 80, 60, 55, 50, 45, 95})\n",
    "fmt.Printf(\"Stock span result: %v\\n\", result)"
   ]
  },
  {
   "cell_type": "markdown",
   "id": "4dbd50a7",
   "metadata": {},
   "source": [
    "### Largest Rectangle in Histogram\n",
    "**Problem Statement:** Given bar heights (array of non-negative integers), find the area of the largest rectangle fully contained within the histogram.\n",
    "\n",
    "**Intuition:** \n",
    "- For each bar as the limiting (minimum) height, its maximal width extends to just before the previous smaller bar on the left and just before the next smaller bar on the right. \n",
    "- A monotonic increasing stack (by height) lets us know when a bar's right boundary is found (current height < stack top height). Pop and compute area on the fly.\n",
    "\n",
    "**Why it Works:** \n",
    "- Each bar is pushed once. \n",
    "- When a shorter bar arrives, every taller bar above it has now discovered its next smaller element (right boundary). \n",
    "- The height popped has left boundary = new stack top (or -1 if empty). \n",
    "- Right boundary = current index (exclusive). This yields width = right_index - left_index - 1. \n",
    "- The invariant (increasing heights) ensures correctness and linear total pops.\n",
    "\n",
    "**Complexity:** O(n) time, O(n) space for stack."
   ]
  },
  {
   "cell_type": "code",
   "execution_count": null,
   "id": "3ba61800",
   "metadata": {
    "vscode": {
     "languageId": "go"
    }
   },
   "outputs": [],
   "source": [
    "// Largest Rectangle in Histogram\n",
    "func largestRectangleArea(heights []int) int {\n",
    "    extended := append(heights, 0) // Append sentinel zero to flush stack\n",
    "    var stack []int // indices of increasing heights\n",
    "    best := 0\n",
    "    \n",
    "    for i, h := range extended {\n",
    "        fmt.Printf(\"i=%d, h=%d, stack=%v, best=%d\\n\", i, h, stack, best)\n",
    "        for len(stack) > 0 && extended[stack[len(stack)-1]] > h {\n",
    "            mid := stack[len(stack)-1]\n",
    "            stack = stack[:len(stack)-1]\n",
    "            leftIndex := -1\n",
    "            if len(stack) > 0 {\n",
    "                leftIndex = stack[len(stack)-1]\n",
    "            }\n",
    "            width := i - leftIndex - 1\n",
    "            area := extended[mid] * width\n",
    "            if area > best {\n",
    "                best = area\n",
    "            }\n",
    "            fmt.Printf(\"    mid=%d, leftIndex=%d, width=%d, area=%d, best=%d, stack=%v\\n\", \n",
    "                       mid, leftIndex, width, area, best, stack)\n",
    "        }\n",
    "        stack = append(stack, i)\n",
    "        fmt.Printf(\"i=%d, h=%d, stack=%v, best=%d\\n\\n\", i, h, stack, best)\n",
    "    }\n",
    "    return best\n",
    "}\n",
    "\n",
    "%%\n",
    "result := largestRectangleArea([]int{1, 2, 3, 4, 5, 3, 1, 7})\n",
    "fmt.Printf(\"Largest rectangle area: %d\\n\", result)"
   ]
  },
  {
   "cell_type": "markdown",
   "id": "4fa32475",
   "metadata": {},
   "source": [
    "### Trapping Rain Water (Stack Version)\n",
    "**Problem Statement:** Given non-negative integer heights representing elevation map bars (width 1), compute how much water can be trapped after raining.\n",
    "\n",
    "**Intuition:** Use a stack of indices of non-decreasing heights. When a higher bar appears, it may form a container with a previous higher (left) boundary. Pop the middle bar as the \"bottom\" and compute water = width * (min(left_height, right_height) - bottom_height).\n",
    "\n",
    "**Why it Works:** Water trapped above a bar depends on the nearest higher (or equal) bars on both sides. The monotonic increase ensures that when a taller right bar arrives, all lower bars between it and a taller (or equal) left boundary can have their trapped water resolved exactly once. Each index is pushed/popped at most once.\n",
    "\n",
    "**Complexity:** O(n) time, O(n) space."
   ]
  },
  {
   "cell_type": "code",
   "execution_count": null,
   "id": "7115d384",
   "metadata": {
    "vscode": {
     "languageId": "go"
    }
   },
   "outputs": [],
   "source": [
    "// Trapping Rain Water (Stack Version)\n",
    "func trapRainWater(height []int) int {\n",
    "    var stack []int\n",
    "    water := 0\n",
    "    \n",
    "    for i, h := range height {\n",
    "        fmt.Printf(\"i=%d, h=%d, stack=%v, water=%d\\n\", i, h, stack, water)\n",
    "        for len(stack) > 0 && height[stack[len(stack)-1]] < h {\n",
    "            mid := stack[len(stack)-1]\n",
    "            stack = stack[:len(stack)-1]\n",
    "            fmt.Printf(\"   i=%d, h=%d, stack=%v, water=%d <- stack popped\\n\", i, h, stack, water)\n",
    "            if len(stack) == 0 {\n",
    "                break\n",
    "            }\n",
    "            left := stack[len(stack)-1]\n",
    "            width := i - left - 1\n",
    "            boundedHeight := min(height[left], h) - height[mid]\n",
    "            fmt.Printf(\"   left=%d, width=%d, boundHeight=%d\\n\", left, width, boundedHeight)\n",
    "            if boundedHeight > 0 {\n",
    "                water += width * boundedHeight\n",
    "            }\n",
    "            fmt.Printf(\"   i=%d, h=%d, stack=%v, water=%d\\n\", i, h, stack, water)\n",
    "        }\n",
    "        stack = append(stack, i)\n",
    "        fmt.Printf(\"   i=%d, h=%d, stack=%v, water=%d\\n\\n\", i, h, stack, water)\n",
    "    }\n",
    "    return water\n",
    "}\n",
    "\n",
    "func min(a, b int) int {\n",
    "    if a < b {\n",
    "        return a\n",
    "    }\n",
    "    return b\n",
    "}\n",
    "\n",
    "%%\n",
    "result := trapRainWater([]int{0, 1, 0, 2, 1, 0, 1, 3, 2, 1, 2, 1})\n",
    "fmt.Printf(\"Trapped rain water: %d\\n\", result)"
   ]
  },
  {
   "cell_type": "markdown",
   "id": "7078c9a8",
   "metadata": {},
   "source": [
    "### Sum of Subarray Minimums\n",
    "**Problem Statement:** Given an array, compute the sum of the minimum of every contiguous subarray (mod `1e9+7` if needed).\n",
    "\n",
    "**Intuition:** Each element contributes its value times the number of subarrays in which it is the minimum. Need counts of subarrays where it is the unique chosen minimum: distances to previous strictly smaller and next smaller-or-equal elements. Use two monotonic passes.\n",
    "\n",
    "**Why it Works:** The contribution technique decomposes the global sum into disjoint sets of subarrays each charged to exactly one minimum element, achieved by consistent tie-breaking (strict on left, non-strict on right). Monotonic stacks find nearest smaller boundaries in linear time.\n",
    "\n",
    "**Complexity:** O(n) time, O(n) space."
   ]
  },
  {
   "cell_type": "code",
   "execution_count": null,
   "id": "ce8fdcaa",
   "metadata": {
    "vscode": {
     "languageId": "go"
    }
   },
   "outputs": [],
   "source": [
    "// Sum of Subarray Minimums\n",
    "func sumSubarrayMins(arr []int) int {\n",
    "    const MOD = 1000000007\n",
    "    n := len(arr)\n",
    "    prevSmaller := make([]int, n)\n",
    "    var stack []int\n",
    "    \n",
    "    // Previous strictly smaller\n",
    "    for i, x := range arr {\n",
    "        for len(stack) > 0 && arr[stack[len(stack)-1]] >= x {\n",
    "            stack = stack[:len(stack)-1]\n",
    "        }\n",
    "        if len(stack) == 0 {\n",
    "            prevSmaller[i] = -1\n",
    "        } else {\n",
    "            prevSmaller[i] = stack[len(stack)-1]\n",
    "        }\n",
    "        stack = append(stack, i)\n",
    "    }\n",
    "    \n",
    "    nextSmallerEqual := make([]int, n)\n",
    "    stack = stack[:0] // clear stack\n",
    "    \n",
    "    // Next smaller or equal\n",
    "    for i := n - 1; i >= 0; i-- {\n",
    "        x := arr[i]\n",
    "        for len(stack) > 0 && arr[stack[len(stack)-1]] > x {\n",
    "            stack = stack[:len(stack)-1]\n",
    "        }\n",
    "        if len(stack) == 0 {\n",
    "            nextSmallerEqual[i] = n\n",
    "        } else {\n",
    "            nextSmallerEqual[i] = stack[len(stack)-1]\n",
    "        }\n",
    "        stack = append(stack, i)\n",
    "    }\n",
    "    \n",
    "    total := int64(0)\n",
    "    for i, x := range arr {\n",
    "        left := i - prevSmaller[i]\n",
    "        right := nextSmallerEqual[i] - i\n",
    "        total = (total + int64(x)*int64(left)*int64(right)) % MOD\n",
    "    }\n",
    "    return int(total)\n",
    "}\n",
    "\n",
    "%%\n",
    "result := sumSubarrayMins([]int{3, 1, 2, 4})\n",
    "fmt.Printf(\"Sum of subarray minimums: %d\\n\", result)"
   ]
  },
  {
   "cell_type": "markdown",
   "id": "0cd36970",
   "metadata": {},
   "source": [
    "### Remove K Digits\n",
    "**Problem Statement:** Given a numeric string and integer k, remove k digits so the resulting number is the smallest possible (no leading zeros unless result is 0).\n",
    "\n",
    "**Intuition:** Greedy monotonic increasing stack of digits: while current digit is smaller than the stack top and we still can remove digits (k>0), pop to reduce future magnitude.\n",
    "\n",
    "**Why it Works:** A larger digit earlier increases the lexicographic / numeric value more than later positions. Removing a left-side larger digit when a smaller digit appears yields globally smaller number. Stack ensures minimal local prefix; remaining k leads to trimming the largest trailing digits. Leading zeros are stripped.\n",
    "\n",
    "**Complexity:** O(n) time, O(n) space."
   ]
  },
  {
   "cell_type": "code",
   "execution_count": null,
   "id": "592b0a44",
   "metadata": {
    "vscode": {
     "languageId": "go"
    }
   },
   "outputs": [],
   "source": [
    "import \"strings\"\n",
    "\n",
    "// Remove K Digits\n",
    "func removeKdigits(num string, k int) string {\n",
    "    var stack []rune\n",
    "    \n",
    "    for _, ch := range num {\n",
    "        for k > 0 && len(stack) > 0 && stack[len(stack)-1] > ch {\n",
    "            stack = stack[:len(stack)-1]\n",
    "            k--\n",
    "        }\n",
    "        stack = append(stack, ch)\n",
    "    }\n",
    "    \n",
    "    if k > 0 {\n",
    "        // remove from end if still left\n",
    "        stack = stack[:len(stack)-k]\n",
    "    }\n",
    "    \n",
    "    result := string(stack)\n",
    "    result = strings.TrimLeft(result, \"0\")\n",
    "    if result == \"\" {\n",
    "        return \"0\"\n",
    "    }\n",
    "    return result\n",
    "}\n",
    "\n",
    "%%\n",
    "result := removeKdigits(\"1234567\", 3)\n",
    "fmt.Printf(\"Remove K digits result: %s\\n\", result)"
   ]
  },
  {
   "cell_type": "markdown",
   "id": "7460e9f4",
   "metadata": {},
   "source": [
    "### Sliding Window Maximum (Monotonic Queue)\n",
    "**Problem Statement:** Given an array and window size k, return the max in each sliding window of size k.\n",
    "\n",
    "**Intuition:** Maintain a deque of indices with decreasing values (front is current max). Drop indices that fall out of the window and pop from back while new value >= back's value.\n",
    "\n",
    "**Why it Works:** Deque holds only candidates that can still become maximum for future windows in strictly decreasing order. Removing dominated (smaller) elements early guarantees each index enters and leaves deque once → O(n).\n",
    "\n",
    "**Complexity:** O(n) time, O(k) space."
   ]
  },
  {
   "cell_type": "code",
   "execution_count": null,
   "id": "8192b03b",
   "metadata": {
    "vscode": {
     "languageId": "go"
    }
   },
   "outputs": [],
   "source": [
    "// Sliding Window Maximum (Monotonic Queue)\n",
    "func slidingWindowMax(nums []int, k int) []int {\n",
    "    if k <= 0 {\n",
    "        return []int{}\n",
    "    }\n",
    "    var dq []int // indices, values strictly decreasing\n",
    "    var out []int\n",
    "    \n",
    "    for i, val := range nums {\n",
    "        for len(dq) > 0 && nums[dq[len(dq)-1]] <= val {\n",
    "            dq = dq[:len(dq)-1]\n",
    "        }\n",
    "        dq = append(dq, i)\n",
    "        \n",
    "        // Remove if out of the window (on the left)\n",
    "        if len(dq) > 0 && dq[0] <= i-k {\n",
    "            dq = dq[1:]\n",
    "        }\n",
    "        \n",
    "        // Start appending only when window gets its size (no window for the first k-1 index)\n",
    "        if i >= k-1 {\n",
    "            out = append(out, nums[dq[0]])\n",
    "        }\n",
    "    }\n",
    "    return out\n",
    "}\n",
    "\n",
    "%%\n",
    "result := slidingWindowMax([]int{1, 3, -1, -3, 5, 3, 6, 7}, 3)\n",
    "fmt.Printf(\"Sliding window maximum: %v\\n\", result)"
   ]
  },
  {
   "cell_type": "markdown",
   "id": "b3ae868d",
   "metadata": {},
   "source": [
    "### Asteroid Collision\n",
    "**Problem Statement:** Given a list of integers representing asteroids (sign = direction, magnitude = size). Positive moves right, negative moves left. When two meet, smaller explodes; if equal both explode. Return state after all collisions.\n",
    "\n",
    "**Intuition:** Stack holds asteroids moving right. When a new left-moving asteroid arrives (<0), resolve collisions while the top is a smaller right mover. Continue until it either explodes, all smaller right movers are removed, or encounters an equal-size right mover.\n",
    "\n",
    "**Why it Works:** Only possible collisions are between a right-moving asteroid already seen and a new left-moving one. Future asteroids cannot affect resolved past collisions. Each asteroid is pushed once and popped at most once. Directional constraint reduces pairwise checks to amortized constant per asteroid.\n",
    "\n",
    "**Complexity:** O(n) time, O(n) space."
   ]
  },
  {
   "cell_type": "code",
   "execution_count": null,
   "id": "ca19df90",
   "metadata": {
    "vscode": {
     "languageId": "go"
    }
   },
   "outputs": [],
   "source": [
    "// Asteroid Collision\n",
    "func asteroidCollision(asteroids []int) []int {\n",
    "    var stack []int\n",
    "    \n",
    "    for _, a := range asteroids {\n",
    "        alive := true\n",
    "        for alive && a < 0 && len(stack) > 0 && stack[len(stack)-1] > 0 {\n",
    "            top := stack[len(stack)-1]\n",
    "            if top < -a { // stack top explodes\n",
    "                stack = stack[:len(stack)-1]\n",
    "                continue\n",
    "            }\n",
    "            if top == -a { // both explode\n",
    "                stack = stack[:len(stack)-1]\n",
    "            }\n",
    "            alive = false // current explodes or both destroyed\n",
    "        }\n",
    "        if alive {\n",
    "            stack = append(stack, a)\n",
    "        }\n",
    "    }\n",
    "    return stack\n",
    "}\n",
    "\n",
    "%%\n",
    "result := asteroidCollision([]int{5, 10, -5})\n",
    "fmt.Printf(\"Asteroid collision result: %v\\n\", result)"
   ]
  }
 ],
 "metadata": {
  "language_info": {
   "name": "python"
  }
 },
 "nbformat": 4,
 "nbformat_minor": 5
}
