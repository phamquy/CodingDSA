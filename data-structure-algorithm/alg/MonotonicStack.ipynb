{
 "cells": [
  {
   "cell_type": "markdown",
   "id": "e946592d",
   "metadata": {},
   "source": [
    "# Monotonic Stack & Queue Patterns\n"
   ]
  },
  {
   "cell_type": "markdown",
   "id": "c613e90b",
   "metadata": {},
   "source": [
    "## 1. Concept\n",
    "\n",
    "A monotonic stack keeps elements (usually indices) so their corresponding values are strictly increasing or decreasing.\n",
    "Each element is pushed and popped at most once → O(n) total.\n",
    "You pop when the incoming element violates the monotonic invariant, resolving queries for popped items.\n",
    "\n",
    "Why indices? They let you compute distances (spans, widths) and re-access values. Each time element pop from stack, it will make a contribution to the final result:\n",
    "\n",
    "What Contribution Means: Each element in the array can “contribute” to the answer over a certain range defined by:\n",
    "- The next greater/smaller element to the left\n",
    "- The next greater/smaller element to the right\n",
    "- The stack helps identify these bounds efficiently."
   ]
  },
  {
   "cell_type": "markdown",
   "id": "99b1171e",
   "metadata": {},
   "source": [
    "## 2. Classic Problems Overview\n",
    "- Next Greater Element (NGE)\n",
    "- Daily Temperatures (span until warmer)\n",
    "- Stock Span (backward span of <= prices)\n",
    "- Largest Rectangle in Histogram (width via nearest smaller left/right)\n",
    "- Trapping Rain Water (stack version)\n",
    "- Sum of Subarray Minimums (contribution via nearest smaller constraints)\n",
    "- Remove K Digits (greedy monotonic increasing digits)\n",
    "- Sliding Window Maximum (monotonic queue / deque)\n",
    "- Asteroid Collision (directional resolution)\n"
   ]
  },
  {
   "cell_type": "markdown",
   "id": "9c8aa0b9",
   "metadata": {},
   "source": [
    "### Next Greater Element (NGE)\n",
    "**Problem Statement:** Given an integer array, for each element find the next element to its right that is strictly greater; if none, return -1.\n",
    "\n",
    "**Intuition:** Maintain a decreasing stack of indices. When a new element is greater than stack top, it resolves that index's answer. Each index is pushed/popped at most once.\n",
    "\n",
    "**Why it Works:** \n",
    "- The stack always stores indices of elements whose next greater element we have not yet discovered, in strictly decreasing value order (top is the smallest among them). \n",
    "- The first time we see a value greater than nums[j], it must be the closest greater to the right (because every element between j and current index i was processed and was <= nums[j], otherwise j would have been popped earlier). After popping j we never revisit it. \n",
    "- Each index is pushed exactly once and popped at most once → linear time.\n",
    "\n",
    "**Complexity:** O(n) time, O(n) space (answers + stack)."
   ]
  },
  {
   "cell_type": "code",
   "execution_count": 36,
   "id": "c9880587",
   "metadata": {},
   "outputs": [
    {
     "name": "stdout",
     "output_type": "stream",
     "text": [
      "i=0, val=3, stack=[], result=[-1, -1, -1, -1, -1]\n",
      "i=0, val=3, stack=[0], result=[-1, -1, -1, -1, -1]\n",
      "\n",
      "i=1, val=2, stack=[0], result=[-1, -1, -1, -1, -1]\n",
      "i=1, val=2, stack=[0, 1], result=[-1, -1, -1, -1, -1]\n",
      "\n",
      "i=2, val=1, stack=[0, 1], result=[-1, -1, -1, -1, -1]\n",
      "i=2, val=1, stack=[0, 1, 2], result=[-1, -1, -1, -1, -1]\n",
      "\n",
      "i=3, val=4, stack=[0, 1, 2], result=[-1, -1, -1, -1, -1]\n",
      ".    i=3, val=4, stack=[0, 1], result=[-1, -1, 4, -1, -1]\n",
      ".    i=3, val=4, stack=[0], result=[-1, 4, 4, -1, -1]\n",
      ".    i=3, val=4, stack=[], result=[4, 4, 4, -1, -1]\n",
      "i=3, val=4, stack=[3], result=[4, 4, 4, -1, -1]\n",
      "\n",
      "i=4, val=3, stack=[3], result=[4, 4, 4, -1, -1]\n",
      "i=4, val=3, stack=[3, 4], result=[4, 4, 4, -1, -1]\n",
      "\n"
     ]
    },
    {
     "data": {
      "text/plain": [
       "[4, 4, 4, -1, -1]"
      ]
     },
     "execution_count": 36,
     "metadata": {},
     "output_type": "execute_result"
    }
   ],
   "source": [
    "from typing import List\n",
    "\n",
    "def next_greater_element(nums: List[int]) -> List[int]:\n",
    "    n = len(nums)\n",
    "    result = [-1]*n\n",
    "    stack: List[int] = []  # holds indices with decreasing values\n",
    "    for i, val in enumerate(nums):\n",
    "        print(f\"i={i}, val={val}, stack={stack}, result={result}\")\n",
    "        while stack and nums[stack[-1]] < val:\n",
    "            result[stack.pop()] = val\n",
    "            print(f\".    i={i}, val={val}, stack={stack}, result={result}\")\n",
    "        stack.append(i)\n",
    "        print(f\"i={i}, val={val}, stack={stack}, result={result}\\n\")\n",
    "    return result\n",
    "\n",
    "# quick test\n",
    "next_greater_element([3,2,1,4,3])"
   ]
  },
  {
   "cell_type": "markdown",
   "id": "5e705579",
   "metadata": {},
   "source": [
    "### Daily Temperatures\n",
    "**Problem Statement:** Given daily temperatures, return for each day how many days until a warmer temperature; 0 if none.\n",
    "\n",
    "**Intuition:** Use a decreasing stack of indices (temperatures strictly descending). When a warmer temperature appears, pop indices and compute distance.\n",
    "\n",
    "**Why it Works:** For an index j, the first time we encounter a temperature higher than temps[j] at index i, all intervening temperatures were <= temps[j]; otherwise j would have been resolved earlier. Thus i is the closest warmer day. Strict decrease ensures each index is stored only until its answer is known. Push/pop once → O(n).\n",
    "\n",
    "**Complexity:** O(n) time, O(n) space."
   ]
  },
  {
   "cell_type": "code",
   "execution_count": 37,
   "id": "3433f91c",
   "metadata": {},
   "outputs": [
    {
     "data": {
      "text/plain": [
       "[1, 1, 4, 2, 1, 1, 0, 0]"
      ]
     },
     "execution_count": 37,
     "metadata": {},
     "output_type": "execute_result"
    }
   ],
   "source": [
    "from typing import List\n",
    "\n",
    "def daily_temperatures(temps: List[int]) -> List[int]:\n",
    "    n = len(temps)\n",
    "    answer = [0]*n\n",
    "    stack: List[int] = []  # indices with strictly decreasing temperatures\n",
    "    for i, t in enumerate(temps):\n",
    "        while stack and temps[stack[-1]] < t:\n",
    "            j = stack.pop()\n",
    "            answer[j] = i - j\n",
    "        stack.append(i)\n",
    "    return answer\n",
    "\n",
    "# quick test\n",
    "daily_temperatures([73,74,75,71,69,72,76,73])"
   ]
  },
  {
   "cell_type": "markdown",
   "id": "8c2e59e7",
   "metadata": {},
   "source": [
    "### Stock Span\n",
    "**Problem Statement:** For each day's price, compute the number of consecutive prior days (including today) with price <= today's price.\n",
    "\n",
    "**Intuition:** Maintain a stack of (price, span) in decreasing price order. Aggregate spans while popping smaller or equal prices.\n",
    "\n",
    "**Why it Works:** Any popped element had price <= current price, so its entire accumulated span is merged. Because spans collapse into one record, each day is popped at most once. Prices remaining on stack are strictly greater and thus bound the span window on the left. This guarantees linear total operations.\n",
    "\n",
    "**Complexity:** O(n) time, O(n) space worst-case."
   ]
  },
  {
   "cell_type": "code",
   "execution_count": 38,
   "id": "53c6b1cf",
   "metadata": {},
   "outputs": [
    {
     "name": "stdout",
     "output_type": "stream",
     "text": [
      "price=100, span=1, stack=[], spans=[]\n",
      "price=100, span=1, stack=[(100, 1)], spans=[1]\n",
      "\n",
      "price=80, span=1, stack=[(100, 1)], spans=[1]\n",
      "price=80, span=1, stack=[(100, 1), (80, 1)], spans=[1, 1]\n",
      "\n",
      "price=60, span=1, stack=[(100, 1), (80, 1)], spans=[1, 1]\n",
      "price=60, span=1, stack=[(100, 1), (80, 1), (60, 1)], spans=[1, 1, 1]\n",
      "\n",
      "price=55, span=1, stack=[(100, 1), (80, 1), (60, 1)], spans=[1, 1, 1]\n",
      "price=55, span=1, stack=[(100, 1), (80, 1), (60, 1), (55, 1)], spans=[1, 1, 1, 1]\n",
      "\n",
      "price=50, span=1, stack=[(100, 1), (80, 1), (60, 1), (55, 1)], spans=[1, 1, 1, 1]\n",
      "price=50, span=1, stack=[(100, 1), (80, 1), (60, 1), (55, 1), (50, 1)], spans=[1, 1, 1, 1, 1]\n",
      "\n",
      "price=45, span=1, stack=[(100, 1), (80, 1), (60, 1), (55, 1), (50, 1)], spans=[1, 1, 1, 1, 1]\n",
      "price=45, span=1, stack=[(100, 1), (80, 1), (60, 1), (55, 1), (50, 1), (45, 1)], spans=[1, 1, 1, 1, 1, 1]\n",
      "\n",
      "price=95, span=1, stack=[(100, 1), (80, 1), (60, 1), (55, 1), (50, 1), (45, 1)], spans=[1, 1, 1, 1, 1, 1]\n",
      ".  price=95,  span=2, stack=[(100, 1), (80, 1), (60, 1), (55, 1), (50, 1)], spans=[1, 1, 1, 1, 1, 1]\n",
      ".  price=95,  span=3, stack=[(100, 1), (80, 1), (60, 1), (55, 1)], spans=[1, 1, 1, 1, 1, 1]\n",
      ".  price=95,  span=4, stack=[(100, 1), (80, 1), (60, 1)], spans=[1, 1, 1, 1, 1, 1]\n",
      ".  price=95,  span=5, stack=[(100, 1), (80, 1)], spans=[1, 1, 1, 1, 1, 1]\n",
      ".  price=95,  span=6, stack=[(100, 1)], spans=[1, 1, 1, 1, 1, 1]\n",
      "price=95, span=6, stack=[(100, 1), (95, 6)], spans=[1, 1, 1, 1, 1, 1, 6]\n",
      "\n"
     ]
    },
    {
     "data": {
      "text/plain": [
       "[1, 1, 1, 1, 1, 1, 6]"
      ]
     },
     "execution_count": 38,
     "metadata": {},
     "output_type": "execute_result"
    }
   ],
   "source": [
    "from typing import List, Tuple\n",
    "\n",
    "def stock_span(prices: List[int]) -> List[int]:\n",
    "    spans: List[int] = []\n",
    "    stack: List[Tuple[int,int]] = []  # (price, accumulated_span)\n",
    "    for price in prices:\n",
    "        span = 1\n",
    "        print(f\"price={price}, span={span}, stack={stack}, spans={spans}\")\n",
    "\n",
    "        while stack and stack[-1][0] <= price:\n",
    "            span += stack.pop()[1]\n",
    "            print(f\".  price={price},  span={span}, stack={stack}, spans={spans}\")\n",
    "\n",
    "        stack.append((price, span))\n",
    "        spans.append(span)\n",
    "        print(f\"price={price}, span={span}, stack={stack}, spans={spans}\\n\")\n",
    "    return spans\n",
    "\n",
    "# quick test\n",
    "stock_span([100,80,60,55,50,45,95])"
   ]
  },
  {
   "cell_type": "markdown",
   "id": "c842f25e",
   "metadata": {},
   "source": [
    "### Largest Rectangle in Histogram\n",
    "**Problem Statement:** Given bar heights (array of non-negative integers), find the area of the largest rectangle fully contained within the histogram.\n",
    "\n",
    "**Intuition:** \n",
    "- For each bar as the limiting (minimum) height, its maximal width extends to just before the previous smaller bar on the left and just before the next smaller bar on the right. \n",
    "- A monotonic increasing stack (by height) lets us know when a bar's right boundary is found (current height < stack top height). Pop and compute area on the fly.\n",
    "\n",
    "**Why it Works:** \n",
    "- Each bar is pushed once. \n",
    "- When a shorter bar arrives, every taller bar above it has now discovered its next smaller element (right boundary). \n",
    "- The height popped has left boundary = new stack top (or -1 if empty). \n",
    "- Right boundary = current index (exclusive). This yields width = right_index - left_index - 1. \n",
    "- The invariant (increasing heights) ensures correctness and linear total pops.\n",
    "\n",
    "**Complexity:** O(n) time, O(n) space for stack.\n"
   ]
  },
  {
   "cell_type": "code",
   "execution_count": 39,
   "id": "120b8a2f",
   "metadata": {},
   "outputs": [
    {
     "name": "stdout",
     "output_type": "stream",
     "text": [
      "i=0, h=1, stack=[], best=0\n",
      "i=0, h=1, stack=[0], best=0\n",
      "\n",
      "i=1, h=2, stack=[0], best=0\n",
      "i=1, h=2, stack=[0, 1], best=0\n",
      "\n",
      "i=2, h=3, stack=[0, 1], best=0\n",
      "i=2, h=3, stack=[0, 1, 2], best=0\n",
      "\n",
      "i=3, h=4, stack=[0, 1, 2], best=0\n",
      "i=3, h=4, stack=[0, 1, 2, 3], best=0\n",
      "\n",
      "i=4, h=5, stack=[0, 1, 2, 3], best=0\n",
      "i=4, h=5, stack=[0, 1, 2, 3, 4], best=0\n",
      "\n",
      "i=5, h=3, stack=[0, 1, 2, 3, 4], best=0\n",
      ".    mid=4, left_index=3, width=1, area=5, best=5, stack=[0, 1, 2, 3]\n",
      ".    mid=3, left_index=2, width=2, area=8, best=8, stack=[0, 1, 2]\n",
      "i=5, h=3, stack=[0, 1, 2, 5], best=8\n",
      "\n",
      "i=6, h=1, stack=[0, 1, 2, 5], best=8\n",
      ".    mid=5, left_index=2, width=3, area=9, best=9, stack=[0, 1, 2]\n",
      ".    mid=2, left_index=1, width=4, area=12, best=12, stack=[0, 1]\n",
      ".    mid=1, left_index=0, width=5, area=10, best=12, stack=[0]\n",
      "i=6, h=1, stack=[0, 6], best=12\n",
      "\n",
      "i=7, h=7, stack=[0, 6], best=12\n",
      "i=7, h=7, stack=[0, 6, 7], best=12\n",
      "\n",
      "i=8, h=0, stack=[0, 6, 7], best=12\n",
      ".    mid=7, left_index=6, width=1, area=7, best=12, stack=[0, 6]\n",
      ".    mid=6, left_index=0, width=7, area=7, best=12, stack=[0]\n",
      ".    mid=0, left_index=-1, width=8, area=8, best=12, stack=[]\n",
      "i=8, h=0, stack=[8], best=12\n",
      "\n"
     ]
    },
    {
     "data": {
      "text/plain": [
       "12"
      ]
     },
     "execution_count": 39,
     "metadata": {},
     "output_type": "execute_result"
    }
   ],
   "source": [
    "from typing import List\n",
    "\n",
    "def largest_rectangle_area(heights: List[int]) -> int:\n",
    "    # Append sentinel zero to flush stack\n",
    "    extended = heights + [0]\n",
    "    stack: List[int] = []  # indices of increasing heights\n",
    "    best = 0\n",
    "    for i, h in enumerate(extended):\n",
    "        print(f\"i={i}, h={h}, stack={stack}, best={best}\")\n",
    "        while stack and extended[stack[-1]] > h:\n",
    "            mid = stack.pop()\n",
    "            left_index = stack[-1] if stack else -1\n",
    "            width = i - left_index - 1\n",
    "            area = extended[mid] * width\n",
    "            best = max(best, area)\n",
    "            print(f\".    mid={mid}, left_index={left_index}, width={width}, area={area}, best={best}, stack={stack}\")\n",
    "        stack.append(i)\n",
    "        print(f\"i={i}, h={h}, stack={stack}, best={best}\\n\")\n",
    "    return best\n",
    "\n",
    "# quick test\n",
    "largest_rectangle_area([1,2,3,4,5,3,1,7])\n",
    "# largest_rectangle_area([2])"
   ]
  },
  {
   "cell_type": "markdown",
   "id": "cc2b664f",
   "metadata": {},
   "source": [
    "### Trapping Rain Water (Stack Version)\n",
    "**Problem Statement:** Given non-negative integer heights representing elevation map bars (width 1), compute how much water can be trapped after raining.\n",
    "\n",
    "**Intuition:** Use a stack of indices of non-decreasing heights. When a higher bar appears, it may form a container with a previous higher (left) boundary. Pop the middle bar as the “bottom” and compute water = width * (min(left_height, right_height) - bottom_height).\n",
    "\n",
    "**Why it Works:** Water trapped above a bar depends on the nearest higher (or equal) bars on both sides. The monotonic increase ensures that when a taller right bar arrives, all lower bars between it and a taller (or equal) left boundary can have their trapped water resolved exactly once. Each index is pushed/popped at most once.\n",
    "\n",
    "**Complexity:** O(n) time, O(n) space.\n"
   ]
  },
  {
   "cell_type": "code",
   "execution_count": 40,
   "id": "a6cb3be8",
   "metadata": {},
   "outputs": [
    {
     "name": "stdout",
     "output_type": "stream",
     "text": [
      "i=0, h=0, stack=[], water=0\n",
      ".   i=0, h=0, stack=[0], water=0\n",
      "\n",
      "i=1, h=1, stack=[0], water=0\n",
      ".   i=1, h=1, stack=[], water=0 <- stack popped\n",
      ".   i=1, h=1, stack=[1], water=0\n",
      "\n",
      "i=2, h=0, stack=[1], water=0\n",
      ".   i=2, h=0, stack=[1, 2], water=0\n",
      "\n",
      "i=3, h=2, stack=[1, 2], water=0\n",
      ".   i=3, h=2, stack=[1], water=0 <- stack popped\n",
      ".   left=1, width=1, bound_height=1\n",
      ".   i=3, h=2, stack=[1], water=1\n",
      ".   i=3, h=2, stack=[], water=1 <- stack popped\n",
      ".   i=3, h=2, stack=[3], water=1\n",
      "\n",
      "i=4, h=1, stack=[3], water=1\n",
      ".   i=4, h=1, stack=[3, 4], water=1\n",
      "\n",
      "i=5, h=0, stack=[3, 4], water=1\n",
      ".   i=5, h=0, stack=[3, 4, 5], water=1\n",
      "\n",
      "i=6, h=1, stack=[3, 4, 5], water=1\n",
      ".   i=6, h=1, stack=[3, 4], water=1 <- stack popped\n",
      ".   left=4, width=1, bound_height=1\n",
      ".   i=6, h=1, stack=[3, 4], water=2\n",
      ".   i=6, h=1, stack=[3, 4, 6], water=2\n",
      "\n",
      "i=7, h=3, stack=[3, 4, 6], water=2\n",
      ".   i=7, h=3, stack=[3, 4], water=2 <- stack popped\n",
      ".   left=4, width=2, bound_height=0\n",
      ".   i=7, h=3, stack=[3, 4], water=2\n",
      ".   i=7, h=3, stack=[3], water=2 <- stack popped\n",
      ".   left=3, width=3, bound_height=1\n",
      ".   i=7, h=3, stack=[3], water=5\n",
      ".   i=7, h=3, stack=[], water=5 <- stack popped\n",
      ".   i=7, h=3, stack=[7], water=5\n",
      "\n",
      "i=8, h=2, stack=[7], water=5\n",
      ".   i=8, h=2, stack=[7, 8], water=5\n",
      "\n",
      "i=9, h=1, stack=[7, 8], water=5\n",
      ".   i=9, h=1, stack=[7, 8, 9], water=5\n",
      "\n",
      "i=10, h=2, stack=[7, 8, 9], water=5\n",
      ".   i=10, h=2, stack=[7, 8], water=5 <- stack popped\n",
      ".   left=8, width=1, bound_height=1\n",
      ".   i=10, h=2, stack=[7, 8], water=6\n",
      ".   i=10, h=2, stack=[7, 8, 10], water=6\n",
      "\n",
      "i=11, h=1, stack=[7, 8, 10], water=6\n",
      ".   i=11, h=1, stack=[7, 8, 10, 11], water=6\n",
      "\n"
     ]
    },
    {
     "data": {
      "text/plain": [
       "6"
      ]
     },
     "execution_count": 40,
     "metadata": {},
     "output_type": "execute_result"
    }
   ],
   "source": [
    "from typing import List\n",
    "\n",
    "def trap_rain_water(height: List[int]) -> int:\n",
    "    stack: List[int] = []\n",
    "    water = 0\n",
    "    for i, h in enumerate(height):\n",
    "        print(f\"i={i}, h={h}, stack={stack}, water={water}\")\n",
    "        while stack and height[stack[-1]] < h:\n",
    "            mid = stack.pop()\n",
    "            print(f\".   i={i}, h={h}, stack={stack}, water={water} <- stack popped\")\n",
    "            if not stack:\n",
    "                break\n",
    "            left = stack[-1]\n",
    "            width = i - left - 1\n",
    "            bounded_height = min(height[left], h) - height[mid]\n",
    "            print(f\".   left={left}, width={width}, bound_height={bounded_height}\")\n",
    "            if bounded_height > 0:\n",
    "                water += width * bounded_height\n",
    "            print(f\".   i={i}, h={h}, stack={stack}, water={water}\")\n",
    "        stack.append(i)\n",
    "        print(f\".   i={i}, h={h}, stack={stack}, water={water}\\n\")\n",
    "    return water\n",
    "\n",
    "# quick test\n",
    "trap_rain_water([0,1,0,2,1,0,1,3,2,1,2,1])"
   ]
  },
  {
   "cell_type": "markdown",
   "id": "4dde6f93",
   "metadata": {},
   "source": [
    "### Sum of Subarray Minimums\n",
    "**Problem Statement:** Given an array, compute the sum of the minimum of every contiguous subarray (mod `1e9+7` if needed).\n",
    "\n",
    "**Intuition:** Each element contributes its value times the number of subarrays in which it is the minimum. Need counts of subarrays where it is the unique chosen minimum: distances to previous strictly smaller and next smaller-or-equal elements. Use two monotonic passes.\n",
    "\n",
    "**Why it Works:** The contribution technique decomposes the global sum into disjoint sets of subarrays each charged to exactly one minimum element, achieved by consistent tie-breaking (strict on left, non-strict on right). Monotonic stacks find nearest smaller boundaries in linear time.\n",
    "\n",
    "**Complexity:** O(n) time, O(n) space.\n"
   ]
  },
  {
   "cell_type": "code",
   "execution_count": 41,
   "id": "2d5ed2c1",
   "metadata": {},
   "outputs": [
    {
     "data": {
      "text/plain": [
       "17"
      ]
     },
     "execution_count": 41,
     "metadata": {},
     "output_type": "execute_result"
    }
   ],
   "source": [
    "from typing import List\n",
    "\n",
    "def sum_subarray_mins(arr: List[int]) -> int:\n",
    "    MOD = 10**9 + 7\n",
    "    n = len(arr)\n",
    "    prev_smaller = [-1]*n\n",
    "    stack: List[int] = []\n",
    "    \n",
    "    \n",
    "    # Previous strictly smaller\n",
    "    for i, x in enumerate(arr):\n",
    "        \n",
    "        while stack and arr[stack[-1]] >= x:\n",
    "            stack.pop()\n",
    "\n",
    "        prev_smaller[i] = stack[-1] if stack else -1\n",
    "        stack.append(i)\n",
    "    next_smaller_equal = [n]*n\n",
    "    stack.clear()\n",
    "\n",
    "\n",
    "    # Next smaller or equal\n",
    "    for i in range(n-1, -1, -1):\n",
    "        x = arr[i]\n",
    "\n",
    "        while stack and arr[stack[-1]] > x:\n",
    "            stack.pop()\n",
    "        \n",
    "        next_smaller_equal[i] = stack[-1] if stack else n\n",
    "        stack.append(i)\n",
    "    total = 0\n",
    "\n",
    "\n",
    "    for i, x in enumerate(arr):\n",
    "        left = i - prev_smaller[i]\n",
    "        right = next_smaller_equal[i] - i\n",
    "        total = (total + x * left * right) % MOD\n",
    "    return total\n",
    "\n",
    "# quick test\n",
    "sum_subarray_mins([3,1,2,4])"
   ]
  },
  {
   "cell_type": "markdown",
   "id": "c55377b2",
   "metadata": {},
   "source": [
    "### Remove K Digits\n",
    "**Problem Statement:** Given a numeric string and integer k, remove k digits so the resulting number is the smallest possible (no leading zeros unless result is 0).\n",
    "\n",
    "**Intuition:** Greedy monotonic increasing stack of digits: while current digit is smaller than the stack top and we still can remove digits (k>0), pop to reduce future magnitude.\n",
    "\n",
    "**Why it Works:** A larger digit earlier increases the lexicographic / numeric value more than later positions. Removing a left-side larger digit when a smaller digit appears yields globally smaller number. Stack ensures minimal local prefix; remaining k leads to trimming the largest trailing digits. Leading zeros are stripped.\n",
    "\n",
    "**Complexity:** O(n) time, O(n) space.\n"
   ]
  },
  {
   "cell_type": "code",
   "execution_count": 46,
   "id": "70b49377",
   "metadata": {},
   "outputs": [
    {
     "data": {
      "text/plain": [
       "'1234'"
      ]
     },
     "execution_count": 46,
     "metadata": {},
     "output_type": "execute_result"
    }
   ],
   "source": [
    "def remove_k_digits(num: str, k: int) -> str:\n",
    "    stack = []\n",
    "    \n",
    "    for ch in num:\n",
    "        while k and stack and stack[-1] > ch:\n",
    "            stack.pop(); k -= 1\n",
    "        stack.append(ch)\n",
    "\n",
    "\n",
    "    if k:  # remove from end if still left\n",
    "        stack = stack[:-k]\n",
    "    result = ''.join(stack).lstrip('0')\n",
    "    return result or '0'\n",
    "\n",
    "# quick test\n",
    "# remove_k_digits(\"1432219\", 3)\n",
    "remove_k_digits(\"1234567\", 3)"
   ]
  },
  {
   "cell_type": "markdown",
   "id": "46c5de9a",
   "metadata": {},
   "source": [
    "### Sliding Window Maximum (Monotonic Queue)\n",
    "**Problem Statement:** Given an array and window size k, return the max in each sliding window of size k.\n",
    "\n",
    "**Intuition:** Maintain a deque of indices with decreasing values (front is current max). Drop indices that fall out of the window and pop from back while new value >= back's value.\n",
    "\n",
    "**Why it Works:** Deque holds only candidates that can still become maximum for future windows in strictly decreasing order. Removing dominated (smaller) elements early guarantees each index enters and leaves deque once → O(n).\n",
    "\n",
    "**Complexity:** O(n) time, O(k) space.\n"
   ]
  },
  {
   "cell_type": "code",
   "execution_count": null,
   "id": "0b11c248",
   "metadata": {},
   "outputs": [
    {
     "data": {
      "text/plain": [
       "[3, 3, 5, 5, 6, 7]"
      ]
     },
     "execution_count": 43,
     "metadata": {},
     "output_type": "execute_result"
    }
   ],
   "source": [
    "from collections import deque\n",
    "from typing import List\n",
    "\n",
    "def sliding_window_max(nums: List[int], k: int) -> List[int]:\n",
    "    if k <= 0: return []\n",
    "    dq = deque()  # indices, values strictly decreasing\n",
    "    out = []\n",
    "    for i, val in enumerate(nums):\n",
    "        while dq and nums[dq[-1]] <= val:\n",
    "            dq.pop()\n",
    "        dq.append(i)\n",
    "\n",
    "        # Remove if outof the window (on the left)\n",
    "        if dq[0] <= i - k:\n",
    "            dq.popleft()\n",
    "\n",
    "        # Start appending only window get it size (no window for the first k-1 index)\n",
    "        if i >= k - 1:\n",
    "            out.append(nums[dq[0]])\n",
    "    return out\n",
    "\n",
    "# quick test\n",
    "sliding_window_max([1,3,-1,-3,5,3,6,7], 3)"
   ]
  },
  {
   "cell_type": "markdown",
   "id": "b0db93c1",
   "metadata": {},
   "source": [
    "### Asteroid Collision\n",
    "**Problem Statement:** Given a list of integers representing asteroids (sign = direction, magnitude = size). Positive moves right, negative moves left. When two meet, smaller explodes; if equal both explode. Return state after all collisions.\n",
    "\n",
    "**Intuition:** Stack holds asteroids moving right. When a new left-moving asteroid arrives (<0), resolve collisions while the top is a smaller right mover. Continue until it either explodes, all smaller right movers are removed, or encounters an equal-size right mover.\n",
    "\n",
    "**Why it Works:** Only possible collisions are between a right-moving asteroid already seen and a new left-moving one. Future asteroids cannot affect resolved past collisions. Each asteroid is pushed once and popped at most once. Directional constraint reduces pairwise checks to amortized constant per asteroid.\n",
    "\n",
    "**Complexity:** O(n) time, O(n) space.\n"
   ]
  },
  {
   "cell_type": "code",
   "execution_count": 44,
   "id": "941ed074",
   "metadata": {},
   "outputs": [
    {
     "data": {
      "text/plain": [
       "[5, 10]"
      ]
     },
     "execution_count": 44,
     "metadata": {},
     "output_type": "execute_result"
    }
   ],
   "source": [
    "from typing import List\n",
    "\n",
    "def asteroid_collision(asteroids: List[int]) -> List[int]:\n",
    "    stack: List[int] = []\n",
    "    for a in asteroids:\n",
    "        alive = True\n",
    "        while alive and a < 0 and stack and stack[-1] > 0:\n",
    "            if stack[-1] < -a:  # stack top explodes\n",
    "                stack.pop()\n",
    "                continue\n",
    "            if stack[-1] == -a:  # both explode\n",
    "                stack.pop()\n",
    "            alive = False  # current explodes or both destroyed\n",
    "        if alive:\n",
    "            stack.append(a)\n",
    "    return stack\n",
    "\n",
    "# quick test\n",
    "asteroid_collision([5,10,-5])"
   ]
  }
 ],
 "metadata": {
  "kernelspec": {
   "display_name": "Python 3",
   "language": "python",
   "name": "python3"
  },
  "language_info": {
   "codemirror_mode": {
    "name": "ipython",
    "version": 3
   },
   "file_extension": ".py",
   "mimetype": "text/x-python",
   "name": "python",
   "nbconvert_exporter": "python",
   "pygments_lexer": "ipython3",
   "version": "3.12.11"
  }
 },
 "nbformat": 4,
 "nbformat_minor": 5
}
