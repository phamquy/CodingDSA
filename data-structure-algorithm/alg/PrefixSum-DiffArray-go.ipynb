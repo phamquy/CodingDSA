{
 "cells": [
  {
   "cell_type": "markdown",
   "id": "1403d4b4",
   "metadata": {},
   "source": [
    "## Prefix Sum & Difference Array\n",
    "What: Precompute cumulative sums to enable O(1) range sum queries. Difference arrays enable O(1) range updates.\n",
    "\n",
    "When to use:\n",
    "- **Prefix Sum**: Multiple range sum queries on static arrays, subarray problems with sum conditions\n",
    "- **Difference Array**: Multiple range updates on arrays, especially when updates outnumber queries\n",
    "\n",
    "Key insight: Trade space for time—use O(n) extra space to make operations O(1) instead of O(n).\n",
    "\n",
    "Template:\n",
    "```python\n",
    "// Prefix sum\n",
    "prefix[i+1] = prefix[i] + arr[i]\n",
    "range_sum(l, r) = prefix[r+1] - prefix[l]\n",
    "\n",
    "// Difference array  \n",
    "diff[l] += delta, diff[r+1] -= delta\n",
    "// Then prefix sum diff[] to get final array\n",
    "```\n",
    "\n",
    "Complexity: O(n) preprocessing, O(1) per query/update.\n",
    "\n",
    "Edge cases: Empty arrays, out-of-bounds indices, integer overflow on large sums."
   ]
  },
  {
   "cell_type": "code",
   "execution_count": 1,
   "id": "ea4c4187",
   "metadata": {},
   "outputs": [
    {
     "name": "stdout",
     "output_type": "stream",
     "text": [
      "Range sum (1,3): 6\n"
     ]
    }
   ],
   "source": [
    "package main\n",
    "\n",
    "import \"fmt\"\n",
    "\n",
    "// Range Sum with Prefix Sums\n",
    "func buildPrefix(nums []int) []int {\n",
    "    prefixSums := make([]int, len(nums)+1)\n",
    "    for idx, value := range nums {\n",
    "        prefixSums[idx+1] = prefixSums[idx] + value\n",
    "    }\n",
    "    return prefixSums\n",
    "}\n",
    "\n",
    "func rangeSum(prefixSums []int, left, right int) int {\n",
    "    return prefixSums[right+1] - prefixSums[left]\n",
    "}\n",
    "\n",
    "%%\n",
    "sampleArray := []int{2, -1, 3, 4}\n",
    "prefixSums := buildPrefix(sampleArray)\n",
    "fmt.Println(\"Range sum (1,3):\", rangeSum(prefixSums, 1, 3))"
   ]
  },
  {
   "cell_type": "code",
   "execution_count": 2,
   "id": "cb549c7f",
   "metadata": {},
   "outputs": [
    {
     "name": "stdout",
     "output_type": "stream",
     "text": [
      "Subarray sum equals k: 4\n"
     ]
    }
   ],
   "source": [
    "// Subarray Sum Equals K\n",
    "func subarraySumEqualsK(nums []int, targetSum int) int {\n",
    "    prefixFrequency := make(map[int]int)\n",
    "    prefixFrequency[0] = 1\n",
    "    runningPrefix := 0\n",
    "    totalSubarrays := 0\n",
    "    \n",
    "    for _, value := range nums {\n",
    "        runningPrefix += value\n",
    "        totalSubarrays += prefixFrequency[runningPrefix-targetSum]\n",
    "        prefixFrequency[runningPrefix]++\n",
    "    }\n",
    "    return totalSubarrays\n",
    "}\n",
    "\n",
    "%%\n",
    "fmt.Println(\"Subarray sum equals k:\", subarraySumEqualsK([]int{3,4,7,2,-3,1,4,2}, 7))"
   ]
  },
  {
   "cell_type": "code",
   "execution_count": 3,
   "id": "f48c090f",
   "metadata": {},
   "outputs": [
    {
     "name": "stdout",
     "output_type": "stream",
     "text": [
      "Subarrays divisible by k: 7\n"
     ]
    }
   ],
   "source": [
    "// Subarrays Divisible by K\n",
    "func subarraysDivisibleByK(nums []int, k int) int {\n",
    "    moduloFrequency := make(map[int]int)\n",
    "    moduloFrequency[0] = 1\n",
    "    runningMod := 0\n",
    "    totalSubarrays := 0\n",
    "    \n",
    "    for _, value := range nums {\n",
    "        runningMod = (runningMod + value) % k\n",
    "        // Handle negative modulo in Go\n",
    "        if runningMod < 0 {\n",
    "            runningMod += k\n",
    "        }\n",
    "        totalSubarrays += moduloFrequency[runningMod]\n",
    "        moduloFrequency[runningMod]++\n",
    "    }\n",
    "    return totalSubarrays\n",
    "}\n",
    "\n",
    "%%\n",
    "fmt.Println(\"Subarrays divisible by k:\", subarraysDivisibleByK([]int{1,2,3,4,5}, 3))"
   ]
  },
  {
   "cell_type": "code",
   "execution_count": 4,
   "id": "fb528439",
   "metadata": {},
   "outputs": [
    {
     "name": "stdout",
     "output_type": "stream",
     "text": [
      "Sum region: 11\n"
     ]
    }
   ],
   "source": [
    "// 2D Prefix Sum\n",
    "func build2DPrefix(matrix [][]int) [][]int {\n",
    "    rowCount := len(matrix)\n",
    "    colCount := 0\n",
    "    if rowCount > 0 {\n",
    "        colCount = len(matrix[0])\n",
    "    }\n",
    "    prefix2d := make([][]int, rowCount+1)\n",
    "    for i := range prefix2d {\n",
    "        prefix2d[i] = make([]int, colCount+1)\n",
    "    }\n",
    "    \n",
    "    for r := 1; r <= rowCount; r++ {\n",
    "        rowRunningSum := 0\n",
    "        for c := 1; c <= colCount; c++ {\n",
    "            rowRunningSum += matrix[r-1][c-1]\n",
    "            prefix2d[r][c] = prefix2d[r-1][c] + rowRunningSum\n",
    "        }\n",
    "    }\n",
    "    return prefix2d\n",
    "}\n",
    "\n",
    "func sumRegion(prefix2d [][]int, topRow, leftCol, bottomRow, rightCol int) int {\n",
    "    return prefix2d[bottomRow+1][rightCol+1] -\n",
    "           prefix2d[topRow][rightCol+1] -\n",
    "           prefix2d[bottomRow+1][leftCol] +\n",
    "           prefix2d[topRow][leftCol]\n",
    "}\n",
    "\n",
    "%%\n",
    "matrixExample := [][]int{\n",
    "    {3, 0, 1, 4, 2},\n",
    "    {5, 6, 3, 2, 1},\n",
    "    {1, 2, 0, 1, 5},\n",
    "    {4, 1, 0, 1, 7},\n",
    "    {1, 0, 3, 0, 5},\n",
    "}\n",
    "prefix2d := build2DPrefix(matrixExample)\n",
    "fmt.Println(\"Sum region:\", sumRegion(prefix2d, 1, 1, 2, 2))"
   ]
  },
  {
   "cell_type": "code",
   "execution_count": 5,
   "id": "ea76301d",
   "metadata": {},
   "outputs": [
    {
     "name": "stdout",
     "output_type": "stream",
     "text": [
      "Range updates: [5 0 0 2 2 3 3 3 1 1]\n"
     ]
    }
   ],
   "source": [
    "// Apply Range Updates (Difference Array)\n",
    "func applyRangeUpdates(length int, updates [][3]int) []int {\n",
    "    difference := make([]int, length+1)\n",
    "    for _, update := range updates {\n",
    "        startIdx, endIdx, delta := update[0], update[1], update[2]\n",
    "        difference[startIdx] += delta\n",
    "        if endIdx+1 < length {\n",
    "            difference[endIdx+1] -= delta\n",
    "        }\n",
    "    }\n",
    "    result := make([]int, length)\n",
    "    runningTotal := 0\n",
    "    for i := 0; i < length; i++ {\n",
    "        runningTotal += difference[i]\n",
    "        result[i] = runningTotal\n",
    "    }\n",
    "    return result\n",
    "}\n",
    "\n",
    "%%\n",
    "fmt.Println(\"Range updates:\", applyRangeUpdates(10, [][3]int{{0,0,5}, {5,9,1}, {3,7,2}}))"
   ]
  }
 ],
 "metadata": {
  "kernelspec": {
   "display_name": "Go (gonb)",
   "language": "go",
   "name": "gonb"
  },
  "language_info": {
   "codemirror_mode": "",
   "file_extension": ".go",
   "mimetype": "text/x-go",
   "name": "go",
   "nbconvert_exporter": "",
   "pygments_lexer": "",
   "version": "go1.25.1"
  }
 },
 "nbformat": 4,
 "nbformat_minor": 5
}
