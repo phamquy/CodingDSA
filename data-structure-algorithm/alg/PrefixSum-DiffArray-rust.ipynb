{
 "cells": [
  {
   "cell_type": "markdown",
   "id": "a7468378",
   "metadata": {},
   "source": [
    "## Prefix Sum & Difference Array\n",
    "What: Precompute cumulative sums to enable O(1) range sum queries. Difference arrays enable O(1) range updates.\n",
    "\n",
    "When to use:\n",
    "- **Prefix Sum**: Multiple range sum queries on static arrays, subarray problems with sum conditions\n",
    "- **Difference Array**: Multiple range updates on arrays, especially when updates outnumber queries\n",
    "\n",
    "Key insight: Trade space for time—use O(n) extra space to make operations O(1) instead of O(n).\n",
    "\n",
    "Template:\n",
    "```\n",
    "// Prefix sum\n",
    "prefix[i+1] = prefix[i] + arr[i]\n",
    "range_sum(l, r) = prefix[r+1] - prefix[l]\n",
    "\n",
    "// Difference array  \n",
    "diff[l] += delta, diff[r+1] -= delta\n",
    "// Then prefix sum diff[] to get final array\n",
    "```\n",
    "\n",
    "Complexity: O(n) preprocessing, O(1) per query/update.\n",
    "\n",
    "Edge cases: Empty arrays, out-of-bounds indices, integer overflow on large sums."
   ]
  },
  {
   "cell_type": "code",
   "execution_count": null,
   "id": "cfbea8ac",
   "metadata": {
    "vscode": {
     "languageId": "rust"
    }
   },
   "outputs": [],
   "source": [
    "// Range Sum with Prefix Sums\n",
    "fn build_prefix(nums: &[i32]) -> Vec<i32> {\n",
    "    let mut prefix_sums = vec![0; nums.len() + 1];\n",
    "    for (idx, &value) in nums.iter().enumerate() {\n",
    "        prefix_sums[idx + 1] = prefix_sums[idx] + value;\n",
    "    }\n",
    "    prefix_sums\n",
    "}\n",
    "\n",
    "fn range_sum(prefix_sums: &[i32], left: usize, right: usize) -> i32 {\n",
    "    prefix_sums[right + 1] - prefix_sums[left]\n",
    "}\n",
    "\n",
    "fn main() {\n",
    "    let sample_array = [2, -1, 3, 4];\n",
    "    let prefix_sums = build_prefix(&sample_array);\n",
    "    println!(\"Range sum (1,3): {}\", range_sum(&prefix_sums, 1, 3));\n",
    "}\n",
    "main()"
   ]
  },
  {
   "cell_type": "code",
   "execution_count": null,
   "id": "7612371f",
   "metadata": {
    "vscode": {
     "languageId": "rust"
    }
   },
   "outputs": [],
   "source": [
    "use std::collections::HashMap;\n",
    "\n",
    "// Subarray Sum Equals K\n",
    "fn subarray_sum_equals_k(nums: &[i32], target_sum: i32) -> i32 {\n",
    "    let mut prefix_frequency: HashMap<i32, i32> = HashMap::new();\n",
    "    prefix_frequency.insert(0, 1);\n",
    "    let mut running_prefix = 0;\n",
    "    let mut total_subarrays = 0;\n",
    "    \n",
    "    for &value in nums {\n",
    "        running_prefix += value;\n",
    "        total_subarrays += prefix_frequency.get(&(running_prefix - target_sum)).unwrap_or(&0);\n",
    "        *prefix_frequency.entry(running_prefix).or_insert(0) += 1;\n",
    "    }\n",
    "    total_subarrays\n",
    "}\n",
    "\n",
    "fn main() {\n",
    "    println!(\"Subarray sum equals k: {}\", subarray_sum_equals_k(&[3,4,7,2,-3,1,4,2], 7));\n",
    "}\n",
    "main()"
   ]
  },
  {
   "cell_type": "code",
   "execution_count": null,
   "id": "10ce8a1f",
   "metadata": {
    "vscode": {
     "languageId": "rust"
    }
   },
   "outputs": [],
   "source": [
    "// Subarrays Divisible by K\n",
    "fn subarrays_divisible_by_k(nums: &[i32], k: i32) -> i32 {\n",
    "    let mut modulo_frequency: HashMap<i32, i32> = HashMap::new();\n",
    "    modulo_frequency.insert(0, 1);\n",
    "    let mut running_mod = 0;\n",
    "    let mut total_subarrays = 0;\n",
    "    \n",
    "    for &value in nums {\n",
    "        running_mod = (running_mod + value) % k;\n",
    "        // Handle negative modulo in Rust\n",
    "        if running_mod < 0 {\n",
    "            running_mod += k;\n",
    "        }\n",
    "        total_subarrays += modulo_frequency.get(&running_mod).unwrap_or(&0);\n",
    "        *modulo_frequency.entry(running_mod).or_insert(0) += 1;\n",
    "    }\n",
    "    total_subarrays\n",
    "}\n",
    "\n",
    "fn main() {\n",
    "    println!(\"Subarrays divisible by k: {}\", subarrays_divisible_by_k(&[1,2,3,4,5], 3));\n",
    "}\n",
    "main()"
   ]
  },
  {
   "cell_type": "code",
   "execution_count": null,
   "id": "13a8aa03",
   "metadata": {
    "vscode": {
     "languageId": "rust"
    }
   },
   "outputs": [],
   "source": [
    "// 2D Prefix Sum\n",
    "fn build_2d_prefix(matrix: &[Vec<i32>]) -> Vec<Vec<i32>> {\n",
    "    let row_count = matrix.len();\n",
    "    let col_count = if matrix.is_empty() { 0 } else { matrix[0].len() };\n",
    "    let mut prefix2d = vec![vec![0; col_count + 1]; row_count + 1];\n",
    "    \n",
    "    for r in 1..=row_count {\n",
    "        let mut row_running_sum = 0;\n",
    "        for c in 1..=col_count {\n",
    "            row_running_sum += matrix[r - 1][c - 1];\n",
    "            prefix2d[r][c] = prefix2d[r - 1][c] + row_running_sum;\n",
    "        }\n",
    "    }\n",
    "    prefix2d\n",
    "}\n",
    "\n",
    "fn sum_region(\n",
    "    prefix2d: &[Vec<i32>],\n",
    "    top_row: usize,\n",
    "    left_col: usize,\n",
    "    bottom_row: usize,\n",
    "    right_col: usize,\n",
    ") -> i32 {\n",
    "    prefix2d[bottom_row + 1][right_col + 1]\n",
    "        - prefix2d[top_row][right_col + 1]\n",
    "        - prefix2d[bottom_row + 1][left_col]\n",
    "        + prefix2d[top_row][left_col]\n",
    "}\n",
    "\n",
    "fn main() {\n",
    "    let matrix_example = vec![\n",
    "        vec![3, 0, 1, 4, 2],\n",
    "        vec![5, 6, 3, 2, 1],\n",
    "        vec![1, 2, 0, 1, 5],\n",
    "        vec![4, 1, 0, 1, 7],\n",
    "        vec![1, 0, 3, 0, 5],\n",
    "    ];\n",
    "    let prefix2d = build_2d_prefix(&matrix_example);\n",
    "    println!(\"Sum region: {}\", sum_region(&prefix2d, 1, 1, 2, 2));\n",
    "}\n",
    "main()"
   ]
  },
  {
   "cell_type": "code",
   "execution_count": null,
   "id": "69f9ad88",
   "metadata": {
    "vscode": {
     "languageId": "rust"
    }
   },
   "outputs": [],
   "source": [
    "// Apply Range Updates (Difference Array)\n",
    "fn apply_range_updates(length: usize, updates: &[(usize, usize, i32)]) -> Vec<i32> {\n",
    "    let mut difference = vec![0; length + 1];\n",
    "    for &(start_idx, end_idx, delta) in updates {\n",
    "        difference[start_idx] += delta;\n",
    "        if end_idx + 1 < length {\n",
    "            difference[end_idx + 1] -= delta;\n",
    "        }\n",
    "    }\n",
    "    let mut result = vec![0; length];\n",
    "    let mut running_total = 0;\n",
    "    for i in 0..length {\n",
    "        running_total += difference[i];\n",
    "        result[i] = running_total;\n",
    "    }\n",
    "    result\n",
    "}\n",
    "\n",
    "fn main() {\n",
    "    println!(\"Range updates: {:?}\", apply_range_updates(10, &[(0,0,5), (5,9,1), (3,7,2)]));\n",
    "}\n",
    "main()"
   ]
  }
 ],
 "metadata": {
  "kernelspec": {
   "display_name": "Rust",
   "language": "rust",
   "name": "rust"
  },
  "language_info": {
   "codemirror_mode": "rust",
   "file_extension": ".rs",
   "mimetype": "text/rust",
   "name": "Rust",
   "pygment_lexer": "rust",
   "version": ""
  }
 },
 "nbformat": 4,
 "nbformat_minor": 5
}
