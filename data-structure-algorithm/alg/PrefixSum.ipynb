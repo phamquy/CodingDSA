{
 "cells": [
  {
   "cell_type": "code",
   "execution_count": 23,
   "id": "37bd840c",
   "metadata": {},
   "outputs": [
    {
     "data": {
      "text/html": [
       "<style>\n",
       "    body {\n",
       "        --vscode-font-family: \"Noto Serif\"\n",
       "    }\n",
       "</style>\n"
      ],
      "text/plain": [
       "<IPython.core.display.HTML object>"
      ]
     },
     "metadata": {},
     "output_type": "display_data"
    }
   ],
   "source": [
    "%%HTML\n",
    "<style>\n",
    "    body {\n",
    "        --vscode-font-family: \"Noto Serif\"\n",
    "    }\n",
    "</style>"
   ]
  },
  {
   "cell_type": "markdown",
   "id": "8c4607e6",
   "metadata": {},
   "source": [
    "# Prefix Sum Primer: What, When, Patterns, and Problems\n",
    "\n"
   ]
  },
  {
   "cell_type": "markdown",
   "id": "4d3a79fd",
   "metadata": {},
   "source": [
    "## What is Prefix Sum?\n",
    "\n",
    "\n",
    "- For an array $a$ of length $n$, define a prefix sum array $P$ of length $n+1$:\n",
    "  - $P[0] = 0$\n",
    "  - $P[i] = \\sum_{k=0}^{i-1} a[k]$ for $i \\in [1, n]$\n",
    "- Any subarray sum from $i$ to $j$ (0-based, inclusive) is:\n",
    "  - $\\text{sum}(i, j) = P[j+1] - P[i]$\n",
    "- Build once in $O(n)$, then range sum queries are $O(1)$.\n",
    "\n",
    "\n",
    "Minimal Python template:\n",
    "```python\n",
    "def prefix_sum(a):\n",
    "    P = [0]*(len(a)+1)\n",
    "    for i, x in enumerate(a, 1):\n",
    "        P[i] = P[i-1] + x\n",
    "    return P\n",
    "\n",
    "\n",
    "def range_sum(P, i, j):  # inclusive\n",
    "    return P[j+1] - P[i]\n",
    "```\n",
    "\n"
   ]
  },
  {
   "cell_type": "markdown",
   "id": "2b48e2e7",
   "metadata": {},
   "source": [
    "## When to use it\n",
    "\n",
    "\n",
    "- Many range-sum queries after one precompute.\n",
    "- Count subarrays with a given property by mapping prefix values.\n",
    "- Replace nested loops and reduce complexity from $O(n^2)$ to $O(n)$.\n",
    "- 2D grids for rectangle sums via inclusion–exclusion.\n",
    "- Efficient range updates via a difference array (inverse of prefixing).\n",
    "\n",
    "\n"
   ]
  },
  {
   "cell_type": "markdown",
   "id": "6924b7e8",
   "metadata": {},
   "source": [
    "## Pitfalls and tips\n",
    "\n",
    "\n",
    "- Off-by-one: Using length $n+1$ with $P[0]=0$ simplifies queries.\n",
    "- Negatives: Sliding window breaks; prefix+hashmap works.\n",
    "- Modulo with negatives: Normalize where languages have negative remainders.\n",
    "- 2D borders: $(m+1)\\times(n+1)$ prefix avoids conditional edges."
   ]
  },
  {
   "cell_type": "markdown",
   "id": "4bdd9ff4",
   "metadata": {},
   "source": [
    "## Core patterns implementation\n",
    "\n",
    "- 1D template and O(1) range queries\n",
    "- Counting subarrays with target sum (hashmap)\n",
    "- Subarrays with sum divisible by K (mod trick)\n",
    "- 2D prefix sums for fast rectangle queries\n",
    "- Difference array for efficient range updates\n"
   ]
  },
  {
   "cell_type": "markdown",
   "id": "ebe52b50",
   "metadata": {},
   "source": [
    "### Range query"
   ]
  },
  {
   "cell_type": "code",
   "execution_count": 24,
   "id": "f94b190e",
   "metadata": {},
   "outputs": [
    {
     "data": {
      "text/plain": [
       "([0, 2, 1, 4, 8], 6)"
      ]
     },
     "execution_count": 24,
     "metadata": {},
     "output_type": "execute_result"
    }
   ],
   "source": [
    "# Range Sum with Prefix Sums (descriptive variable names)\n",
    "from typing import List, Tuple\n",
    "\n",
    "def build_prefix(nums: List[int]) -> List[int]:\n",
    "    \"\"\"Return prefix sums array prefix_sums where prefix_sums[i] = sum(nums[:i]).\n",
    "    Length is len(nums)+1 and prefix_sums[0] = 0 for convenient O(1) range queries.\n",
    "    \"\"\"\n",
    "    prefix_sums: List[int] = [0] * (len(nums) + 1)\n",
    "    for idx, value in enumerate(nums, start=1):\n",
    "        prefix_sums[idx] = prefix_sums[idx - 1] + value\n",
    "    return prefix_sums\n",
    "\n",
    "def range_sum(prefix_sums: List[int], left: int, right: int) -> int:\n",
    "    \"\"\"Return sum of nums[left..right] inclusive using precomputed prefix_sums.\"\"\"\n",
    "    return prefix_sums[right + 1] - prefix_sums[left]\n",
    "\n",
    "# quick smoke test\n",
    "sample_array = [2, -1, 3, 4]\n",
    "prefix_sums = build_prefix(sample_array)\n",
    "assert range_sum(prefix_sums, 0, 2) == 4  # 2-1+3\n",
    "assert range_sum(prefix_sums, 1, 3) == 6  # -1+3+4\n",
    "prefix_sums, range_sum(prefix_sums, 1, 3)"
   ]
  },
  {
   "cell_type": "markdown",
   "id": "5d6d8b5b",
   "metadata": {},
   "source": [
    "### 1) Subarray sum equals K (hashmap on prefix)\n",
    "\n",
    "Use the identity: if $P[j] - P[i] = K$, then $P[i] = P[j] - K$.\n"
   ]
  },
  {
   "cell_type": "code",
   "execution_count": 25,
   "id": "b2d11056",
   "metadata": {},
   "outputs": [
    {
     "data": {
      "text/plain": [
       "4"
      ]
     },
     "execution_count": 25,
     "metadata": {},
     "output_type": "execute_result"
    }
   ],
   "source": [
    "# Subarray Sum Equals K (descriptive variable names)\n",
    "from collections import defaultdict\n",
    "from typing import List\n",
    "\n",
    "def subarray_sum_equals_k(nums: List[int], target_sum: int) -> int:\n",
    "    # freq[prefix_value] = count of occurrences of that prefix sum so far\n",
    "    prefix_frequency = defaultdict(int)\n",
    "    prefix_frequency[0] = 1  # empty prefix contributes 0 once\n",
    "    running_prefix = 0\n",
    "    total_subarrays = 0\n",
    "    for value in nums:\n",
    "        running_prefix += value\n",
    "        # We want running_prefix - previous_prefix = target_sum -> previous_prefix = running_prefix - target_sum\n",
    "        total_subarrays += prefix_frequency[running_prefix - target_sum]\n",
    "        prefix_frequency[running_prefix] += 1\n",
    "    return total_subarrays\n",
    "\n",
    "# smoke tests\n",
    "assert subarray_sum_equals_k([1,1,1], 2) == 2\n",
    "assert subarray_sum_equals_k([1,-1,0], 0) == 3\n",
    "subarray_sum_equals_k([3,4,7,2,-3,1,4,2], 7)"
   ]
  },
  {
   "cell_type": "markdown",
   "id": "7a916912",
   "metadata": {},
   "source": [
    "Notes:\n",
    "- Works with negatives (where sliding window fails).\n",
    "- Time $O(n)$, Space $O(n)$."
   ]
  },
  {
   "cell_type": "markdown",
   "id": "0bf95317",
   "metadata": {},
   "source": [
    "### 2) Subarray sums divisible by K (mod trick)\n",
    "\n",
    "If $P[i] \\bmod K = P[j] \\bmod K$, then $\\sum_{t=i}^{j-1} a[t]$ is divisible by $K$.\n"
   ]
  },
  {
   "cell_type": "code",
   "execution_count": 26,
   "id": "676b6c65",
   "metadata": {},
   "outputs": [
    {
     "data": {
      "text/plain": [
       "7"
      ]
     },
     "execution_count": 26,
     "metadata": {},
     "output_type": "execute_result"
    }
   ],
   "source": [
    "# Subarrays Divisible by K (descriptive variable names)\n",
    "from collections import defaultdict\n",
    "from typing import List\n",
    "\n",
    "def subarrays_divisible_by_k(nums: List[int], k: int) -> int:\n",
    "    # freq[mod_value] = count of prefix sums with this modulo k\n",
    "    modulo_frequency = defaultdict(int)\n",
    "    modulo_frequency[0] = 1  # empty prefix has modulo 0\n",
    "    running_mod = 0\n",
    "    total_subarrays = 0\n",
    "    for value in nums:\n",
    "        running_mod = (running_mod + value) % k\n",
    "        total_subarrays += modulo_frequency[running_mod]\n",
    "        modulo_frequency[running_mod] += 1\n",
    "    return total_subarrays\n",
    "\n",
    "# smoke tests\n",
    "assert subarrays_divisible_by_k([4,5,0,-2,-3,1], 5) == 7\n",
    "subarrays_divisible_by_k([1,2,3,4,5], 3)"
   ]
  },
  {
   "cell_type": "markdown",
   "id": "c0f1f72b",
   "metadata": {},
   "source": [
    "### 3) 2D prefix sums (matrix region sums)\n",
    "\n",
    "Define an $(m+1)\\times(n+1)$ matrix $S$ with zeros on row 0 and column 0:\n",
    "- $S[i][j] = \\sum_{r=0}^{i-1} \\sum_{c=0}^{j-1} M[r][c]$\n",
    "- For rectangle rows $[r_1..r_2]$, cols $[c_1..c_2]$ (inclusive):\n",
    "  - $\\text{sum} = S[r_2+1][c_2+1] - S[r_1][c_2+1] - S[r_2+1][c_1] + S[r_1][c_1]$\n"
   ]
  },
  {
   "cell_type": "code",
   "execution_count": 27,
   "id": "3e95d6a9",
   "metadata": {},
   "outputs": [
    {
     "data": {
      "text/plain": [
       "11"
      ]
     },
     "execution_count": 27,
     "metadata": {},
     "output_type": "execute_result"
    }
   ],
   "source": [
    "# 2D Prefix Sum (descriptive variable names)\n",
    "from typing import List\n",
    "\n",
    "def build_2d_prefix(matrix: List[List[int]]):\n",
    "    row_count = len(matrix)\n",
    "    col_count = len(matrix[0]) if matrix else 0\n",
    "    prefix2d = [[0] * (col_count + 1) for _ in range(row_count + 1)]\n",
    "    for r in range(1, row_count + 1):\n",
    "        row_running_sum = 0\n",
    "        for c in range(1, col_count + 1):\n",
    "            row_running_sum += matrix[r - 1][c - 1]\n",
    "            prefix2d[r][c] = prefix2d[r - 1][c] + row_running_sum\n",
    "    return prefix2d\n",
    "\n",
    "def sum_region(prefix2d, top_row: int, left_col: int, bottom_row: int, right_col: int):\n",
    "    return (\n",
    "        prefix2d[bottom_row + 1][right_col + 1]\n",
    "        - prefix2d[top_row][right_col + 1]\n",
    "        - prefix2d[bottom_row + 1][left_col]\n",
    "        + prefix2d[top_row][left_col]\n",
    "    )\n",
    "\n",
    "# smoke test\n",
    "matrix_example = [\n",
    "    [3, 0, 1, 4, 2],\n",
    "    [5, 6, 3, 2, 1],\n",
    "    [1, 2, 0, 1, 5],\n",
    "    [4, 1, 0, 1, 7],\n",
    "    [1, 0, 3, 0, 5],\n",
    "]\n",
    "prefix2d = build_2d_prefix(matrix_example)\n",
    "assert sum_region(prefix2d, 2, 1, 4, 3) == 8\n",
    "sum_region(prefix2d, 1, 1, 2, 2)"
   ]
  },
  {
   "cell_type": "markdown",
   "id": "0abbf607",
   "metadata": {},
   "source": [
    "### 4) Difference array (range updates)\n",
    "To add $v$ to every $a[l..r]$, maintain a difference array $D$:\n",
    "- $D[l] \\mathrel{+}= v$\n",
    "- $D[r+1] \\mathrel{-}= v$ if $r+1 < n$\n",
    "- The final array is the prefix sum of $D$.\n"
   ]
  },
  {
   "cell_type": "code",
   "execution_count": 28,
   "id": "b5908747",
   "metadata": {},
   "outputs": [
    {
     "data": {
      "text/plain": [
       "[5, 0, 0, 2, 2, 3, 3, 3, 1, 1]"
      ]
     },
     "execution_count": 28,
     "metadata": {},
     "output_type": "execute_result"
    }
   ],
   "source": [
    "# Apply Range Updates (Difference Array with descriptive names)\n",
    "from typing import List, Tuple\n",
    "\n",
    "def apply_range_updates(length: int, updates: List[Tuple[int, int, int]]) -> List[int]:\n",
    "    \"\"\"Apply inclusive range updates (start, end, delta) using a difference array.\n",
    "    Returns the final array after all updates.\n",
    "    \"\"\"\n",
    "    difference = [0] * (length + 1)\n",
    "    for start_idx, end_idx, delta in updates:\n",
    "        difference[start_idx] += delta\n",
    "        if end_idx + 1 < length:\n",
    "            difference[end_idx + 1] -= delta\n",
    "    result = [0] * length\n",
    "    running_total = 0\n",
    "    for i in range(length):\n",
    "        running_total += difference[i]\n",
    "        result[i] = running_total\n",
    "    return result\n",
    "\n",
    "# smoke tests\n",
    "assert apply_range_updates(5, [(1,3,2)]) == [0,2,2,2,0]\n",
    "assert apply_range_updates(5, [(0,4,1), (2,4,3)]) == [1,1,4,4,4]\n",
    "apply_range_updates(10, [(0,0,5), (5,9,1), (3,7,2)])"
   ]
  }
 ],
 "metadata": {
  "kernelspec": {
   "display_name": "Python 3",
   "language": "python",
   "name": "python3"
  },
  "language_info": {
   "codemirror_mode": {
    "name": "ipython",
    "version": 3
   },
   "file_extension": ".py",
   "mimetype": "text/x-python",
   "name": "python",
   "nbconvert_exporter": "python",
   "pygments_lexer": "ipython3",
   "version": "3.12.11"
  }
 },
 "nbformat": 4,
 "nbformat_minor": 5
}
