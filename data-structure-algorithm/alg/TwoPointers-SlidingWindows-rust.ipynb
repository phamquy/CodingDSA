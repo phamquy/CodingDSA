{
 "cells": [
  {
   "cell_type": "code",
   "execution_count": null,
   "id": "02804b2c",
   "metadata": {
    "vscode": {
     "languageId": "rust"
    }
   },
   "outputs": [
    {
     "data": {
      "text/html": [
       "<style>\n",
       "    body {\n",
       "        --vscode-font-family: \"Noto Serif\"\n",
       "    }\n",
       "</style>\n"
      ],
      "text/plain": [
       "<IPython.core.display.HTML object>"
      ]
     },
     "metadata": {},
     "output_type": "display_data"
    }
   ],
   "source": [
    "%%HTML\n",
    "<style>\n",
    "    body {\n",
    "        --vscode-font-family: \"Noto Serif\"\n",
    "    }\n",
    "</style>"
   ]
  },
  {
   "cell_type": "markdown",
   "id": "6e1f1b2f",
   "metadata": {},
   "source": [
    "## Two Pointers\n",
    "What: Use two indices that move through a sequence (or two sequences) in a coordinated way to eliminate search space in linear time.\n",
    "\n",
    "When to use:\n",
    "- Array or string problems where *comparing items at different positions helps decide which side to move* (often requires sorted input).\n",
    "- Typical tasks: find pair/triple with target property, merging sorted lists, in-place partitioning, palindrome checks.\n",
    "\n",
    "Common forms:\n",
    "- Opposite ends: left at start, right at end; move inward based on a condition (e.g., sum too small/large).\n",
    "- Same direction: fast/slow pointers for cycle detection or skipping duplicates.\n",
    "\n",
    "Complexity: Usually O(n) time, O(1) extra space.\n",
    "\n",
    "Edge cases: Empty/one-element input, duplicates, negative numbers, integer overflow (rare in Python), off-by-one when moving pointers."
   ]
  },
  {
   "cell_type": "code",
   "execution_count": null,
   "id": "87b2acd4",
   "metadata": {
    "vscode": {
     "languageId": "rust"
    }
   },
   "outputs": [
    {
     "name": "stdout",
     "output_type": "stream",
     "text": [
      "(-1, -1)\n"
     ]
    }
   ],
   "source": [
    "// Example: two-sum in sorted array using two pointers\n",
    "fn two_sum_sorted(nums: &[i32], target: i32) -> (i32, i32) {\n",
    "    /// Return 0-based indices (i, j) such that nums[i] + nums[j] == target, or (-1, -1).\n",
    "    /// Requires nums to be sorted non-decreasing.\n",
    "    let mut i = 0;\n",
    "    let mut j = nums.len() - 1;\n",
    "    \n",
    "    while i < j {\n",
    "        let s = nums[i] + nums[j];\n",
    "        if s == target {\n",
    "            return (i as i32, j as i32);\n",
    "        }\n",
    "        if s < target {\n",
    "            i += 1;\n",
    "        } else {\n",
    "            j -= 1;\n",
    "        }\n",
    "    }\n",
    "    (-1, -1)\n",
    "}"
   ]
  },
  {
   "cell_type": "code",
   "execution_count": 4,
   "id": "5febc838",
   "metadata": {
    "vscode": {
     "languageId": "rust"
    }
   },
   "outputs": [
    {
     "name": "stdout",
     "output_type": "stream",
     "text": [
      "(1, 5)\n",
      "(0, 2)\n",
      "(-1, -1)\n"
     ]
    }
   ],
   "source": [
    "// Quick sanity checks\n",
    "println!(\"{:?}\", two_sum_sorted(&[1, 2, 3, 4, 6, 8], 10)); // (1, 5) -> 2 + 8\n",
    "println!(\"{:?}\", two_sum_sorted(&[2, 5, 9, 11], 11));      // (0, 1) -> 2 + 9\n",
    "println!(\"{:?}\", two_sum_sorted(&[1, 3, 5], 100));         // (-1, -1)"
   ]
  },
  {
   "cell_type": "markdown",
   "id": "b8f40064",
   "metadata": {},
   "source": [
    "## Sliding Window\n",
    "What: Maintain a contiguous subarray/subsequence window with two indices (start/end). Expand or shrink the window to satisfy a constraint while scanning once.\n",
    "\n",
    "When to use:\n",
    "- Problems asking for min/max/first/number of subarrays that satisfy certain properties (sum/unique chars/at most k distinct, etc.).\n",
    "- Streaming/online constraints when you want O(n) time with O(1) or O(k) extra space.\n",
    "\n",
    "Common forms:\n",
    "- Fixed-size window: move end forward and slide start by one each step.\n",
    "- Variable-size window: expand end; while constraint violated, shrink start until valid again.\n",
    "\n",
    "Complexity: O(n) time; each index moves at most n steps. Space depends on what you track (often O(1) or O(k)).\n",
    "\n",
    "Edge cases: Empty input, negative numbers (for sum-based problems, may invalidate simple shrink logic), windows that never expand to validity."
   ]
  },
  {
   "cell_type": "code",
   "execution_count": 5,
   "id": "de0754af",
   "metadata": {
    "vscode": {
     "languageId": "rust"
    }
   },
   "outputs": [],
   "source": [
    "use std::collections::HashMap;\n",
    "\n",
    "// Example: length of the longest substring with at most k distinct characters\n",
    "fn longest_substr_at_most_k_distinct(s: &str, k: usize) -> usize {\n",
    "    if k == 0 {\n",
    "        return 0;\n",
    "    }\n",
    "    \n",
    "    let mut count: HashMap<char, usize> = HashMap::new(); // char -> freq in window\n",
    "    let mut left = 0;\n",
    "    let mut best = 0;\n",
    "    let chars: Vec<char> = s.chars().collect();\n",
    "    \n",
    "    for right in 0..chars.len() {\n",
    "        let ch = chars[right];\n",
    "        *count.entry(ch).or_insert(0) += 1;\n",
    "        \n",
    "        // shrink while too many distinct\n",
    "        while count.len() > k {\n",
    "            let left_ch = chars[left];\n",
    "            if let Some(freq) = count.get_mut(&left_ch) {\n",
    "                *freq -= 1;\n",
    "                if *freq == 0 {\n",
    "                    count.remove(&left_ch);\n",
    "                }\n",
    "            }\n",
    "            left += 1;\n",
    "        }\n",
    "        best = best.max(right - left + 1);\n",
    "    }\n",
    "    best\n",
    "}"
   ]
  },
  {
   "cell_type": "code",
   "execution_count": 6,
   "id": "d6574114",
   "metadata": {
    "vscode": {
     "languageId": "rust"
    }
   },
   "outputs": [
    {
     "name": "stdout",
     "output_type": "stream",
     "text": [
      "3\n",
      "2\n",
      "0\n"
     ]
    }
   ],
   "source": [
    "// Quick sanity checks\n",
    "println!(\"{}\", longest_substr_at_most_k_distinct(\"eceba\", 2));   // 3 -> 'ece'\n",
    "println!(\"{}\", longest_substr_at_most_k_distinct(\"aa\", 1));      // 2 -> 'aa'\n",
    "println!(\"{}\", longest_substr_at_most_k_distinct(\"\", 2));        // 0"
   ]
  }
 ],
 "metadata": {
  "kernelspec": {
   "display_name": "Rust",
   "language": "rust",
   "name": "rust"
  },
  "language_info": {
   "codemirror_mode": "rust",
   "file_extension": ".rs",
   "mimetype": "text/rust",
   "name": "Rust",
   "pygment_lexer": "rust",
   "version": ""
  }
 },
 "nbformat": 4,
 "nbformat_minor": 5
}
