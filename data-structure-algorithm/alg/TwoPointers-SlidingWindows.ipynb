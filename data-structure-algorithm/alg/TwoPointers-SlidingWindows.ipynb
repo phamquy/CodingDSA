{
 "cells": [
  {
   "cell_type": "code",
   "execution_count": 1,
   "id": "02804b2c",
   "metadata": {},
   "outputs": [
    {
     "data": {
      "text/html": [
       "<style>\n",
       "    body {\n",
       "        --vscode-font-family: \"Noto Serif\"\n",
       "    }\n",
       "</style>\n"
      ],
      "text/plain": [
       "<IPython.core.display.HTML object>"
      ]
     },
     "metadata": {},
     "output_type": "display_data"
    }
   ],
   "source": [
    "%%HTML\n",
    "<style>\n",
    "    body {\n",
    "        --vscode-font-family: \"Noto Serif\"\n",
    "    }\n",
    "</style>"
   ]
  },
  {
   "cell_type": "markdown",
   "id": "6e1f1b2f",
   "metadata": {},
   "source": [
    "## Two Pointers\n",
    "What: Use two indices that move through a sequence (or two sequences) in a coordinated way to eliminate search space in linear time.\n",
    "\n",
    "When to use:\n",
    "- Array or string problems where *comparing items at different positions helps decide which side to move* (often requires sorted input).\n",
    "- Typical tasks: find pair/triple with target property, merging sorted lists, in-place partitioning, palindrome checks.\n",
    "\n",
    "Common forms:\n",
    "- Opposite ends: left at start, right at end; move inward based on a condition (e.g., sum too small/large).\n",
    "- Same direction: fast/slow pointers for cycle detection or skipping duplicates.\n",
    "\n",
    "Complexity: Usually O(n) time, O(1) extra space.\n",
    "\n",
    "Edge cases: Empty/one-element input, duplicates, negative numbers, integer overflow (rare in Python), off-by-one when moving pointers."
   ]
  },
  {
   "cell_type": "code",
   "execution_count": 2,
   "id": "87b2acd4",
   "metadata": {},
   "outputs": [
    {
     "name": "stdout",
     "output_type": "stream",
     "text": [
      "(1, 5)\n",
      "(0, 2)\n",
      "(-1, -1)\n"
     ]
    }
   ],
   "source": [
    "# Example: two-sum in sorted array using two pointers\n",
    "def two_sum_sorted(nums, target):\n",
    "    \"\"\"Return 0-based indices (i, j) such that nums[i] + nums[j] == target, or (-1, -1).\n",
    "    Requires nums to be sorted non-decreasing.\"\"\"\n",
    "    i, j = 0, len(nums) - 1\n",
    "    while i < j:\n",
    "        s = nums[i] + nums[j]\n",
    "        if s == target:\n",
    "            return i, j\n",
    "        if s < target:\n",
    "            i += 1\n",
    "        else:\n",
    "            j -= 1\n",
    "    return -1, -1\n",
    "\n",
    "# Quick sanity checks\n",
    "print(two_sum_sorted([1, 2, 3, 4, 6, 8], 10))  # (1, 5) -> 2 + 8\n",
    "print(two_sum_sorted([2, 5, 9, 11], 11))       # (0, 1) -> 2 + 9\n",
    "print(two_sum_sorted([1, 3, 5], 100))          # (-1, -1)"
   ]
  },
  {
   "cell_type": "markdown",
   "id": "b8f40064",
   "metadata": {},
   "source": [
    "## Sliding Window\n",
    "What: Maintain a contiguous subarray/subsequence window with two indices (start/end). Expand or shrink the window to satisfy a constraint while scanning once.\n",
    "\n",
    "When to use:\n",
    "- Problems asking for min/max/first/number of subarrays that satisfy certain properties (sum/unique chars/at most k distinct, etc.).\n",
    "- Streaming/online constraints when you want O(n) time with O(1) or O(k) extra space.\n",
    "\n",
    "Common forms:\n",
    "- Fixed-size window: move end forward and slide start by one each step.\n",
    "- Variable-size window: expand end; while constraint violated, shrink start until valid again.\n",
    "\n",
    "Complexity: O(n) time; each index moves at most n steps. Space depends on what you track (often O(1) or O(k)).\n",
    "\n",
    "Edge cases: Empty input, negative numbers (for sum-based problems, may invalidate simple shrink logic), windows that never expand to validity."
   ]
  },
  {
   "cell_type": "code",
   "execution_count": 3,
   "id": "de0754af",
   "metadata": {},
   "outputs": [
    {
     "name": "stdout",
     "output_type": "stream",
     "text": [
      "3\n",
      "2\n",
      "0\n"
     ]
    }
   ],
   "source": [
    "# Example: length of the longest substring with at most k distinct characters\n",
    "def longest_substr_at_most_k_distinct(s, k):\n",
    "    if k <= 0:\n",
    "        return 0\n",
    "    count = {}  # char -> freq in window\n",
    "    left = 0\n",
    "    best = 0\n",
    "    for right, ch in enumerate(s):\n",
    "        count[ch] = count.get(ch, 0) + 1\n",
    "        # shrink while too many distinct\n",
    "        while len(count) > k:\n",
    "            left_ch = s[left]\n",
    "            count[left_ch] -= 1\n",
    "            if count[left_ch] == 0:\n",
    "                del count[left_ch]\n",
    "            left += 1\n",
    "        best = max(best, right - left + 1)\n",
    "    return best\n",
    "\n",
    "# Quick sanity checks\n",
    "print(longest_substr_at_most_k_distinct('eceba', 2))   # 3 -> 'ece'\n",
    "print(longest_substr_at_most_k_distinct('aa', 1))      # 2 -> 'aa'\n",
    "print(longest_substr_at_most_k_distinct('', 2))        # 0"
   ]
  }
 ],
 "metadata": {
  "kernelspec": {
   "display_name": "Python 3",
   "language": "python",
   "name": "python3"
  },
  "language_info": {
   "codemirror_mode": {
    "name": "ipython",
    "version": 3
   },
   "file_extension": ".py",
   "mimetype": "text/x-python",
   "name": "python",
   "nbconvert_exporter": "python",
   "pygments_lexer": "ipython3",
   "version": "3.12.11"
  }
 },
 "nbformat": 4,
 "nbformat_minor": 5
}
