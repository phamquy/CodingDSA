{
 "cells": [
  {
   "cell_type": "code",
   "execution_count": 1,
   "id": "387a83ba",
   "metadata": {},
   "outputs": [
    {
     "data": {
      "text/html": [
       "<style>\n",
       "    body {\n",
       "        --vscode-font-family: \"Noto Serif\"\n",
       "    }\n",
       "</style>\n"
      ],
      "text/plain": [
       "<IPython.core.display.HTML object>"
      ]
     },
     "metadata": {},
     "output_type": "display_data"
    }
   ],
   "source": [
    "%%HTML\n",
    "<style>\n",
    "    body {\n",
    "        --vscode-font-family: \"Noto Serif\"\n",
    "    }\n",
    "</style>"
   ]
  },
  {
   "cell_type": "markdown",
   "id": "a4b56a91",
   "metadata": {},
   "source": [
    "# Interval Tree and Sweep Line Patterns\n",
    "\n",
    "A practical guide with concepts, use cases, Python implementations, and sample problems you can run in-place."
   ]
  },
  {
   "cell_type": "markdown",
   "id": "f1962c30",
   "metadata": {},
   "source": [
    "## Concepts at a glance\n",
    "\n",
    "- Interval Tree:\n",
    "  - A balanced BST storing intervals [l, r], keyed by l (or center points), with each node maintaining max_r = max endpoint in its subtree.\n",
    "  - Supports: point stabbing query (find intervals covering x), interval overlap query (find any/all intervals overlapping [L, R]).\n",
    "  - Typical complexities: build O(n log n), insert/delete O(log n), query O(log n + k) where k is number of reported intervals.\n",
    "  - Popular variants: Centered Interval Tree, Augmented BST, Segment Tree of intervals.\n",
    "\n",
    "- Sweep Line:\n",
    "  - Process events along a line (usually sorting by coordinate/time). Maintain active set as the line \"sweeps\".\n",
    "  - Great for: counting overlaps, merging intervals, detecting intersections, max concurrent intervals, union length.\n",
    "  - Typical complexities: sorting O(n log n) + events handling O(n log n) with a balanced structure, or O(n) with counters for simpler cases.\n",
    "\n",
    "When to use which:\n",
    "- Many point/interval queries over a static or dynamic set of intervals? Interval Tree.\n",
    "- One-pass global aggregation over coordinates (e.g., total coverage, max overlaps, scheduling conflicts)? Sweep Line."
   ]
  },
  {
   "cell_type": "markdown",
   "id": "3e8419bf",
   "metadata": {},
   "source": [
    "## Interval Tree: Implementation (Augmented BST)\n",
    "\n",
    "We'll implement a classic augmented BST keyed by interval start. Each node stores:\n",
    "- interval = (l, r)\n",
    "- max_r = max r in its subtree\n",
    "\n",
    "Operations implemented:\n",
    "- insert(interval)\n",
    "- search_overlaps(query_interval) -> list of overlapping intervals\n",
    "- search_stabbing(point) -> intervals covering a point\n",
    "\n",
    "We'll keep it simple (no explicit balancing) for clarity; for production, plug in an AVL/Red-Black tree for guaranteed O(log n)."
   ]
  },
  {
   "cell_type": "code",
   "execution_count": 2,
   "id": "28ccf7f3",
   "metadata": {},
   "outputs": [
    {
     "name": "stdout",
     "output_type": "stream",
     "text": [
      "[(5, 20), (10, 30), (12, 15), (15, 20)]\n",
      "[(5, 20), (10, 30), (15, 20), (17, 19)]\n"
     ]
    }
   ],
   "source": [
    "from dataclasses import dataclass\n",
    "from typing import Optional, List, Tuple\n",
    "\n",
    "Interval = Tuple[int, int]\n",
    "\n",
    "@dataclass\n",
    "class Node:\n",
    "    interval: Interval\n",
    "    max_r: int\n",
    "    left: Optional['Node'] = None\n",
    "    right: Optional['Node'] = None\n",
    "\n",
    "    def __post_init__(self):\n",
    "        self.max_r = max(self.max_r, self.interval[1])\n",
    "\n",
    "\n",
    "def overlaps(a: Interval, b: Interval) -> bool:\n",
    "    # Inclusive intervals: [l, r]\n",
    "    return a[0] <= b[1] and b[0] <= a[1]\n",
    "\n",
    "\n",
    "class IntervalTree:\n",
    "    def __init__(self, intervals: Optional[List[Interval]] = None):\n",
    "        self.root: Optional[Node] = None\n",
    "        if intervals:\n",
    "            for it in intervals:\n",
    "                self.insert(it)\n",
    "\n",
    "    def insert(self, interval: Interval) -> None:\n",
    "        def _insert(node: Optional[Node], interval: Interval) -> Node:\n",
    "            if node is None:\n",
    "                return Node(interval=interval, max_r=interval[1])\n",
    "            if interval[0] < node.interval[0]:\n",
    "                node.left = _insert(node.left, interval)\n",
    "            else:\n",
    "                node.right = _insert(node.right, interval)\n",
    "            node.max_r = max(node.max_r, interval[1],\n",
    "                             node.left.max_r if node.left else float('-inf'),\n",
    "                             node.right.max_r if node.right else float('-inf'))\n",
    "            return node\n",
    "        self.root = _insert(self.root, interval)\n",
    "\n",
    "    def search_overlaps(self, q: Interval) -> List[Interval]:\n",
    "        res: List[Interval] = []\n",
    "        def _search(node: Optional[Node]):\n",
    "            if not node:\n",
    "                return\n",
    "            # If left subtree might contain overlap (max_r >= q.l), search left\n",
    "            if node.left and node.left.max_r >= q[0]:\n",
    "                _search(node.left)\n",
    "            # Check current node\n",
    "            if overlaps(node.interval, q):\n",
    "                res.append(node.interval)\n",
    "            # If right subtree could have intervals starting before q.r, search right\n",
    "            if node.right and node.interval[0] <= q[1]:\n",
    "                _search(node.right)\n",
    "        _search(self.root)\n",
    "        return res\n",
    "\n",
    "    def search_stabbing(self, x: int) -> List[Interval]:\n",
    "        return self.search_overlaps((x, x))\n",
    "\n",
    "\n",
    "# quick smoke test\n",
    "if __name__ == \"__main__\":\n",
    "    it = IntervalTree([(15, 20), (10, 30), (17, 19), (5, 20), (12, 15), (30, 40)])\n",
    "    print(sorted(it.search_overlaps((14, 16))))  # Expect overlaps\n",
    "    print(sorted(it.search_stabbing(18)))"
   ]
  },
  {
   "cell_type": "markdown",
   "id": "f8bbaaf2",
   "metadata": {},
   "source": [
    "### Interval Tree: Sample problem 1 (Stabbing queries)\n",
    "\n",
    "Problem: Given n meeting rooms reserved as intervals [start, end], answer q queries of the form: how many meetings are ongoing at time t?\n",
    "\n",
    "Approach: Build an interval tree for intervals. For each t, run search_stabbing(t) and count.\n",
    "\n",
    "Complexity: Build O(n log n); each query O(log n + k) but we only need counts; we can also store counts in nodes to speed up, but we keep the general form."
   ]
  },
  {
   "cell_type": "code",
   "execution_count": 3,
   "id": "fe14610d",
   "metadata": {},
   "outputs": [
    {
     "name": "stdout",
     "output_type": "stream",
     "text": [
      "2 1\n",
      "4 3\n",
      "6 3\n",
      "9 2\n",
      "11 0\n"
     ]
    }
   ],
   "source": [
    "# Demo: stabbing queries\n",
    "meetings = [(1, 5), (3, 7), (4, 6), (6, 10), (8, 9)]\n",
    "it = IntervalTree(meetings)\n",
    "for t in [2, 4, 6, 9, 11]:\n",
    "    print(t, len(it.search_stabbing(t)))"
   ]
  },
  {
   "cell_type": "markdown",
   "id": "39bb5b8c",
   "metadata": {},
   "source": [
    "### Interval Tree: Sample problem 2 (Find any overlap)\n",
    "\n",
    "Problem: Insert intervals one by one, and upon each insertion, report whether it overlaps any existing interval (useful in reservation systems to detect conflicts).\n",
    "\n",
    "Approach: Before insert, query search_overlaps([l, r]); if non-empty, conflict exists. Then insert.\n",
    "\n",
    "Complexity: O(log n + k) per operation (amortized, with balancing)."
   ]
  },
  {
   "cell_type": "code",
   "execution_count": 4,
   "id": "a6f8ed61",
   "metadata": {},
   "outputs": [
    {
     "name": "stdout",
     "output_type": "stream",
     "text": [
      "(1, 3) no conflict []\n",
      "(5, 6) no conflict []\n",
      "(2, 4) conflicts with [(1, 3)]\n",
      "(7, 8) no conflict []\n",
      "(6, 7) conflicts with [(5, 6), (7, 8)]\n"
     ]
    }
   ],
   "source": [
    "# Demo: online conflict detection\n",
    "ops = [(1, 3), (5, 6), (2, 4), (7, 8), (6, 7)]\n",
    "it2 = IntervalTree()\n",
    "for iv in ops:\n",
    "    conflicts = it2.search_overlaps(iv)\n",
    "    print(iv, 'conflicts with' if conflicts else 'no conflict', conflicts)\n",
    "    it2.insert(iv)"
   ]
  },
  {
   "cell_type": "markdown",
   "id": "f4b88d73",
   "metadata": {},
   "source": [
    "### Interval Tree: Sample problem 3 (Max meeting rooms)\n",
    "\n",
    "Problem: Given a list of meeting intervals [start, end), return the minimum number of rooms required so that no meetings overlap.\n",
    "\n",
    "Idea using Interval Tree: Build the interval tree once, then evaluate the number of active intervals at each unique start time using stabbing queries; the global maximum equals the required rooms. For half-open intervals [l, r), an event that ends at time t shouldn't count at t, so we convert to closed intervals by storing (l, r-1) for integer times before building the tree.\n",
    "\n",
    "Complexity: Build O(n log n); querying at all unique start times O(n log n)."
   ]
  },
  {
   "cell_type": "code",
   "execution_count": 8,
   "id": "22d3d5e0",
   "metadata": {},
   "outputs": [
    {
     "name": "stdout",
     "output_type": "stream",
     "text": [
      "Max meeting rooms (Interval Tree): 3\n"
     ]
    }
   ],
   "source": [
    "# Demo: max meeting rooms using Interval Tree (stabbing queries)\n",
    "from typing import List, Tuple\n",
    "\n",
    "def max_meeting_rooms_interval_tree(intervals: List[Tuple[int, int]]) -> int:\n",
    "    if not intervals:\n",
    "        return 0\n",
    "    # Convert [l, r) to closed [l, r-1] to align with our inclusive overlap test\n",
    "    closed = [(l, r - 1) for (l, r) in intervals]\n",
    "    tree = IntervalTree(closed)\n",
    "    starts = sorted(set(l for l, _ in intervals))\n",
    "    best = 0\n",
    "    for t in starts:\n",
    "        best = max(best, len(tree.search_stabbing(t)))\n",
    "    return best\n",
    "\n",
    "# quick demo\n",
    "intervals = [(0, 30), (5, 10), (15, 20), (0, 9), (0, 5)]\n",
    "print('Max meeting rooms (Interval Tree):', max_meeting_rooms_interval_tree(intervals))  # Expect 2"
   ]
  },
  {
   "cell_type": "markdown",
   "id": "a5c9681a",
   "metadata": {},
   "source": [
    "## Sweep Line: Concepts and Implementations\n",
    "\n",
    "Core idea: Convert intervals/segments into sorted events (start, end). Process in order while maintaining an active count or structure.\n",
    "\n",
    "Common tasks:\n",
    "- Merge overlapping intervals\n",
    "- Count maximum overlaps (min meeting rooms)\n",
    "- Total covered length (union length)\n",
    "- K-overlap segments\n",
    "\n",
    "We'll implement two classic problems: min meeting rooms and total coverage length."
   ]
  },
  {
   "cell_type": "code",
   "execution_count": 5,
   "id": "1c11858f",
   "metadata": {},
   "outputs": [],
   "source": [
    "from typing import List, Tuple\n",
    "\n",
    "# 1) Minimum meeting rooms (max overlaps)\n",
    "def min_meeting_rooms(intervals: List[Tuple[int, int]]) -> int:\n",
    "    events = []\n",
    "    for l, r in intervals:\n",
    "        events.append((l, +1))\n",
    "        events.append((r, -1))\n",
    "    # Sort by time, and end (-1) before start (+1) at same time to free a room first\n",
    "    events.sort(key=lambda x: (x[0], x[1]))\n",
    "    cur = 0\n",
    "    best = 0\n",
    "    for _, delta in events:\n",
    "        cur += delta\n",
    "        best = max(best, cur)\n",
    "    return best\n",
    "\n",
    "# 2) Total covered length (union of intervals)\n",
    "def total_coverage(intervals: List[Tuple[int, int]]) -> int:\n",
    "    if not intervals:\n",
    "        return 0\n",
    "    intervals = sorted(intervals)\n",
    "    merged = []\n",
    "    cur_l, cur_r = intervals[0]\n",
    "    for l, r in intervals[1:]:\n",
    "        if l <= cur_r:  # overlap or touch\n",
    "            cur_r = max(cur_r, r)\n",
    "        else:\n",
    "            merged.append((cur_l, cur_r))\n",
    "            cur_l, cur_r = l, r\n",
    "    merged.append((cur_l, cur_r))\n",
    "    return sum(r - l for l, r in merged)\n",
    "\n",
    "# 3) K-overlap segments (optional): return total length covered by >= k intervals\n",
    "def k_overlap_length(intervals: List[Tuple[int, int]], k: int) -> int:\n",
    "    events = []\n",
    "    for l, r in intervals:\n",
    "        events.append((l, +1))\n",
    "        events.append((r, -1))\n",
    "    events.sort(key=lambda x: (x[0], x[1]))\n",
    "    cur = 0\n",
    "    prev_x = None\n",
    "    ans = 0\n",
    "    for x, d in events:\n",
    "        if prev_x is not None and cur >= k:\n",
    "            ans += x - prev_x\n",
    "        cur += d\n",
    "        prev_x = x\n",
    "    return ans"
   ]
  },
  {
   "cell_type": "markdown",
   "id": "2da4108a",
   "metadata": {},
   "source": [
    "### Sweep Line: Sample problems\n",
    "\n",
    "- Minimum meeting rooms (LeetCode 253): Given intervals, return the minimum number of rooms required so that no meetings overlap.\n",
    "- Total coverage length: Given intervals on a line, compute the length of their union.\n",
    "- K-overlap length: Length covered by at least k intervals.\n",
    "\n",
    "Complexities:\n",
    "- Sorting O(n log n), linear pass O(n). Memory O(n) for events."
   ]
  },
  {
   "cell_type": "code",
   "execution_count": 6,
   "id": "98479c49",
   "metadata": {},
   "outputs": [
    {
     "name": "stdout",
     "output_type": "stream",
     "text": [
      "Min meeting rooms: 2\n",
      "Total coverage length: 6\n",
      "Length covered by >=2 intervals: 3\n"
     ]
    }
   ],
   "source": [
    "# Demo: sweep line problems\n",
    "intervals = [(0, 30), (5, 10), (15, 20)]\n",
    "print('Min meeting rooms:', min_meeting_rooms(intervals))  # Expect 2\n",
    "\n",
    "intervals2 = [(1, 3), (2, 5), (6, 8)]\n",
    "print('Total coverage length:', total_coverage(intervals2))  # (1,5) -> 4, (6,8)->2 => 6\n",
    "\n",
    "intervals3 = [(1, 4), (2, 6), (5, 7)]\n",
    "print('Length covered by >=2 intervals:', k_overlap_length(intervals3, 2))  # [2,4] -> 2, [5,6] -> 1 => 3"
   ]
  },
  {
   "cell_type": "markdown",
   "id": "d66e17f9",
   "metadata": {},
   "source": [
    "## Choosing between Interval Tree vs Sweep Line\n",
    "\n",
    "- Use Interval Tree when:\n",
    "  - You have many online queries (point or interval) over a set of intervals.\n",
    "  - The set may change (insert/delete) and you still need sublinear query time.\n",
    "- Use Sweep Line when:\n",
    "  - You're solving a one-shot aggregation after sorting events.\n",
    "  - You need global properties like max concurrency or union length.\n",
    "\n",
    "Edge cases and tips:\n",
    "- Decide whether intervals are closed [l, r], half-open [l, r), or open. Our code uses closed; for scheduling, [l, r) is common.\n",
    "- For sweep line ties, order end before start to avoid overcounting.\n",
    "- For integer coordinates, watch off-by-ones when converting between closed and half-open.\n",
    "\n",
    "Further reading: Centered Interval Trees, Segment Trees, Fenwick Trees, Order Statistics Trees."
   ]
  }
 ],
 "metadata": {
  "kernelspec": {
   "display_name": "Python 3",
   "language": "python",
   "name": "python3"
  },
  "language_info": {
   "codemirror_mode": {
    "name": "ipython",
    "version": 3
   },
   "file_extension": ".py",
   "mimetype": "text/x-python",
   "name": "python",
   "nbconvert_exporter": "python",
   "pygments_lexer": "ipython3",
   "version": "3.12.11"
  }
 },
 "nbformat": 4,
 "nbformat_minor": 5
}
