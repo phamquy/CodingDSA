{
 "cells": [
  {
   "cell_type": "code",
   "execution_count": 14,
   "id": "d72e3c4c",
   "metadata": {},
   "outputs": [
    {
     "data": {
      "text/html": [
       "<style>\n",
       "    body {\n",
       "        --vscode-font-family: \"Noto Sans\"\n",
       "    }\n",
       "</style>\n"
      ],
      "text/plain": [
       "<IPython.core.display.HTML object>"
      ]
     },
     "metadata": {},
     "output_type": "display_data"
    }
   ],
   "source": [
    "%%HTML\n",
    "<style>\n",
    "    body {\n",
    "        --vscode-font-family: \"Noto Serif\"\n",
    "    }\n",
    "</style>"
   ]
  },
  {
   "cell_type": "markdown",
   "id": "4cc76aad",
   "metadata": {},
   "source": [
    "# Union–Find (Disjoint Set Union, DSU)\n",
    "\n",
    "Union–Find maintains a partition of elements into disjoint sets and supports two core operations efficiently:\n",
    "\n",
    "- find(x): return a canonical representative (root) of the set containing x\n",
    "- union(x, y): merge the sets containing x and y\n",
    "\n",
    "With union by size/rank and path compression, each operation runs in amortized near-constant time, specifically O(α(n)) where α is the inverse Ackermann function, which grows slower than log.\n",
    "\n",
    "Note: This implementation lets you choose the union strategy at initialization: union_by=\"rank\" (default) or union_by=\"size\".\n",
    "\n",
    "## Why and when to use\n",
    "Common use cases:\n",
    "- Dynamic connectivity: quickly connect items and query if two items are in the same group\n",
    "- Connected components in an undirected graph (count components, group nodes)\n",
    "- Kruskal's Minimum Spanning Tree (MST)\n",
    "- Cycle detection in undirected graphs\n",
    "- Accounts merge / friend circles (group by equivalence)\n",
    "- Constraint satisfaction like equality equations (e.g., a==b, a!=c)\n",
    "- Percolation / image segmentation / unioning grid cells\n",
    "\n",
    "## API we'll implement (generic over any hashable type)\n",
    "- add(x): add an element if not present\n",
    "- find(x): return the root representative; adds x implicitly if new\n",
    "- union(x, y): union-by-rank or union-by-size (configurable) with path compression; returns the new root\n",
    "- connected(x, y): True if x and y are in the same set\n",
    "- size_of(x): size of the set containing x\n",
    "- rank_of(x): rank (upper bound on height) of the set containing x (useful when union_by=\"rank\")\n",
    "- count (property): number of disjoint sets currently tracked\n",
    "- groups(): dict mapping root -> set of elements in that group\n",
    "- elements: property returning the set of all elements tracked\n",
    "- constructor option: union_by in {\"rank\", \"size\"}, default \"rank\"\n",
    "\n",
    "Edge cases handled:\n",
    "- Union or find on unseen elements will auto-add them\n",
    "- Idempotent unions (union(x, x)) are no-ops\n",
    "- Works with any hashable Python objects (ints, strings, tuples, enums, etc.)"
   ]
  },
  {
   "cell_type": "code",
   "execution_count": 9,
   "id": "80370ffa",
   "metadata": {},
   "outputs": [],
   "source": [
    "from __future__ import annotations\n",
    "from typing import Dict, Hashable, Iterable, Optional, Set, TypeVar, Literal\n",
    "\n",
    "T = TypeVar(\"T\", bound=Hashable)\n",
    "\n",
    "class UnionFind:\n",
    "    \"\"\"Disjoint Set Union (Union–Find) with path compression.\n",
    "\n",
    "    Supports union-by-rank (default) or union-by-size via union_by parameter.\n",
    "    Operations are amortized nearly O(1) (inverse Ackermann).\n",
    "    \"\"\"\n",
    "\n",
    "    def __init__(self, elements: Optional[Iterable[T]] = None, *, union_by: Literal[\"rank\", \"size\"] = \"rank\") -> None:\n",
    "        if union_by not in {\"rank\", \"size\"}:\n",
    "            raise ValueError(\"union_by must be 'rank' or 'size'\")\n",
    "        self._union_by: Literal[\"rank\", \"size\"] = union_by\n",
    "        self._parent: Dict[T, T] = {}\n",
    "        self._size: Dict[T, int] = {}\n",
    "        self._rank: Dict[T, int] = {}\n",
    "        self._count: int = 0\n",
    "        if elements is not None:\n",
    "            for x in elements:\n",
    "                self.add(x)\n",
    "\n",
    "    @property\n",
    "    def union_by(self) -> Literal[\"rank\", \"size\"]:\n",
    "        return self._union_by\n",
    "\n",
    "    @property\n",
    "    def count(self) -> int:\n",
    "        \"\"\"Number of disjoint sets currently tracked.\"\"\"\n",
    "        return self._count\n",
    "\n",
    "    @property\n",
    "    def elements(self) -> Set[T]:\n",
    "        \"\"\"Return a set of all elements tracked.\"\"\"\n",
    "        return set(self._parent.keys())\n",
    "\n",
    "    def add(self, x: T) -> None:\n",
    "        \"\"\"Add a new element as a singleton set if unseen.\"\"\"\n",
    "        if x not in self._parent:\n",
    "            self._parent[x] = x\n",
    "            self._size[x] = 1\n",
    "            self._rank[x] = 0\n",
    "            self._count += 1\n",
    "\n",
    "    def find(self, x: T) -> T:\n",
    "        \"\"\"Find the representative of the set containing x.\n",
    "        Implicitly adds x if it was not seen before.\n",
    "        Uses path compression to flatten trees.\n",
    "        \"\"\"\n",
    "        if x not in self._parent:\n",
    "            self.add(x)\n",
    "            return x\n",
    "        # Path compression find\n",
    "        root = x\n",
    "        while root != self._parent[root]:\n",
    "            root = self._parent[root]\n",
    "        # Compress the path\n",
    "        while x != root:\n",
    "            parent = self._parent[x]\n",
    "            self._parent[x] = root\n",
    "            x = parent\n",
    "        return root\n",
    "\n",
    "    def union(self, a: T, b: T) -> T:\n",
    "        \"\"\"Union the sets containing a and b using configured strategy. Return the new root.\"\"\"\n",
    "        ra, rb = self.find(a), self.find(b)\n",
    "        if ra == rb:\n",
    "            return ra\n",
    "        if self._union_by == \"rank\":\n",
    "            # Attach lower-rank tree under higher-rank tree\n",
    "            if self._rank[ra] < self._rank[rb]:\n",
    "                ra, rb = rb, ra\n",
    "            self._parent[rb] = ra\n",
    "            self._size[ra] += self._size[rb]\n",
    "            del self._size[rb]\n",
    "            if self._rank[ra] == self._rank[rb]:\n",
    "                self._rank[ra] += 1\n",
    "            del self._rank[rb]\n",
    "        else:  # size\n",
    "            # Ensure ra is the larger root by size\n",
    "            if self._size[ra] < self._size[rb]:\n",
    "                ra, rb = rb, ra\n",
    "            self._parent[rb] = ra\n",
    "            self._size[ra] += self._size[rb]\n",
    "            del self._size[rb]\n",
    "            # ranks become stale for rb; keep rank at roots only\n",
    "            del self._rank[rb]\n",
    "        self._count -= 1\n",
    "        return ra\n",
    "\n",
    "    def connected(self, a: T, b: T) -> bool:\n",
    "        \"\"\"Return True if a and b are in the same set.\"\"\"\n",
    "        return self.find(a) == self.find(b)\n",
    "\n",
    "    def size_of(self, x: T) -> int:\n",
    "        \"\"\"Size of the set containing x.\"\"\"\n",
    "        r = self.find(x)\n",
    "        return self._size[r]\n",
    "\n",
    "    def rank_of(self, x: T) -> int:\n",
    "        \"\"\"Rank (an upper bound on tree height) of the set containing x.\n",
    "        Returned value corresponds to the rank of the root representative.\n",
    "        Useful primarily when union_by == 'rank'.\n",
    "        \"\"\"\n",
    "        r = self.find(x)\n",
    "        return self._rank[r]\n",
    "\n",
    "    def groups(self) -> Dict[T, Set[T]]:\n",
    "        \"\"\"Return a mapping root -> elements in that group.\"\"\"\n",
    "        out: Dict[T, Set[T]] = {}\n",
    "        for x in self._parent:\n",
    "            r = self.find(x)\n",
    "            if r not in out:\n",
    "                out[r] = set()\n",
    "            out[r].add(x)\n",
    "        return out\n",
    "\n",
    "    def __len__(self) -> int:\n",
    "        return self.count\n",
    "\n",
    "    def __repr__(self) -> str:\n",
    "        gs = {r: sorted(list(g)) for r, g in self.groups().items()}\n",
    "        return f\"UnionFind(count={self.count}, union_by='{self._union_by}', groups={gs})\""
   ]
  },
  {
   "cell_type": "code",
   "execution_count": 10,
   "id": "f28e1cc4",
   "metadata": {},
   "outputs": [
    {
     "name": "stdout",
     "output_type": "stream",
     "text": [
      "root after union(2,3): 1 rank: 2\n",
      "Sanity OK (rank) UnionFind(count=2, union_by='rank', groups={1: [1, 2, 3, 4], 99: [5, 99]})\n"
     ]
    }
   ],
   "source": [
    "# Quick sanity tests (rank-based, default)\n",
    "uf = UnionFind([1, 2, 3, 4, 5])\n",
    "assert uf.union_by == \"rank\"\n",
    "assert uf.count == 5\n",
    "uf.union(1, 2)\n",
    "uf.union(3, 4)\n",
    "assert uf.connected(1, 2)\n",
    "assert not uf.connected(2, 3)\n",
    "assert uf.size_of(1) == 2\n",
    "root = uf.union(2, 3)\n",
    "print(\"root after union(2,3):\", root, \"rank:\", uf.rank_of(root))\n",
    "assert uf.connected(1, 4)\n",
    "assert uf.size_of(4) == 4\n",
    "assert uf.count == 2\n",
    "# Implicit add\n",
    "assert not uf.connected(99, 5)\n",
    "uf.union(99, 5)\n",
    "assert uf.connected(99, 5)\n",
    "print(\"Sanity OK (rank)\", uf)"
   ]
  },
  {
   "cell_type": "markdown",
   "id": "4818604c",
   "metadata": {},
   "source": [
    "## Example: Counting connected components in an undirected graph\n",
    "\n",
    "Given n nodes labeled 0..n-1 and an edge list edges, Union–Find can compute the number of connected components efficiently by uniting endpoints of each edge.\n",
    "\n",
    "We'll demo with a small example and also show grouping results."
   ]
  },
  {
   "cell_type": "code",
   "execution_count": 11,
   "id": "59171422",
   "metadata": {},
   "outputs": [
    {
     "name": "stdout",
     "output_type": "stream",
     "text": [
      "Components: 3\n",
      "Groups:\n",
      "0 [0, 1, 2]\n",
      "3 [3, 4]\n",
      "5 [5, 6]\n"
     ]
    }
   ],
   "source": [
    "def count_components(n: int, edges):\n",
    "    uf = UnionFind(range(n))\n",
    "    for u, v in edges:\n",
    "        uf.union(u, v)\n",
    "    return uf.count, uf.groups()\n",
    "\n",
    "n = 7\n",
    "edges = [(0, 1), (1, 2), (3, 4), (5, 6)]\n",
    "count, groups = count_components(n, edges)\n",
    "print(\"Components:\", count)\n",
    "print(\"Groups:\")\n",
    "for r, g in groups.items():\n",
    "    print(r, sorted(g))"
   ]
  },
  {
   "cell_type": "code",
   "execution_count": 12,
   "id": "89085bf0",
   "metadata": {},
   "outputs": [
    {
     "name": "stdout",
     "output_type": "stream",
     "text": [
      "Sanity OK (size) UnionFind(count=1, union_by='size', groups={'a': ['a', 'b', 'c', 'd']})\n"
     ]
    }
   ],
   "source": [
    "# Sanity tests (size-based)\n",
    "ufs = UnionFind([\"a\", \"b\", \"c\", \"d\"], union_by=\"size\")\n",
    "assert ufs.union_by == \"size\"\n",
    "ufs.union(\"a\", \"b\")\n",
    "ufs.union(\"c\", \"d\")\n",
    "assert ufs.size_of(\"a\") == 2 and ufs.size_of(\"c\") == 2\n",
    "ufs.union(\"a\", \"c\")\n",
    "assert ufs.connected(\"b\", \"d\")\n",
    "assert ufs.size_of(\"d\") == 4\n",
    "print(\"Sanity OK (size)\", ufs)"
   ]
  }
 ],
 "metadata": {
  "kernelspec": {
   "display_name": "Python 3",
   "language": "python",
   "name": "python3"
  },
  "language_info": {
   "codemirror_mode": {
    "name": "ipython",
    "version": 3
   },
   "file_extension": ".py",
   "mimetype": "text/x-python",
   "name": "python",
   "nbconvert_exporter": "python",
   "pygments_lexer": "ipython3",
   "version": "3.13.7"
  }
 },
 "nbformat": 4,
 "nbformat_minor": 5
}
