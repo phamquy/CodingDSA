{
 "cells": [
  {
   "cell_type": "code",
   "execution_count": null,
   "id": "b6f2d957",
   "metadata": {},
   "outputs": [],
   "source": [
    "%%HTML\n",
    "<style>\n",
    "    body {\n",
    "        --vscode-font-family: \"Roboto Slab\"\n",
    "    }\n",
    "</style>"
   ]
  },
  {
   "cell_type": "markdown",
   "id": "a66bc702",
   "metadata": {},
   "source": [
    "# Coding Interview Data Structures Practice Guide\n",
    "A focused roadmap for mastering the data structures most frequently tested in software engineering interviews (Big Tech / FinTech / High-growth startups).\n",
    "\n",
    "Use this as a checklist + progression path. Each section gives: *Why it matters*, *Core operations*, *Complexities*, *Representative problems*, and *Practice goals*."
   ]
  },
  {
   "cell_type": "markdown",
   "id": "b7ddbed3",
   "metadata": {},
   "source": [
    "## 1. Prioritization Tiers"
   ]
  },
  {
   "cell_type": "markdown",
   "id": "3b60ae1c",
   "metadata": {},
   "source": [
    "### Tier 0 (Absolute Fundamentals)\n",
    "Arrays / Strings, Hash Map / Set (Hash Table), Stack, Queue\n",
    "\n"
   ]
  },
  {
   "cell_type": "markdown",
   "id": "107a8477",
   "metadata": {},
   "source": [
    "### Tier 1 (Core Structural)\n",
    "Linked List, Binary Tree, Binary Search Tree, Heap/Priority Queue, Two-Pointer & Sliding Window patterns\n",
    "\n"
   ]
  },
  {
   "cell_type": "markdown",
   "id": "63e173fa",
   "metadata": {},
   "source": [
    "### Tier 2 (Graph & Advanced Tree Work)\n",
    "Graphs (BFS/DFS/topology), Tries (prefix trees), Union-Find (Disjoint Set Union), Recursion & Backtracking patterns\n",
    "\n"
   ]
  },
  {
   "cell_type": "markdown",
   "id": "e123777a",
   "metadata": {},
   "source": [
    "### Tier 3 (Edge / Senior / Optimization)\n",
    "\n",
    "- Segment Tree / Fenwick Tree (BIT), \n",
    "- Interval Tree / Sweep Line patterns, \n",
    "- Balanced BST variants (AVL/Red-Black)* (conceptual), *Balanced BST rarely coded from scratch; - know usage & characteristics.*\n",
    "- Bloom Filter (conceptual), LRU/LFU cache design\n"
   ]
  },
  {
   "cell_type": "markdown",
   "id": "b9af7a20",
   "metadata": {},
   "source": [
    "## 2. Arrays & Strings\n",
    "\n",
    "**Why:** Foundation for iteration, indexing, sliding window, prefix sums, sorting-based techniques.\n",
    "\n",
    "**Operations:** Index O(1), search O(n) / O(log n sorted), insert/delete middle O(n).\n",
    "\n",
    "**Patterns:** Two pointers, sliding window (fixed & variable), prefix sums, difference arrays, sorting + scan.\n",
    "\n",
    "**Representative Problems:** Longest substring w/o repeats, Reverse words, Product except self, Merge intervals, Anagram grouping.\n",
    "\n",
    "**Goals:** Implement 10–15 problems covering each pattern; be able to derive optimal window condition quickly."
   ]
  },
  {
   "cell_type": "markdown",
   "id": "dfd173f6",
   "metadata": {},
   "source": [
    "## 3. Hash Map / Set\n",
    "\n",
    "**Why:** Constant-time (amortized) lookups; cornerstone for frequency counting, de-duplication, mapping, caching.\n",
    "\n",
    "**Core Ops:** put/get/delete O(1) avg, O(n) worst-case (hash collision degenerate).\n",
    "\n",
    "**Patterns:** Frequency table, seen-set for cycle detection, mapping key -> aggregate (group anagrams), pair/complement (two-sum variants).\n",
    "\n",
    "**Representative Problems:** Group anagrams, Majority element (Boyer-Moore alternative), Two-sum style pair sums, Phone digit mapping (digit->letters).\n",
    "\n",
    "**Goals:** Comfort combining hash with sliding window & heap (e.g., Top K frequent)."
   ]
  },
  {
   "cell_type": "markdown",
   "id": "dfccf7a8",
   "metadata": {},
   "source": [
    "## 4. Stack & Queue\n",
    "\n",
    "**Why:** Expression parsing, balanced delimiters, monotonic structures, BFS.\n",
    "\n",
    "**Stack Use Cases:** Balanced parentheses, next greater element, DFS explicit, undo systems.\n",
    "\n",
    "**Queue Use Cases:** BFS layers, sliding window with monotonic deque, rate limiting design.\n",
    "\n",
    "**Practice Builds:** Implement stack using queues & queue using stacks (reinforces operation costs).\n",
    "\n",
    "**Monotonic Stack:** For spans, temperatures, histogram area (advanced).\n",
    "\n",
    "**Goals:** Recognize when order + local dependency => stack (LIFO) vs level traversal => queue (FIFO)."
   ]
  },
  {
   "cell_type": "markdown",
   "id": "ec8ca578",
   "metadata": {},
   "source": []
  }
 ],
 "metadata": {
  "kernelspec": {
   "display_name": "Python 3",
   "language": "python",
   "name": "python3"
  },
  "language_info": {
   "name": "python",
   "version": "3.13.7"
  }
 },
 "nbformat": 4,
 "nbformat_minor": 5
}
