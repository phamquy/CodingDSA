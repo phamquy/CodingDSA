{
 "cells": [
  {
   "cell_type": "code",
   "execution_count": null,
   "id": "8b630b61",
   "metadata": {},
   "outputs": [],
   "source": [
    "%%HTML\n",
    "<style>\n",
    "    body {\n",
    "        --vscode-font-family: \"Roboto Slab\"\n",
    "    }\n",
    "</style>"
   ]
  },
  {
   "cell_type": "markdown",
   "id": "d85addf3",
   "metadata": {},
   "source": [
    "# Python built in data structure"
   ]
  },
  {
   "cell_type": "markdown",
   "id": "88f7e420",
   "metadata": {},
   "source": [
    "## Built‑in core containers (Python 3):\n",
    "\n",
    "**Mutable:**\n",
    "- list (mutable sequence)\n",
    "- dict (hash map; insertion-ordered)\n",
    "- set (mutable hash set)\n",
    "- bytearray (mutable byte sequence)\n",
    "- memoryview (view onto buffer data; mutable if underlying object is writable)\n",
    "\n",
    "**Immutable:**\n",
    "- tuple (immutable sequence)\n",
    "- frozenset (immutable set)\n",
    "- str (immutable text sequence)\n",
    "- bytes (immutable byte sequence)\n",
    "- range (immutable arithmetic sequence)\n",
    "- memoryview (view onto buffer data; immutable if underlying object is read-only)\n"
   ]
  },
  {
   "cell_type": "markdown",
   "id": "e04acaaf",
   "metadata": {},
   "source": [
    "### frozenset\n"
   ]
  },
  {
   "cell_type": "markdown",
   "id": "1decc206",
   "metadata": {},
   "source": [
    "**What:** An immutable (hashable) version of a set. Cannot add/remove elements after creation.\n",
    "\n",
    "**Why / Use cases:**\n",
    "- Use as a dictionary key or as an element inside another set (regular `set` is unhashable)\n",
    "- Stable snapshot of a set for caching / memoization\n",
    "- Represent a fixed permission/feature bundle\n",
    "- Safer to expose from an API when callers must not mutate\n",
    "\n",
    "**Key properties:**\n",
    "- Supports all non‑mutating set operations: union (`|`), intersection (`&`), difference (`-`), symmetric difference (`^`), subset tests\n",
    "- Hashable (can live in other sets / dict keys)\n",
    "- Missing mutators: `add`, `remove`, `discard`, `pop`, `clear`\n",
    "- Construction cost ~ building a normal set\n",
    "\n",
    "**When to choose:** Want set semantics + immutability + hashability."
   ]
  },
  {
   "cell_type": "code",
   "execution_count": 1,
   "id": "980d4670",
   "metadata": {},
   "outputs": [
    {
     "name": "stdout",
     "output_type": "stream",
     "text": [
      "Intersection: frozenset({2, 3})\n",
      "Is b <= a? False\n",
      "Is b U a? frozenset({1, 2, 3, 4})\n",
      "Is b ^ a? frozenset({1, 4})\n",
      "Lookup by frozenset key: group123\n",
      "Cached value: computed_vector\n"
     ]
    }
   ],
   "source": [
    "# frozenset examples\n",
    "a = frozenset([1, 2, 3])\n",
    "b = frozenset([2, 3, 4])\n",
    "print('Intersection:', a & b)          # frozenset({2, 3})\n",
    "# print('Is subset?', frozenset([2,3]) <= a)\n",
    "print('Is b <= a?', b <= a)\n",
    "print('Is b U a?', b | a)\n",
    "print('Is b ^ a?', b ^ a)\n",
    "\n",
    "# Use as dict key (regular set would fail)\n",
    "weights = {a: 'group123', b: 'group234'}\n",
    "print('Lookup by frozenset key:', weights[a])\n",
    "\n",
    "# Memoization key example\n",
    "cache = {}\n",
    "features = frozenset({'age', 'balance', 'region'})\n",
    "cache[features] = 'computed_vector'\n",
    "print('Cached value:', cache[features])"
   ]
  },
  {
   "cell_type": "markdown",
   "id": "19745fab",
   "metadata": {},
   "source": [
    "### memoryview\n",
    "\n"
   ]
  },
  {
   "cell_type": "markdown",
   "id": "30cb0e8b",
   "metadata": {},
   "source": [
    "**What:** A zero‑copy view over the memory of a bytes-like object (`bytes`, `bytearray`, `array.array`, `mmap`, etc.).\n",
    "\n",
    "**Why / Use cases:**\n",
    "- Avoid copying large binary buffers when slicing or passing to functions\n",
    "- Efficient network/file protocol parsing (treat header vs payload as slices)\n",
    "- Mutate underlying buffer via a view (if original is writable like `bytearray`)\n",
    "- Reinterpret underlying bytes with different element formats via `cast()`\n",
    "\n",
    "**Key properties:**\n",
    "- Slicing returns another view (still zero‑copy)\n",
    "- Writable only if the underlying object is writable\n",
    "- `cast(format_code)` can reinterpret element size (e.g., to unsigned bytes `'B'`)\n",
    "- Converting to `bytes(mv)` (or `mv.tobytes()`) makes a copy\n",
    "\n",
    "**When to choose:** Handling large binary data streams, performance‑sensitive parsing, interoperating with C extensions / buffer protocol implementers.\n"
   ]
  },
  {
   "cell_type": "code",
   "execution_count": 2,
   "id": "25596824",
   "metadata": {},
   "outputs": [
    {
     "name": "stdout",
     "output_type": "stream",
     "text": [
      "Original buffer: bytearray(b'ABCDE')\n",
      "Slice (as list of byte values): [66, 67, 68]\n",
      "After modification via view: bytearray(b'aBCDE')\n",
      "First int raw bytes: [1, 0, 0, 0]\n",
      "Header (no copy): b'HEAD'\n",
      "Payload (no copy): b'PAYLOAD1234'\n",
      "Copied payload equals original? True\n"
     ]
    }
   ],
   "source": [
    "# memoryview examples\n",
    "buf = bytearray(b'ABCDE')\n",
    "mv = memoryview(buf)\n",
    "print('Original buffer:', buf)\n",
    "\n",
    "# Slice without copy\n",
    "sub = mv[1:4]\n",
    "print('Slice (as list of byte values):', sub.tolist())\n",
    "\n",
    "# Mutate through view\n",
    "mv[0] = ord('a')   # modifies underlying bytearray\n",
    "print('After modification via view:', buf)\n",
    "\n",
    "from array import array\n",
    "nums = array('I', [1, 2, 3])  # unsigned ints (platform dependent size, commonly 4 bytes)\n",
    "mv_nums = memoryview(nums)\n",
    "\n",
    "# Cast to bytes (unsigned char) to inspect raw representation\n",
    "first_int_bytes = mv_nums.cast('B')[:4]\n",
    "print('First int raw bytes:', list(first_int_bytes))\n",
    "\n",
    "# Zero-copy pipeline demo: simulate parsing header + payload\n",
    "packet = bytearray(b'HEADPAYLOAD1234')\n",
    "view = memoryview(packet)\n",
    "header_view = view[:4]\n",
    "payload_view = view[4:]\n",
    "print('Header (no copy):', header_view.tobytes())\n",
    "print('Payload (no copy):', payload_view.tobytes())\n",
    "\n",
    "# Force a copy\n",
    "payload_copy = bytes(payload_view)\n",
    "print('Copied payload equals original?', payload_copy == payload_view.tobytes())"
   ]
  },
  {
   "cell_type": "markdown",
   "id": "0c229e5a",
   "metadata": {},
   "source": [
    "## Related / standard library container helpers:\n",
    "\n",
    "- collections: deque, Counter, defaultdict, OrderedDict (mostly legacy), ChainMap, namedtuple\n",
    "- types: SimpleNamespace\n",
    "- array (array.array for numeric primitive arrays)\n",
    "- heapq (functions implementing a heap on a list)\n",
    "- queue: Queue, LifoQueue, PriorityQueue\n",
    "\n"
   ]
  },
  {
   "cell_type": "markdown",
   "id": "0d2d08e2",
   "metadata": {},
   "source": [
    "### Collections: \n",
    "deque, Counter, defaultdict, OrderedDict (mostly legacy), ChainMap, namedtuple\n"
   ]
  },
  {
   "cell_type": "markdown",
   "id": "fbe2a5e1",
   "metadata": {},
   "source": [
    "#### namedtuple\n"
   ]
  },
  {
   "cell_type": "markdown",
   "id": "458b177b",
   "metadata": {},
   "source": [
    "What: Lightweight, immutable tuple subclass with named fields. Provides attribute access (`p.x`) while remaining memory‑efficient like a tuple.\n",
    "\n",
    "Use cases:\n",
    "- Small, immutable records (points, RGB colors, rows from CSV)\n",
    "- Clearer code than raw tuples without full dataclass overhead\n",
    "- Backwards‑compatible with tuple unpacking\n",
    "\n",
    "Notes:\n",
    "- Fields are read‑only; to \"modify\", use `_replace` to create a new instance\n",
    "- Supports tuple operations (indexing, unpacking)\n"
   ]
  },
  {
   "cell_type": "code",
   "execution_count": 3,
   "id": "46cf2f32",
   "metadata": {},
   "outputs": [
    {
     "name": "stdout",
     "output_type": "stream",
     "text": [
      "Alice 30 F\n",
      "Unpacked: Bob 25 M\n",
      "Older Alice: Person(name='Alice', age=31, gender='F')\n"
     ]
    }
   ],
   "source": [
    "from collections import namedtuple\n",
    "\n",
    "# Define a named tuple type\n",
    "Person = namedtuple('Person', ['name', 'age', 'gender'])\n",
    "\n",
    "# Create instances\n",
    "alice = Person(name='Alice', age=30, gender='F')\n",
    "bob = Person(name='Bob', age=25, gender='M')\n",
    "\n",
    "# Access fields by name\n",
    "print(alice.name, alice.age, alice.gender)\n",
    "\n",
    "# Tuple unpacking\n",
    "name, age, gender = bob\n",
    "print('Unpacked:', name, age, gender)\n",
    "\n",
    "# Create a modified copy\n",
    "older_alice = alice._replace(age=31)\n",
    "print('Older Alice:', older_alice)"
   ]
  },
  {
   "cell_type": "markdown",
   "id": "0b26628d",
   "metadata": {},
   "source": [
    "#### defaultdict\n"
   ]
  },
  {
   "cell_type": "markdown",
   "id": "e23e6d25",
   "metadata": {},
   "source": [
    "What: dict that provides a default value for missing keys by calling a factory function (e.g., `list`, `int`, `set`).\n",
    "\n",
    "Use cases:\n",
    "- Grouping items: map key -> list of values\n",
    "- Counting or frequency maps with `int` as default\n",
    "- Building sets of related items\n",
    "\n",
    "Notes:\n",
    "- Accessing a missing key creates it with `default_factory()` result\n",
    "- Convert to regular dict with `dict(d)` if you need a plain mapping\n"
   ]
  },
  {
   "cell_type": "code",
   "execution_count": 4,
   "id": "364ca617",
   "metadata": {},
   "outputs": [
    {
     "name": "stdout",
     "output_type": "stream",
     "text": [
      "Grouped words: {'a': ['ant', 'apple'], 'b': ['bear', 'banana'], 'c': ['cat']}\n",
      "Counts: {'a': 5, 'b': 2, 'r': 2, 'c': 1, 'd': 1}\n",
      "Followers: {'alice': ['bob', 'carol']}\n",
      "Default value as 1:  1\n"
     ]
    }
   ],
   "source": [
    "# defaultdict examples\n",
    "from collections import defaultdict\n",
    "\n",
    "# Group by first letter\n",
    "groups = defaultdict(list)\n",
    "for word in ['ant', 'apple', 'bear', 'banana', 'cat']:\n",
    "    groups[word[0]].append(word)\n",
    "print('Grouped words:', dict(groups))\n",
    "\n",
    "# Frequency counting\n",
    "counts = defaultdict(int)\n",
    "for ch in 'abracadabra':\n",
    "    counts[ch] += 1\n",
    "print('Counts:', dict(counts))\n",
    "\n",
    "# Set of related items\n",
    "followers = defaultdict(set)\n",
    "followers['alice'].add('bob')\n",
    "followers['alice'].add('carol')\n",
    "print('Followers:', {k: sorted(v) for k, v in followers.items()})\n",
    "\n",
    "# default with lambda   \n",
    "followers = defaultdict(lambda: 1)\n",
    "print (\"Default value as 1: \",  followers['new_user'])  # Outputs 1"
   ]
  },
  {
   "cell_type": "markdown",
   "id": "b01865ba",
   "metadata": {},
   "source": [
    "#### Counter\n"
   ]
  },
  {
   "cell_type": "markdown",
   "id": "635ca162",
   "metadata": {},
   "source": [
    "What: A dict subclass for counting ***hashable*** items. Provides convenient methods for frequency analysis.\n",
    "\n",
    "Use cases:\n",
    "- Character/word frequency, top‑K elements\n",
    "- Multiset arithmetic (addition/subtraction between Counters)\n",
    "- Quick histogramming\n",
    "\n",
    "Notes:\n",
    "- `most_common(n)` returns top frequencies\n",
    "- Supports arithmetic and `elements()` iterator\n"
   ]
  },
  {
   "cell_type": "code",
   "execution_count": 5,
   "id": "acffca88",
   "metadata": {},
   "outputs": [
    {
     "name": "stdout",
     "output_type": "stream",
     "text": [
      "Counts: Counter({'a': 5, 'b': 2, 'r': 2, 'c': 1, 'd': 1})\n",
      "Top 2: [('a', 5), ('b', 2)]\n",
      "After update: Counter({'a': 8, 'b': 3, 'r': 2, 'n': 2, 'c': 1, 'd': 1})\n",
      "c1 + c2: Counter({'a': 3, 'b': 2, 'c': 1})\n",
      "c1 - c2: Counter({'a': 1})\n",
      "Elements: aaaaaaaabbbcdnnrr\n"
     ]
    }
   ],
   "source": [
    "# Counter examples\n",
    "from collections import Counter\n",
    "\n",
    "s = 'abracadabra'\n",
    "ctr = Counter(s)\n",
    "print('Counts:', ctr)\n",
    "print('Top 2:', ctr.most_common(2))\n",
    "\n",
    "# Update counts from iterable\n",
    "ctr.update('banana')\n",
    "print('After update:', ctr)\n",
    "\n",
    "# Arithmetic with Counters\n",
    "c1 = Counter('aab')\n",
    "c2 = Counter('abc')\n",
    "print('c1 + c2:', c1 + c2)        # sum of counts\n",
    "print('c1 - c2:', c1 - c2)        # subtract, non‑negative only\n",
    "\n",
    "# Reconstruct elements\n",
    "print('Elements:', ''.join(sorted(ctr.elements())))"
   ]
  },
  {
   "cell_type": "markdown",
   "id": "1d68c01f",
   "metadata": {},
   "source": [
    "#### OrderedDict\n"
   ]
  },
  {
   "cell_type": "markdown",
   "id": "176c268e",
   "metadata": {},
   "source": [
    "What: A dict subclass that preserves insertion order. Since Python 3.7+, built‑in `dict` also preserves insertion order, so `OrderedDict` is now mostly for advanced order‑specific operations.\n",
    "\n",
    "Use cases:\n",
    "- Order‑aware methods like `move_to_end`, `popitem(last=False)`\n",
    "- LRU‑like structures where moving keys to front/back matters\n",
    "\n",
    "Notes:\n",
    "- Prefer plain `dict` unless you specifically need the extra methods\n"
   ]
  },
  {
   "cell_type": "code",
   "execution_count": 6,
   "id": "57071d8c",
   "metadata": {},
   "outputs": [
    {
     "name": "stdout",
     "output_type": "stream",
     "text": [
      "Initial: [('a', 1), ('b', 2), ('c', 3)]\n",
      "After move_to_end(\"a\"): [('b', 2), ('c', 3), ('a', 1)]\n",
      "Popped first: ('b', 2)\n",
      "Remaining: [('c', 3), ('a', 1)]\n"
     ]
    }
   ],
   "source": [
    "# OrderedDict examples\n",
    "from collections import OrderedDict\n",
    "\n",
    "od = OrderedDict()\n",
    "od['a'] = 1\n",
    "od['b'] = 2\n",
    "od['c'] = 3\n",
    "print('Initial:', list(od.items()))\n",
    "\n",
    "# Move a key to the end (or beginning with last=False)\n",
    "od.move_to_end('a')\n",
    "print('After move_to_end(\"a\"):', list(od.items()))\n",
    "\n",
    "# Pop item from the beginning (queue-like)\n",
    "first = od.popitem(last=False)\n",
    "print('Popped first:', first)\n",
    "print('Remaining:', list(od.items()))"
   ]
  },
  {
   "cell_type": "markdown",
   "id": "664cb20b",
   "metadata": {},
   "source": [
    "#### deque\n"
   ]
  },
  {
   "cell_type": "markdown",
   "id": "531fc0de",
   "metadata": {},
   "source": [
    "What: A double‑ended queue with O(1) appends and pops from both ends.\n",
    "\n",
    "Use cases:\n",
    "- Implement queues, stacks, sliding windows\n",
    "- BFS traversal, task scheduling\n",
    "- Maintain fixed‑size windows with `maxlen`\n",
    "\n",
    "Notes:\n",
    "- Methods: `append`, `appendleft`, `pop`, `popleft`, `rotate`, optional `maxlen`\n"
   ]
  },
  {
   "cell_type": "code",
   "execution_count": 7,
   "id": "a73225ad",
   "metadata": {},
   "outputs": [
    {
     "name": "stdout",
     "output_type": "stream",
     "text": [
      "Queue pop left: task1\n",
      "Queue now: ['task2']\n",
      "Stack pop: 2\n",
      "Window: [1]\n",
      "Window: [1, 2]\n",
      "Window: [1, 2, 3]\n",
      "Window: [2, 3, 4]\n",
      "Window: [3, 4, 5]\n",
      "Rotated: ['C', 'A', 'B']\n"
     ]
    }
   ],
   "source": [
    "# deque examples\n",
    "from collections import deque\n",
    "\n",
    "# Queue behavior\n",
    "q = deque()\n",
    "q.append('task1')\n",
    "q.append('task2')\n",
    "print('Queue pop left:', q.popleft())\n",
    "print('Queue now:', list(q))\n",
    "\n",
    "# Stack behavior\n",
    "stack = deque()\n",
    "stack.append(1)\n",
    "stack.append(2)\n",
    "print('Stack pop:', stack.pop())\n",
    "\n",
    "# Sliding window with fixed size\n",
    "window = deque(maxlen=3)\n",
    "for n in [1,2,3,4,5]:\n",
    "    window.append(n)\n",
    "    print('Window:', list(window))\n",
    "\n",
    "# Rotate (useful for round‑robin)\n",
    "ring = deque(['A','B','C'])\n",
    "ring.rotate(1)\n",
    "print('Rotated:', list(ring))"
   ]
  },
  {
   "cell_type": "markdown",
   "id": "53d94b38",
   "metadata": {},
   "source": [
    "#### ChainMap\n"
   ]
  },
  {
   "cell_type": "markdown",
   "id": "d1f107f2",
   "metadata": {},
   "source": [
    "What: Groups multiple dicts to view them as a single mapping. Lookups search each mapping in order; updates go to the first mapping by default.\n",
    "\n",
    "Use cases:\n",
    "- Layered configurations (defaults < env < CLI)\n",
    "- Scoped variable lookups (e.g., nested contexts)\n",
    "\n",
    "Notes:\n",
    "- Non‑destructive: underlying dicts remain separate\n",
    "- Can add temporary layers with `new_child()`\n"
   ]
  },
  {
   "cell_type": "code",
   "execution_count": 8,
   "id": "03a6b11e",
   "metadata": {},
   "outputs": [
    {
     "name": "stdout",
     "output_type": "stream",
     "text": [
      "timeout: 10\n",
      "retries: 2\n",
      "verbose: True\n",
      "user_cfg after update via ChainMap: {'timeout': 10}\n",
      "scoped retries: 9\n",
      "original retries still: 2\n"
     ]
    }
   ],
   "source": [
    "# ChainMap examples\n",
    "from collections import ChainMap\n",
    "\n",
    "defaults = {'timeout': 30, 'retries': 2}\n",
    "user_cfg = {'timeout': 10}\n",
    "cli_args = {'verbose': True}\n",
    "\n",
    "cm = ChainMap(cli_args, user_cfg, defaults)\n",
    "print('timeout:', cm['timeout'])   # 10 from user_cfg (overrides defaults)\n",
    "print('retries:', cm['retries'])   # 2 from defaults\n",
    "print('verbose:', cm['verbose'])   # from cli_args\n",
    "\n",
    "# Updates go to first mapping\n",
    "cm['timeout'] = 5\n",
    "print('user_cfg after update via ChainMap:', user_cfg)\n",
    "\n",
    "# Temporary scope\n",
    "scoped = cm.new_child({'retries': 9})\n",
    "print('scoped retries:', scoped['retries'])  # 9\n",
    "print('original retries still:', cm['retries'])"
   ]
  },
  {
   "cell_type": "markdown",
   "id": "3d85cd71",
   "metadata": {},
   "source": [
    "### SimpleNamespace\n"
   ]
  },
  {
   "cell_type": "markdown",
   "id": "8d06c72b",
   "metadata": {},
   "source": [
    "#### What and why\n",
    "- What: `types.SimpleNamespace` is a tiny, mutable object whose attributes are stored in `__dict__`. It’s like a lightweight, attribute-accessible wrapper around a dict: access with `obj.x` instead of `obj[\"x\"]`.\n",
    "- Why/use cases:\n",
    "  - Quick ad‑hoc records/structs in scripts and notebooks\n",
    "  - Lightweight configuration trees (e.g., `cfg.db.uri`)\n",
    "  - Converting dicts to objects for clearer, dot-style access\n",
    "  - Prototyping when a full dataclass/class is overkill\n",
    "\n",
    "Notes and gotchas:\n",
    "- It’s mutable and allows creating new attributes at any time (typos won’t error; they create new attributes).\n",
    "- It doesn’t enforce a schema or types; for stricter models prefer `dataclasses`, `pydantic`, or `attrs`.\n",
    "- Convert to dict with `vars(obj)`; create from dict with `SimpleNamespace(**d)`."
   ]
  },
  {
   "cell_type": "code",
   "execution_count": 9,
   "id": "396f736f",
   "metadata": {},
   "outputs": [
    {
     "name": "stdout",
     "output_type": "stream",
     "text": [
      "cfg: namespace(host='localhost', port=5432, debug=True)\n",
      "host: localhost\n",
      "updated cfg: namespace(host='localhost', port=5432, debug=False, timeout=30)\n",
      "user: namespace(user='alice', roles=['admin', 'editor'])\n",
      "as dict: {'user': 'alice', 'roles': ['admin', 'editor']}\n",
      "merged: namespace(user='alice', roles=['admin', 'editor'], active=True)\n",
      "nested access: postgres://localhost/db\n",
      "updated db: namespace(uri='postgres://localhost/db', retries=5, pool_size=10)\n",
      "cfg JSON: {\"host\": \"localhost\", \"port\": 5432, \"debug\": false, \"timeout\": 30}\n",
      "has typo attr? True debug: False\n"
     ]
    }
   ],
   "source": [
    "# SimpleNamespace examples\n",
    "from types import SimpleNamespace\n",
    "import json\n",
    "\n",
    "# Create and access attributes\n",
    "cfg = SimpleNamespace(host=\"localhost\", port=5432, debug=True)\n",
    "print(\"cfg:\", cfg)                 # SimpleNamespace(debug=True, host='localhost', port=5432)\n",
    "print(\"host:\", cfg.host)\n",
    "\n",
    "# Mutate and add attributes dynamically\n",
    "cfg.debug = False\n",
    "setattr(cfg, \"timeout\", 30)\n",
    "print(\"updated cfg:\", cfg)\n",
    "\n",
    "# From dict -> SimpleNamespace, and back\n",
    "payload = {\"user\": \"alice\", \"roles\": [\"admin\", \"editor\"]}\n",
    "user = SimpleNamespace(**payload)\n",
    "print(\"user:\", user)\n",
    "print(\"as dict:\", vars(user))      # {'user': 'alice', 'roles': ['admin', 'editor']}\n",
    "\n",
    "# Merge/update many keys at once via vars()\n",
    "extra = {\"active\": True}\n",
    "merged = SimpleNamespace(**{**vars(user), **extra})\n",
    "print(\"merged:\", merged)\n",
    "\n",
    "# Nested namespaces for lightweight config trees\n",
    "app = SimpleNamespace(\n",
    "    db=SimpleNamespace(uri=\"postgres://localhost/db\", retries=3),\n",
    "    api=SimpleNamespace(base_url=\"https://api.example.com\", token=None),\n",
    ")\n",
    "print(\"nested access:\", app.db.uri)\n",
    "\n",
    "# Bulk update nested fields\n",
    "vars(app.db).update({\"retries\": 5, \"pool_size\": 10})\n",
    "print(\"updated db:\", app.db)\n",
    "\n",
    "# JSON tip: convert to dict first\n",
    "print(\"cfg JSON:\", json.dumps(vars(cfg)))\n",
    "\n",
    "# Gotcha: typos create new attributes silently\n",
    "cfg.debg = True  # typo! creates a new attribute\n",
    "print(\"has typo attr?\", hasattr(cfg, \"debg\"), \"debug:\", cfg.debug)"
   ]
  },
  {
   "cell_type": "markdown",
   "id": "2ea4d92e",
   "metadata": {},
   "source": [
    "### heapq (functions implementing a heap on a list)\n"
   ]
  },
  {
   "cell_type": "markdown",
   "id": "d72724df",
   "metadata": {},
   "source": [
    "#### What and why\n",
    "- What: `heapq` implements a min-heap on top of a plain Python list. The smallest item is always at index 0, and pushes/pops are O(log n).\n",
    "- Why/use cases:\n",
    "  - Priority queue (always process the lowest-cost/earliest-deadline item next)\n",
    "  - Top-K selection with `nlargest`/`nsmallest` without sorting the whole dataset\n",
    "  - Streaming scenarios where you maintain a rolling top/bottom set efficiently\n",
    "  - Graph/search algorithms (Dijkstra/A*, event simulation)\n",
    "\n",
    "Notes and tips:\n",
    "- It’s a min-heap; for a max-heap, push negated priorities (e.g., `(-priority, item)`).\n",
    "- Prefer `heappushpop(h, x)` to push then pop for better constant factors; `heapreplace(h, x)` pops then pushes (heap must be non-empty).\n",
    "- Use `heapify(list_)` to transform a list into a heap in O(n).\n",
    "- `nlargest(n, iterable, key=...)` and `nsmallest(...)` are often the simplest way to get top/bottom K."
   ]
  },
  {
   "cell_type": "code",
   "execution_count": 10,
   "id": "eaafb7f5",
   "metadata": {},
   "outputs": [
    {
     "name": "stdout",
     "output_type": "stream",
     "text": [
      "heap: [1, 2, 3, 7, 5]\n",
      "min pop: 1\n",
      "after pop: [2, 5, 3, 7]\n",
      "heapified: [2, 4, 6, 9, 8]\n",
      "after push 1: [1, 4, 2, 9, 8, 6]\n",
      "pop min: 1\n",
      "top-3 largest: [15, 10, 8]\n",
      "top-3 smallest: [1, 3, 6]\n",
      "max pop: 30\n",
      "run: 0 task-high\n",
      "run: 1 task-mid\n",
      "run: 2 task-low\n",
      "h2 start: [3, 5, 8]\n",
      "heappushpop(h2, 4): 3\n",
      "after: [4, 5, 8]\n",
      "heapreplace(h2, 10): 4\n",
      "after: [5, 10, 8]\n"
     ]
    }
   ],
   "source": [
    "# heapq examples\n",
    "import heapq\n",
    "from itertools import count\n",
    "\n",
    "# 1) Basic push/pop (min-heap)\n",
    "h = []\n",
    "for x in [5, 1, 3, 7, 2]:\n",
    "    heapq.heappush(h, x)\n",
    "print('heap:', h)                 # internal structure (heap-ordered, not sorted)\n",
    "print('min pop:', heapq.heappop(h))  # -> 1\n",
    "print('after pop:', h)\n",
    "\n",
    "# 2) Heapify existing list (O(n))\n",
    "data = [9, 4, 6, 2, 8]\n",
    "heapq.heapify(data)\n",
    "print('heapified:', data)\n",
    "heapq.heappush(data, 1)\n",
    "print('after push 1:', data)\n",
    "print('pop min:', heapq.heappop(data))\n",
    "\n",
    "# 3) Top-K with nlargest/nsmallest\n",
    "nums = [10, 1, 7, 3, 15, 6, 8]\n",
    "print('top-3 largest:', heapq.nlargest(3, nums))\n",
    "print('top-3 smallest:', heapq.nsmallest(3, nums))\n",
    "\n",
    "# 4) Max-heap pattern via negation\n",
    "maxh = []\n",
    "for score in [10, 30, 20]:\n",
    "    heapq.heappush(maxh, (-score, score))  # (negated key, original)\n",
    "print('max pop:', heapq.heappop(maxh)[1])  # -> 30\n",
    "\n",
    "# 5) Priority queue with (priority, tie-breaker, item)\n",
    "pq = []\n",
    "tie = count()  # strictly increasing counter to avoid comparing items on ties\n",
    "heapq.heappush(pq, (2, next(tie), 'task-low'))\n",
    "heapq.heappush(pq, (0, next(tie), 'task-high'))\n",
    "heapq.heappush(pq, (1, next(tie), 'task-mid'))\n",
    "while pq:\n",
    "    prio, _, task = heapq.heappop(pq)\n",
    "    print('run:', prio, task)\n",
    "\n",
    "# 6) heappushpop / heapreplace contrast\n",
    "h2 = [3, 5, 8]\n",
    "heapq.heapify(h2)\n",
    "print('h2 start:', h2)\n",
    "print('heappushpop(h2, 4):', heapq.heappushpop(h2, 4))   # pushes 4, then pops min (<= 4)\n",
    "print('after:', h2)\n",
    "print('heapreplace(h2, 10):', heapq.heapreplace(h2, 10)) # pops min, then pushes 10\n",
    "print('after:', h2)"
   ]
  },
  {
   "cell_type": "code",
   "execution_count": 1,
   "id": "12e0cfbd",
   "metadata": {},
   "outputs": [
    {
     "name": "stdout",
     "output_type": "stream",
     "text": [
      "Heapified tasks: [Task(priority=1, name='fix bug'), Task(priority=3, name='write docs'), Task(priority=2, name='add feature')]\n",
      "Next task: Task(priority=1, name='fix bug')\n",
      "Next task: Task(priority=2, name='add feature')\n",
      "Next task: Task(priority=3, name='write docs')\n"
     ]
    }
   ],
   "source": [
    "import heapq\n",
    "\n",
    "# heapq with complex objects (e.g., custom class with priority)\n",
    "\n",
    "class Task:\n",
    "    def __init__(self, priority, name):\n",
    "        self.priority = priority\n",
    "        self.name = name\n",
    "    def __lt__(self, other):\n",
    "        return self.priority < other.priority  # heapq uses < for ordering\n",
    "    def __repr__(self):\n",
    "        return f\"Task(priority={self.priority}, name='{self.name}')\"\n",
    "\n",
    "tasks = [\n",
    "    Task(3, 'write docs'),\n",
    "    Task(1, 'fix bug'),\n",
    "    Task(2, 'add feature'),\n",
    "]\n",
    "\n",
    "heapq.heapify(tasks)\n",
    "print('Heapified tasks:', tasks)\n",
    "\n",
    "# Pop tasks by priority\n",
    "while tasks:\n",
    "    print('Next task:', heapq.heappop(tasks))"
   ]
  },
  {
   "cell_type": "code",
   "execution_count": 2,
   "id": "581982dc",
   "metadata": {},
   "outputs": [
    {
     "name": "stdout",
     "output_type": "stream",
     "text": [
      "Next by name: Task(priority=2, name='add feature')\n",
      "Next by name: Task(priority=1, name='fix bug')\n",
      "Next by name: Task(priority=3, name='write docs')\n"
     ]
    }
   ],
   "source": [
    "import heapq\n",
    "\n",
    "# Example: heapq with custom key using a wrapper and lambda\n",
    "\n",
    "class Task:\n",
    "    def __init__(self, priority, name):\n",
    "        self.priority = priority\n",
    "        self.name = name\n",
    "    def __repr__(self):\n",
    "        return f\"Task(priority={self.priority}, name='{self.name}')\"\n",
    "\n",
    "# Suppose we want to heapify by name instead of priority\n",
    "tasks = [\n",
    "    Task(3, 'write docs'),\n",
    "    Task(1, 'fix bug'),\n",
    "    Task(2, 'add feature'),\n",
    "]\n",
    "\n",
    "# Use a wrapper: (key, item)\n",
    "heap = [(t.name, t) for t in tasks]\n",
    "heapq.heapify(heap)\n",
    "\n",
    "# Pop by name (alphabetical order)\n",
    "while heap:\n",
    "    name, task = heapq.heappop(heap)\n",
    "    print('Next by name:', task)"
   ]
  },
  {
   "cell_type": "markdown",
   "id": "87d923a9",
   "metadata": {},
   "source": [
    "### queue: Queue, LifoQueue, PriorityQueue"
   ]
  },
  {
   "cell_type": "markdown",
   "id": "28d19109",
   "metadata": {},
   "source": [
    "#### What and why\n",
    "- What: The `queue` module provides thread-safe FIFO (`Queue`), LIFO (`LifoQueue`), and `PriorityQueue` classes with built-in locking, optional maxsize/backpressure, and task tracking.\n",
    "- Why/use cases:\n",
    "  - Producer/consumer pipelines across threads with automatic blocking when empty/full\n",
    "  - Work scheduling with backpressure via `maxsize` to avoid unbounded memory\n",
    "  - Prioritized task execution using `(priority, item)` tuples in `PriorityQueue`\n",
    "  - Thread-safe stack semantics with `LifoQueue`\n",
    "\n",
    "Notes and tips:\n",
    "- `put()` blocks when full; `get()` blocks when empty. Use `timeout=` or `block=False` for non-blocking behavior.\n",
    "- Call `task_done()` after finishing an item so `q.join()` can know when all work is complete.\n",
    "- For single-threaded usage, prefer simpler structures (`deque`, `heapq`). `queue` is about thread-safety."
   ]
  },
  {
   "cell_type": "code",
   "execution_count": 11,
   "id": "81d9f0cb",
   "metadata": {},
   "outputs": [
    {
     "name": "stdout",
     "output_type": "stream",
     "text": [
      "produced 0\n",
      "produced 1\n",
      "produced 2\n",
      "produced 3\n",
      "consumed 0\n",
      "produced 4\n",
      "consumed 1\n",
      "consumed 2\n",
      "consumed 3\n",
      "consumed 4\n",
      "results: [0, 2, 4, 6, 8]\n",
      "LIFO pop: 3 2 1\n",
      "run: 0 high\n",
      "run: 1 mid\n",
      "run: 2 low\n"
     ]
    }
   ],
   "source": [
    "# queue module examples: FIFO, LIFO, PriorityQueue\n",
    "import threading\n",
    "import time\n",
    "from queue import Queue, LifoQueue, PriorityQueue\n",
    "\n",
    "# 1) FIFO Queue with producer/consumer and task tracking\n",
    "q = Queue(maxsize=3)  # small size to demonstrate backpressure\n",
    "results = []\n",
    "\n",
    "def producer():\n",
    "    for i in range(5):\n",
    "        q.put(i)            # blocks if q is full\n",
    "        print('produced', i)\n",
    "    q.put(None)             # sentinel to stop consumer\n",
    "\n",
    "def consumer():\n",
    "    while True:\n",
    "        item = q.get()       # blocks if q is empty\n",
    "        if item is None:\n",
    "            q.task_done()\n",
    "            break\n",
    "        # simulate work\n",
    "        time.sleep(0.05)\n",
    "        results.append(item * 2)\n",
    "        print('consumed', item)\n",
    "        q.task_done()        # mark one task as done\n",
    "\n",
    "t_prod = threading.Thread(target=producer)\n",
    "t_cons = threading.Thread(target=consumer)\n",
    "t_prod.start(); t_cons.start()\n",
    "q.join()   # wait for all tasks to be marked done\n",
    "t_prod.join(); t_cons.join()\n",
    "print('results:', results)\n",
    "\n",
    "# 2) LifoQueue behaves like a stack\n",
    "stack = LifoQueue()\n",
    "for x in [1, 2, 3]:\n",
    "    stack.put(x)\n",
    "print('LIFO pop:', stack.get(), stack.get(), stack.get())\n",
    "\n",
    "# 3) PriorityQueue with (priority, tie-breaker, item)\n",
    "pq = PriorityQueue()\n",
    "counter = 0\n",
    "for prio, task in [(2, 'low'), (0, 'high'), (1, 'mid')]:\n",
    "    pq.put((prio, counter, task)); counter += 1\n",
    "while not pq.empty():\n",
    "    prio, _, task = pq.get()\n",
    "    print('run:', prio, task)\n",
    "    pq.task_done()"
   ]
  },
  {
   "cell_type": "markdown",
   "id": "b8c0e07e",
   "metadata": {},
   "source": [
    "## Mutability quick note:\n",
    "\n",
    "- Mutable: list, dict, set, bytearray, deque, array.array, memoryview (if underlying is writable)\n",
    "- Immutable: tuple, frozenset, str, bytes, range"
   ]
  }
 ],
 "metadata": {
  "kernelspec": {
   "display_name": "Python 3",
   "language": "python",
   "name": "python3"
  },
  "language_info": {
   "codemirror_mode": {
    "name": "ipython",
    "version": 3
   },
   "file_extension": ".py",
   "mimetype": "text/x-python",
   "name": "python",
   "nbconvert_exporter": "python",
   "pygments_lexer": "ipython3",
   "version": "3.13.7"
  }
 },
 "nbformat": 4,
 "nbformat_minor": 5
}
